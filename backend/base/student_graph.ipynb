{
 "cells": [
  {
   "cell_type": "markdown",
   "metadata": {},
   "source": [
    "# Importing the necessary Libraries"
   ]
  },
  {
   "cell_type": "code",
   "execution_count": 54,
   "metadata": {},
   "outputs": [],
   "source": [
    "# vector_script.py\n",
    "from dotenv import load_dotenv\n",
    "import os\n",
    "from langchain.chains import LLMChain\n",
    "from langchain_chroma import Chroma\n",
    "from langchain.prompts import ChatPromptTemplate, HumanMessagePromptTemplate, MessagesPlaceholder\n",
    "from langchain.memory import ConversationBufferMemory\n",
    "from langchain_nvidia_ai_endpoints import ChatNVIDIA\n",
    "from vector_store import create_db, store_report\n",
    "from langchain_nvidia_ai_endpoints import NVIDIAEmbeddings\n",
    "from prompt import prompt_with_data, prompt_without_data\n",
    "from nemoguardrails import LLMRails, RailsConfig\n",
    "from langchain_community.tools.tavily_search import TavilySearchResults\n",
    "from typing import List, Callable, Any\n",
    "from langchain_core.pydantic_v1 import BaseModel, Field\n",
    "from prompt import prompt_with_route_query,prompt_with_TavilySearchInput,prompt_with_query_correction\n",
    "from prompt import prompt_with_memory_history\n",
    "from langchain import hub\n",
    "from langchain.agents import AgentExecutor, create_react_agent\n",
    "from langchain_community.tools.tavily_search import TavilySearchResults\n",
    "from keys import nvidia_api_key,tavily_api_key,langchain_api_key,model_memory\n",
    "import json\n",
    "import asyncio\n",
    "\n"
   ]
  },
  {
   "cell_type": "markdown",
   "metadata": {},
   "source": [
    "# Configure the environment "
   ]
  },
  {
   "cell_type": "code",
   "execution_count": 55,
   "metadata": {},
   "outputs": [],
   "source": [
    "os.environ[\"NVIDIA_API_KEY\"] = \"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\"\n",
    "embedder = NVIDIAEmbeddings()"
   ]
  },
  {
   "cell_type": "code",
   "execution_count": 56,
   "metadata": {},
   "outputs": [],
   "source": [
    "import sqlite3\n",
    "\n",
    "def retrieve_data(Email_Id: str) -> str:\n",
    "    \"\"\"\n",
    "    Retrieves the last progress report of a student from the SQLite database using Email_Id.\n",
    "\n",
    "    This function connects to the 'student_report.db' SQLite database and queries the \n",
    "    'new_Student_Progress_report' table for the report associated with the provided Email_Id. \n",
    "    If a report is found, the last one is returned as a string; otherwise, the function returns None.\n",
    "\n",
    "    Args:\n",
    "        Email_Id (str): The unique email identifier for the student whose report is to be retrieved.\n",
    "\n",
    "    Returns:\n",
    "        str or None: The student's last progress report as a string if found, otherwise None.\n",
    "    \"\"\"\n",
    "    path = \"/hackathon_teams/hack_team_11/workspace/Nvidia_nim_hackathon/backend/base/student_report.db\"\n",
    "    my_connection = sqlite3.connect(path)\n",
    "    my_cursor = my_connection.cursor()\n",
    "    \n",
    "    # Retrieve reports based on Email_Id\n",
    "    my_cursor.execute('SELECT Timestamp,Report FROM new_Student_Progress_report WHERE Email_Id = ?', (Email_Id,))\n",
    "    results = my_cursor.fetchall()\n",
    "    \n",
    "    my_connection.close()\n",
    "    \n",
    "    # Check if any results were found\n",
    "    if results:\n",
    "        # Return the last report as a string\n",
    "        return results  # Access the last element and the first item in the tuple\n",
    "    else:\n",
    "        return None\n"
   ]
  },
  {
   "cell_type": "code",
   "execution_count": null,
   "metadata": {},
   "outputs": [],
   "source": []
  },
  {
   "cell_type": "code",
   "execution_count": 58,
   "metadata": {},
   "outputs": [
    {
     "data": {
      "text/plain": [
       "[('2024-10-15 09:03:05',\n",
       "  \"After analyzing the provided JSON data, I have generated the report based on the student's performance in the NEET Biology exam.\\n\\n**Overall Score Summary**\\n\\n* Total Questions Answered: 30\\n* Total Correct Answers: 6\\n* Total Incorrect Answers: 24\\n* Overall Accuracy Percentage: 20%\\n\\n**Chapter-wise Analysis**\\n\\n* **Reproduction**:\\n  * Total Questions Answered: 12\\n  * Correct Answers: 2\\n  * Incorrect Answers: 10\\n  * Accuracy Percentage: 16.67%\\n* **Diversity in Living World**:\\n  * Total Questions Answered: 3\\n  * Correct Answers: 1\\n  * Incorrect Answers: 2\\n  * Accuracy Percentage: 33.33%\\n* **Cell Structure and Function**:\\n  * Total Questions Answered: 4\\n  * Correct Answers: 1\\n  * Incorrect Answers: 3\\n  * Accuracy Percentage: 25%\\n* **Genetics and Evolution**:\\n  * Total Questions Answered: 3\\n  * Correct Answers: 0\\n  * Incorrect Answers: 3\\n  * Accuracy Percentage: 0%\\n* **Structural Organization in Plants and Animals**:\\n  * Total Questions Answered: 2\\n  * Correct Answers: 0\\n  * Incorrect Answers: 2\\n  * Accuracy Percentage: 0%\\n* **Biology and Human Welfare**:\\n  * Total Questions Answered: 1\\n  * Correct Answers: 0\\n  * Incorrect Answers: 1\\n  * Accuracy Percentage: 0%\\n* **Growth and Development**:\\n  * Total Questions Answered: 1\\n  * Correct Answers: 0\\n  * Incorrect Answers: 1\\n  * Accuracy Percentage: 0%\\n* **Plant Physiology**:\\n  * Total Questions Answered: 1\\n  * Correct Answers: 0\\n  * Incorrect Answers: 1\\n  * Accuracy Percentage: 0%\\n\\n**Topic-wise Breakdown within Chapters**\\n\\n* **Reproduction**:\\n  * Subtopic: Types of reproduction\\n    - Questions Attempted: 2\\n    - Correct Answers: 1\\n    - Incorrect Answers: 1\\n    - Accuracy Percentage: 50%\\n  * Subtopic: Embryonic development\\n    - Questions Attempted: 3\\n    - Correct Answers: 0\\n    - Incorrect Answers: 3\\n    - Accuracy Percentage: 0%\\n  * Subtopic: Reproductive systems\\n    - Questions Attempted: 4\\n    - Correct Answers: 1\\n    - Incorrect Answers: 3\\n    - Accuracy Percentage: 25%\\n* **Diversity in Living World**:\\n  * Subtopic: Classification of living organisms\\n    - Questions Attempted: 2\\n    - Correct Answers: 1\\n    - Incorrect Answers: 1\\n    - Accuracy Percentage: 50%\\n  * Subtopic: Taxonomic categories\\n    - Questions Attempted: 1\\n    - Correct Answers: 0\\n    - Incorrect Answers: 1\\n    - Accuracy Percentage: 0%\\n* **Cell Structure and Function**:\\n  * Subtopic: Cell membrane\\n    - Questions Attempted: 1\\n    - Correct Answers: 1\\n    - Incorrect Answers: 0\\n    - Accuracy Percentage: 100%\\n  * Subtopic: Cell division\\n    - Questions Attempted: 2\\n    - Correct Answers: 0\\n    - Incorrect Answers: 2\\n    - Accuracy Percentage: 0%\\n* **Genetics and Evolution**:\\n  * Subtopic: Mendelian inheritance\\n    - Questions Attempted: 1\\n    - Correct Answers: 0\\n    - Incorrect Answers: 1\\n    - Accuracy Percentage: 0%\\n  * Subtopic: Evolutionary theories\\n    - Questions Attempted: 1\\n    - Correct Answers: 0\\n    - Incorrect Answers: 1\\n    - Accuracy Percentage: 0%\\n\\n**Actionable Suggestions for Improvement**\\n\\n* **Reproduction**:\\n  * Review embryonic development and reproductive systems.\\n  * Practice questions on types of reproduction.\\n* **Diversity in Living World**:\\n  * Review classification of living organisms and taxonomic categories.\\n  * Practice questions on these topics.\\n* **Cell Structure and Function**:\\n  * Review cell division and cell membrane structure.\\n  * Practice questions on these topics.\\n* **Genetics and Evolution**:\\n  * Review Mendelian inheritance and evolutionary theories.\\n  * Practice questions on these topics.\\n\\n**Progress Comparison**\\n\\n* **Overall Accuracy**:\\n  * Previous: Not Available\\n  * Current: 20%\\n  * Change: Not Applicable\\n\\n**Overall Summary and Motivational Message**\\n\\nYou have attempted 30 questions and scored 20% accuracy. You have shown strength in cell structure and function, but need to improve in reproduction, diversity in living world, genetics and evolution, and other areas. Review the suggested topics and practice questions to improve your performance. Keep working hard and you will see improvement in your future attempts. Good luck!\"),\n",
       " ('2024-10-15 09:06:19',\n",
       "  '**Overall Score Summary**\\n\\n* Total Questions Answered: 30\\n* Total Correct Answers: 10\\n* Total Incorrect Answers: 20\\n* Overall Accuracy Percentage: 33.33%\\n\\n**Chapter-wise Analysis**\\n\\n* **Diversity in Living World**:\\n  * Total Questions Answered: 7\\n  * Correct Answers: 5\\n  * Incorrect Answers: 2\\n  * Accuracy Percentage: 71.43%\\n* **Genetics and Evolution**:\\n  * Total Questions Answered: 5\\n  * Correct Answers: 2\\n  * Incorrect Answers: 3\\n  * Accuracy Percentage: 40%\\n* **Cell Structure and Function**:\\n  * Total Questions Answered: 4\\n  * Correct Answers: 2\\n  * Incorrect Answers: 2\\n  * Accuracy Percentage: 50%\\n* **Reproduction**:\\n  * Total Questions Answered: 3\\n  * Correct Answers: 1\\n  * Incorrect Answers: 2\\n  * Accuracy Percentage: 33.33%\\n* **Structural Organization in Plants and Animals**:\\n  * Total Questions Answered: 2\\n  * Correct Answers: 0\\n  * Incorrect Answers: 2\\n  * Accuracy Percentage: 0%\\n* **Biology and Human Welfare**:\\n  * Total Questions Answered: 1\\n  * Correct Answers: 0\\n  * Incorrect Answers: 1\\n  * Accuracy Percentage: 0%\\n\\n**Topic-wise Breakdown within Chapters**\\n\\n* **Diversity in Living World**:\\n  * Subtopic: Classification of living organisms\\n    - Questions Attempted: 4\\n    - Correct Answers: 3\\n    - Incorrect Answers: 1\\n    - Accuracy Percentage: 75%\\n  * Subtopic: Taxonomic categories\\n    - Questions Attempted: 1\\n    - Correct Answers: 0\\n    - Incorrect Answers: 1\\n    - Accuracy Percentage: 0%\\n  * Subtopic: Biodiversity\\n    - Questions Attempted: 2\\n    - Correct Answers: 2\\n    - Incorrect Answers: 0\\n    - Accuracy Percentage: 100%\\n* **Genetics and Evolution**:\\n  * Subtopic: Mendelian inheritance\\n    - Questions Attempted: 1\\n    - Correct Answers: 0\\n    - Incorrect Answers: 1\\n    - Accuracy Percentage: 0%\\n  * Subtopic: Evolutionary theories\\n    - Questions Attempted: 2\\n    - Correct Answers: 1\\n    - Incorrect Answers: 1\\n    - Accuracy Percentage: 50%\\n  * Subtopic: Genetic variation\\n    - Questions Attempted: 2\\n    - Correct Answers: 1\\n    - Incorrect Answers: 1\\n    - Accuracy Percentage: 50%\\n* **Cell Structure and Function**:\\n  * Subtopic: Cell membrane\\n    - Questions Attempted: 1\\n    - Correct Answers: 1\\n    - Incorrect Answers: 0\\n    - Accuracy Percentage: 100%\\n  * Subtopic: Cell division\\n    - Questions Attempted: 2\\n    - Correct Answers: 1\\n    - Incorrect Answers: 1\\n    - Accuracy Percentage: 50%\\n* **Reproduction**:\\n  * Subtopic: Types of reproduction\\n    - Questions Attempted: 1\\n    - Correct Answers: 0\\n    - Incorrect Answers: 1\\n    - Accuracy Percentage: 0%\\n  * Subtopic: Embryonic development\\n    - Questions Attempted: 1\\n    - Correct Answers: 0\\n    - Incorrect Answers: 1\\n    - Accuracy Percentage: 0%\\n  * Subtopic: Reproductive systems\\n    - Questions Attempted: 1\\n    - Correct Answers: 1\\n    - Incorrect Answers: 0\\n    - Accuracy Percentage: 100%\\n\\n**Actionable Suggestions for Improvement**\\n\\n* **Diversity in Living World**:\\n  * Review taxonomic categories and practice questions on these topics.\\n* **Genetics and Evolution**:\\n  * Review Mendelian inheritance and genetic variation.\\n  * Practice questions on these topics.\\n* **Cell Structure and Function**:\\n  * Review cell division and practice questions on this topic.\\n* **Reproduction**:\\n  * Review types of reproduction, embryonic development, and reproductive systems.\\n  * Practice questions on these topics.\\n\\n**Progress Comparison**\\n\\n* **Overall Accuracy**:\\n  * Previous: 20%\\n  * Current: 33.33%\\n  * Change: 13.33% (Improvement)\\n\\n**Overall Summary and Motivational Message**\\n\\nYou have attempted 30 questions and scored 33.33% accuracy. You have shown strength in diversity in living world, but need to improve in genetics and evolution, cell structure and function, reproduction, and other areas. Review the suggested topics and practice questions to improve your performance. Keep working hard and you will see improvement in your future attempts. Good luck!'),\n",
       " ('2024-10-15 10:33:57',\n",
       "  '**Overall Score Summary**\\n\\n* Total Questions Answered: 30\\n* Total Correct Answers: 7\\n* Total Incorrect Answers: 23\\n* Overall Accuracy Percentage: 23.33%\\n\\n**Chapter-wise Analysis**\\n\\n* **Reproduction**:\\n  * Total Questions Answered: 9\\n  * Correct Answers: 2\\n  * Incorrect Answers: 7\\n  * Accuracy Percentage: 22.22%\\n* **Diversity in Living World**:\\n  * Total Questions Answered: 1\\n  * Correct Answers: 0\\n  * Incorrect Answers: 1\\n  * Accuracy Percentage: 0%\\n* **Cell Structure and Function**:\\n  * Total Questions Answered: 4\\n  * Correct Answers: 2\\n  * Incorrect Answers: 2\\n  * Accuracy Percentage: 50%\\n* **Genetics and Evolution**:\\n  * Total Questions Answered: 2\\n  * Correct Answers: 1\\n  * Incorrect Answers: 1\\n  * Accuracy Percentage: 50%\\n* **Structural Organization in Plants and Animals**:\\n  * Total Questions Answered: 4\\n  * Correct Answers: 1\\n  * Incorrect Answers: 3\\n  * Accuracy Percentage: 25%\\n* **Plant Physiology**:\\n  * Total Questions Answered: 2\\n  * Correct Answers: 0\\n  * Incorrect Answers: 2\\n  * Accuracy Percentage: 0%\\n* **Photosynthesis**:\\n  * Total Questions Answered: 1\\n  * Correct Answers: 0\\n  * Incorrect Answers: 1\\n  * Accuracy Percentage: 0%\\n* **Plant Anatomy**:\\n  * Total Questions Answered: 1\\n  * Correct Answers: 0\\n  * Incorrect Answers: 1\\n  * Accuracy Percentage: 0%\\n\\n**Topic-wise Breakdown within Chapters**\\n\\n* **Reproduction**:\\n  * Subtopic: Types of reproduction\\n    - Questions Attempted: 1\\n    - Correct Answers: 0\\n    - Incorrect Answers: 1\\n    - Accuracy Percentage: 0%\\n  * Subtopic: Embryonic development\\n    - Questions Attempted: 2\\n    - Correct Answers: 0\\n    - Incorrect Answers: 2\\n    - Accuracy Percentage: 0%\\n  * Subtopic: Reproductive systems\\n    - Questions Attempted: 4\\n    - Correct Answers: 2\\n    - Incorrect Answers: 2\\n    - Accuracy Percentage: 50%\\n* **Cell Structure and Function**:\\n  * Subtopic: Cell membrane\\n    - Questions Attempted: 1\\n    - Correct Answers: 1\\n    - Incorrect Answers: 0\\n    - Accuracy Percentage: 100%\\n  * Subtopic: Cell division\\n    - Questions Attempted: 2\\n    - Correct Answers: 1\\n    - Incorrect Answers: 1\\n    - Accuracy Percentage: 50%\\n* **Genetics and Evolution**:\\n  * Subtopic: Mendelian inheritance\\n    - Questions Attempted: 1\\n    - Correct Answers: 1\\n    - Incorrect Answers: 0\\n    - Accuracy Percentage: 100%\\n  * Subtopic: Evolutionary theories\\n    - Questions Attempted: 1\\n    - Correct Answers: 0\\n    - Incorrect Answers: 1\\n    - Accuracy Percentage: 0%\\n* **Structural Organization in Plants and Animals**:\\n  * Subtopic: Plant anatomy\\n    - Questions Attempted: 2\\n    - Correct Answers: 1\\n    - Incorrect Answers: 1\\n    - Accuracy Percentage: 50%\\n  * Subtopic: Animal anatomy\\n    - Questions Attempted: 2\\n    - Correct Answers: 0\\n    - Incorrect Answers: 2\\n    - Accuracy Percentage: 0%\\n\\n**Actionable Suggestions for Improvement**\\n\\n* **Reproduction**:\\n  * Review embryonic development and reproductive systems.\\n  * Practice questions on types of reproduction.\\n* **Diversity in Living World**:\\n  * Review classification of living organisms.\\n  * Practice questions on this topic.\\n* **Cell Structure and Function**:\\n  * Review cell division.\\n  * Practice questions on this topic.\\n* **Genetics and Evolution**:\\n  * Review evolutionary theories.\\n  * Practice questions on this topic.\\n* **Structural Organization in Plants and Animals**:\\n  * Review plant anatomy and animal anatomy.\\n  * Practice questions on these topics.\\n* **Plant Physiology**:\\n  * Review the chapter thoroughly.\\n  * Practice questions on this topic.\\n\\n**Progress Comparison**\\n\\n* **Overall Accuracy**:\\n  * Previous: 20%\\n  * Current: 23.33%\\n  * Change: Improvement of 3.33%\\n\\n**Overall Summary and Motivational Message**\\n\\nYou have attempted 30 questions and scored 23.33% accuracy. You have shown strength in cell structure and function, but need to improve in reproduction, diversity in living world, genetics and evolution, and other areas. Review the suggested topics and practice questions to improve your performance. You have shown a slight improvement in your overall accuracy. Keep working hard and you will see more improvement in your future attempts. Good luck!'),\n",
       " ('2024-10-15 10:42:39',\n",
       "  '**Overall Score Summary**\\n\\n* Total Questions Answered: 30\\n* Total Correct Answers: 7\\n* Total Incorrect Answers: 23\\n* Overall Accuracy Percentage: 23.33%\\n\\n**Chapter-wise Analysis**\\n\\n* **Reproduction**:\\n  * Total Questions Answered: 8\\n  * Correct Answers: 2\\n  * Incorrect Answers: 6\\n  * Accuracy Percentage: 25%\\n* **Diversity in Living World**:\\n  * Total Questions Answered: 7\\n  * Correct Answers: 2\\n  * Incorrect Answers: 5\\n  * Accuracy Percentage: 28.57%\\n* **Cell Structure and Function**:\\n  * Total Questions Answered: 2\\n  * Correct Answers: 1\\n  * Incorrect Answers: 1\\n  * Accuracy Percentage: 50%\\n* **Genetics and Evolution**:\\n  * Total Questions Answered: 4\\n  * Correct Answers: 1\\n  * Incorrect Answers: 3\\n  * Accuracy Percentage: 25%\\n* **Structural Organization in Plants and Animals**:\\n  * Total Questions Answered: 2\\n  * Correct Answers: 0\\n  * Incorrect Answers: 2\\n  * Accuracy Percentage: 0%\\n\\n**Topic-wise Breakdown within Chapters**\\n\\n* **Reproduction**:\\n  * Subtopic: Embryonic development\\n    - Questions Attempted: 3\\n    - Correct Answers: 0\\n    - Incorrect Answers: 3\\n    - Accuracy Percentage: 0%\\n  * Subtopic: Reproductive systems\\n    - Questions Attempted: 3\\n    - Correct Answers: 1\\n    - Incorrect Answers: 2\\n    - Accuracy Percentage: 33.33%\\n  * Subtopic: Meiosis and crossing over\\n    - Questions Attempted: 2\\n    - Correct Answers: 1\\n    - Incorrect Answers: 1\\n    - Accuracy Percentage: 50%\\n* **Diversity in Living World**:\\n  * Subtopic: Classification of living organisms\\n    - Questions Attempted: 3\\n    - Correct Answers: 2\\n    - Incorrect Answers: 1\\n    - Accuracy Percentage: 66.67%\\n  * Subtopic: Taxonomic categories\\n    - Questions Attempted: 2\\n    - Correct Answers: 0\\n    - Incorrect Answers: 2\\n    - Accuracy Percentage: 0%\\n* **Cell Structure and Function**:\\n  * Subtopic: Cell membrane\\n    - Questions Attempted: 1\\n    - Correct Answers: 1\\n    - Incorrect Answers: 0\\n    - Accuracy Percentage: 100%\\n* **Genetics and Evolution**:\\n  * Subtopic: Mendelian inheritance\\n    - Questions Attempted: 1\\n    - Correct Answers: 0\\n    - Incorrect Answers: 1\\n    - Accuracy Percentage: 0%\\n  * Subtopic: Evolutionary theories\\n    - Questions Attempted: 1\\n    - Correct Answers: 0\\n    - Incorrect Answers: 1\\n    - Accuracy Percentage: 0%\\n\\n**Actionable Suggestions for Improvement**\\n\\n* **Reproduction**:\\n  * Review embryonic development and reproductive systems.\\n  * Practice questions on meiosis and crossing over.\\n* **Diversity in Living World**:\\n  * Review classification of living organisms.\\n  * Practice questions on taxonomic categories.\\n* **Cell Structure and Function**:\\n  * Review cell division.\\n  * Practice questions on this topic.\\n* **Genetics and Evolution**:\\n  * Review Mendelian inheritance and evolutionary theories.\\n  * Practice questions on these topics.\\n\\n**Progress Comparison**\\n\\n* **Overall Accuracy**:\\n  * Previous: 20%\\n  * Current: 23.33%\\n  * Change: Improvement of 3.33%\\n\\n**Overall Summary and Motivational Message**\\n\\nYou have attempted 30 questions and scored 23.33% accuracy. You have shown strength in cell structure and function, but need to improve in reproduction, diversity in living world, genetics and evolution, and other areas. Review the suggested topics and practice questions to improve your performance. Keep working hard and you will see improvement in your future attempts. Good luck!'),\n",
       " ('2024-10-15 18:01:43',\n",
       "  'Based on the provided JSON data, I have generated the report as per the given format:\\n\\n\\n**Overall Score Summary**\\n\\n* Total Questions Answered: 30\\n* Total Correct Answers: 0\\n* Total Incorrect Answers: 30\\n* Overall Accuracy Percentage: 0%\\n\\n**Chapter-wise Analysis**\\n\\n* **Diversity in Living World**:\\n  * Total Questions Answered: 5\\n  * Correct Answers: 0\\n  * Incorrect Answers: 5\\n  * Accuracy Percentage: 0%\\n* **Evolution**:\\n  * Total Questions Answered: 2\\n  * Correct Answers: 0\\n  * Incorrect Answers: 2\\n  * Accuracy Percentage: 0%\\n* **Genetics and Evolution**:\\n  * Total Questions Answered: 4\\n  * Correct Answers: 0\\n  * Incorrect Answers: 4\\n  * Accuracy Percentage: 0%\\n* **Reproduction**:\\n  * Total Questions Answered: 5\\n  * Correct Answers: 0\\n  * Incorrect Answers: 5\\n  * Accuracy Percentage: 0%\\n* **Structural Organization in Plants and Animals**:\\n  * Total Questions Answered: 3\\n  * Correct Answers: 0\\n  * Incorrect Answers: 3\\n  * Accuracy Percentage: 0%\\n* **Insect Anatomy**:\\n  * Total Questions Answered: 1\\n  * Correct Answers: 0\\n  * Incorrect Answers: 1\\n  * Accuracy Percentage: 0%\\n* **Cell Division**:\\n  * Total Questions Answered: 1\\n  * Correct Answers: 0\\n  * Incorrect Answers: 1\\n  * Accuracy Percentage: 0%\\n* **Human Physiology**:\\n  * Total Questions Answered: 3\\n  * Correct Answers: 0\\n  * Incorrect Answers: 3\\n  * Accuracy Percentage: 0%\\n* **Biomolecules**:\\n  * Total Questions Answered: 1\\n  * Correct Answers: 0\\n  * Incorrect Answers: 1\\n  * Accuracy Percentage: 0%\\n* **Biology and Human Welfare**:\\n  * Total Questions Answered: 1\\n  * Correct Answers: 0\\n  * Incorrect Answers: 1\\n  * Accuracy Percentage: 0%\\n* **Cell Structure and Function**:\\n  * Total Questions Answered: 1\\n  * Correct Answers: 0\\n  * Incorrect Answers: 1\\n  * Accuracy Percentage: 0%\\n* **Growth and Development**:\\n  * Total Questions Answered: 1\\n  * Correct Answers: 0\\n  * Incorrect Answers: 1\\n  * Accuracy Percentage: 0%\\n* **Not Available**:\\n  * Total Questions Answered: 3\\n  * Correct Answers: 0\\n  * Incorrect Answers: 3\\n  * Accuracy Percentage: 0%\\n\\n**Topic-wise Breakdown within Chapters**\\n\\n* **Diversity in Living World**:\\n  * Subtopic: Classification of living organisms\\n    - Questions Attempted: 2\\n    - Correct Answers: 0\\n    - Incorrect Answers: 2\\n    - Accuracy Percentage: 0%\\n  * Subtopic: Taxonomic categories\\n    - Questions Attempted: 2\\n    - Correct Answers: 0\\n    - Incorrect Answers: 2\\n    - Accuracy Percentage: 0%\\n  * Subtopic: Types of reproduction\\n    - Questions Attempted: 1\\n    - Correct Answers: 0\\n    - Incorrect Answers: 1\\n    - Accuracy Percentage: 0%\\n* **Evolution**:\\n  * Subtopic: Evolutionary theories\\n    - Questions Attempted: 1\\n    - Correct Answers: 0\\n    - Incorrect Answers: 1\\n    - Accuracy Percentage: 0%\\n  * Subtopic: Homologous organs\\n    - Questions Attempted: 1\\n    - Correct Answers: 0\\n    - Incorrect Answers: 1\\n    - Accuracy Percentage: 0%\\n* **Genetics and Evolution**:\\n  * Subtopic: Mendelian inheritance\\n    - Questions Attempted: 1\\n    - Correct Answers: 0\\n    - Incorrect Answers: 1\\n    - Accuracy Percentage: 0%\\n  * Subtopic: Phylogeny\\n    - Questions Attempted: 1\\n    - Correct Answers: 0\\n    - Incorrect Answers: 1\\n    - Accuracy Percentage: 0%\\n  * Subtopic: Meiosis\\n    - Questions Attempted: 1\\n    - Correct Answers: 0\\n    - Incorrect Answers: 1\\n    - Accuracy Percentage: 0%\\n* **Reproduction**:\\n  * Subtopic: Embryonic development\\n    - Questions Attempted: 1\\n    - Correct Answers: 0\\n    - Incorrect Answers: 1\\n    - Accuracy Percentage: 0%\\n  * Subtopic: Reproductive systems\\n    - Questions Attempted: 2\\n    - Correct Answers: 0\\n    - Incorrect Answers: 2\\n    - Accuracy Percentage: 0%\\n  * Subtopic: Types of reproduction\\n    - Questions Attempted: 1\\n    - Correct Answers: 0\\n    - Incorrect Answers: 1\\n    - Accuracy Percentage: 0%\\n  * Subtopic: Osteoporosis\\n    - Questions Attempted: 1\\n    - Correct Answers: 0\\n    - Incorrect Answers: 1\\n    - Accuracy Percentage: 0%\\n* **Structural Organization in Plants and Animals**:\\n  * Subtopic: Plant anatomy\\n    - Questions Attempted: 1\\n    - Correct Answers: 0\\n    - Incorrect Answers: 1\\n    - Accuracy Percentage: 0%\\n  * Subtopic: Animal physiology\\n    - Questions Attempted: 2\\n    - Correct Answers: 0\\n    - Incorrect Answers: 2\\n    - Accuracy Percentage: 0%\\n\\n**Actionable Suggestions for Improvement**\\n\\n* **Diversity in Living World**:\\n  * Review classification of living organisms and taxonomic categories.\\n  * Practice questions on these topics.\\n* **Evolution**:\\n  * Review evolutionary theories and homologous organs.\\n  * Practice questions on these topics.\\n* **Genetics and Evolution**:\\n  * Review Mendelian inheritance, phylogeny, and meiosis.\\n  * Practice questions on these topics.\\n* **Reproduction**:\\n  * Review embryonic development, reproductive systems, and types of reproduction.\\n  * Practice questions on these topics.\\n* **Structural Organization in Plants and Animals**:\\n  * Review plant anatomy and animal physiology.\\n  * Practice questions on these topics.\\n\\n**Progress Comparison**\\n\\n* **Overall Accuracy**:\\n  * Previous: Not Available\\n  * Current: 0%\\n  * Change: Not Applicable\\n\\n**Overall Summary and Motivational Message**\\n\\nYou have attempted 30 questions and scored 0% accuracy. You have shown no strength in any area and need to improve in all areas. Review the suggested topics and practice questions to improve your performance. Keep working hard and you will see improvement in your future attempts. Good luck!'),\n",
       " ('2024-10-15 18:06:38',\n",
       "  \"After analyzing the provided JSON data, I have generated the report based on the student's performance in the NEET Biology exam.\\n\\n\\n**Overall Score Summary**\\n\\n* Total Questions Answered: 30\\n* Total Correct Answers: 5\\n* Total Incorrect Answers: 25\\n* Overall Accuracy Percentage: 16.67%\\n\\n**Chapter-wise Analysis**\\n\\n* **Immunity**:\\n  * Total Questions Answered: 1\\n  * Correct Answers: 0\\n  * Incorrect Answers: 1\\n  * Accuracy Percentage: 0%\\n* **Reproduction**:\\n  * Total Questions Answered: 8\\n  * Correct Answers: 2\\n  * Incorrect Answers: 6\\n  * Accuracy Percentage: 25%\\n* **Diversity in Living World**:\\n  * Total Questions Answered: 2\\n  * Correct Answers: 0\\n  * Incorrect Answers: 2\\n  * Accuracy Percentage: 0%\\n* **Cell Structure and Function**:\\n  * Total Questions Answered: 2\\n  * Correct Answers: 0\\n  * Incorrect Answers: 2\\n  * Accuracy Percentage: 0%\\n* **Genetics and Evolution**:\\n  * Total Questions Answered: 6\\n  * Correct Answers: 0\\n  * Incorrect Answers: 6\\n  * Accuracy Percentage: 0%\\n* **Structural Organization in Plants and Animals**:\\n  * Total Questions Answered: 4\\n  * Correct Answers: 0\\n  * Incorrect Answers: 4\\n  * Accuracy Percentage: 0%\\n* **Plant Physiology**:\\n  * Total Questions Answered: 1\\n  * Correct Answers: 0\\n  * Incorrect Answers: 1\\n  * Accuracy Percentage: 0%\\n* **Ecology and Environment**:\\n  * Total Questions Answered: 1\\n  * Correct Answers: 0\\n  * Incorrect Answers: 1\\n  * Accuracy Percentage: 0%\\n* **Not Available**:\\n  * Total Questions Answered: 5\\n  * Correct Answers: 3\\n  * Incorrect Answers: 2\\n  * Accuracy Percentage: 60%\\n\\n**Topic-wise Breakdown within Chapters**\\n\\n* **Immunity**:\\n  * Subtopic: Types of immunity\\n    - Questions Attempted: 1\\n    - Correct Answers: 0\\n    - Incorrect Answers: 1\\n    - Accuracy Percentage: 0%\\n* **Reproduction**:\\n  * Subtopic: Embryonic development\\n    - Questions Attempted: 2\\n    - Correct Answers: 0\\n    - Incorrect Answers: 2\\n    - Accuracy Percentage: 0%\\n  * Subtopic: Reproductive systems\\n    - Questions Attempted: 3\\n    - Correct Answers: 1\\n    - Incorrect Answers: 2\\n    - Accuracy Percentage: 33.33%\\n  * Subtopic: Types of reproduction\\n    - Questions Attempted: 3\\n    - Correct Answers: 1\\n    - Incorrect Answers: 2\\n    - Accuracy Percentage: 33.33%\\n* **Diversity in Living World**:\\n  * Subtopic: Classification of living organisms\\n    - Questions Attempted: 1\\n    - Correct Answers: 0\\n    - Incorrect Answers: 1\\n    - Accuracy Percentage: 0%\\n  * Subtopic: Taxonomic categories\\n    - Questions Attempted: 1\\n    - Correct Answers: 0\\n    - Incorrect Answers: 1\\n    - Accuracy Percentage: 0%\\n* **Cell Structure and Function**:\\n  * Subtopic: Cell membrane\\n    - Questions Attempted: 0\\n    - Correct Answers: 0\\n    - Incorrect Answers: 0\\n    - Accuracy Percentage: 0%\\n  * Subtopic: Cell division\\n    - Questions Attempted: 1\\n    - Correct Answers: 0\\n    - Incorrect Answers: 1\\n    - Accuracy Percentage: 0%\\n  * Subtopic: Cilia\\n    - Questions Attempted: 1\\n    - Correct Answers: 0\\n    - Incorrect Answers: 1\\n    - Accuracy Percentage: 0%\\n* **Genetics and Evolution**:\\n  * Subtopic: Mendelian inheritance\\n    - Questions Attempted: 2\\n    - Correct Answers: 0\\n    - Incorrect Answers: 2\\n    - Accuracy Percentage: 0%\\n  * Subtopic: Evolutionary theories\\n    - Questions Attempted: 1\\n    - Correct Answers: 0\\n    - Incorrect Answers: 1\\n    - Accuracy Percentage: 0%\\n  * Subtopic: Meiosis\\n    - Questions Attempted: 1\\n    - Correct Answers: 0\\n    - Incorrect Answers: 1\\n    - Accuracy Percentage: 0%\\n* **Structural Organization in Plants and Animals**:\\n  * Subtopic: Plant anatomy\\n    - Questions Attempted: 2\\n    - Correct Answers: 0\\n    - Incorrect Answers: 2\\n    - Accuracy Percentage: 0%\\n  * Subtopic: Animal physiology\\n    - Questions Attempted: 2\\n    - Correct Answers: 0\\n    - Incorrect Answers: 2\\n    - Accuracy Percentage: 0%\\n* **Plant Physiology**:\\n  * Subtopic: Photosynthesis\\n    - Questions Attempted: 0\\n    - Correct Answers: 0\\n    - Incorrect Answers: 0\\n    - Accuracy Percentage: 0%\\n  * Subtopic: Transpiration\\n    - Questions Attempted: 1\\n    - Correct Answers: 0\\n    - Incorrect Answers: 1\\n    - Accuracy Percentage: 0%\\n* **Ecology and Environment**:\\n  * Subtopic: Ecosystems\\n    - Questions Attempted: 1\\n    - Correct Answers: 0\\n    - Incorrect Answers: 1\\n    - Accuracy Percentage: 0%\\n\\n**Actionable Suggestions for Improvement**\\n\\n* **Immunity**:\\n  * Review types of immunity.\\n  * Practice questions on this topic.\\n* **Reproduction**:\\n  * Review embryonic development and reproductive systems.\\n  * Practice questions on types of reproduction.\\n* **Diversity in Living World**:\\n  * Review classification of living organisms and taxonomic categories.\\n  * Practice questions on these topics.\\n* **Cell Structure and Function**:\\n  * Review cell membrane structure, cell division, and cilia.\\n  * Practice questions on these topics.\\n* **Genetics and Evolution**:\\n  * Review Mendelian inheritance, evolutionary theories, and meiosis.\\n  * Practice questions on these topics.\\n* **Structural Organization in Plants and Animals**:\\n  * Review plant anatomy and animal physiology.\\n  * Practice questions on these topics.\\n* **Plant Physiology**:\\n  * Review photosynthesis and transpiration.\\n  * Practice questions on these topics.\\n* **Ecology and Environment**:\\n  * Review ecosystems.\\n  * Practice questions on this topic.\\n\\n**Progress Comparison**\\n\\n* **Overall Accuracy**:\\n  * Previous: 20%\\n  * Current: 16.67%\\n  * Change: Decline\\n\\n**Overall Summary and Motivational Message**\\n\\nYou have attempted 30 questions and scored 16.67% accuracy. You have shown no strength in any area and need to improve in all areas. Review the suggested topics and practice questions to improve your performance. Keep working hard and you will see improvement in your future attempts. Good luck!\"),\n",
       " ('2024-10-16 04:57:52', \"I'm sorry, an internal error has occurred.\"),\n",
       " ('2024-10-16 05:18:14',\n",
       "  \"Based on the provided JSON data, I will generate the detailed report of the student's exam paper.\\n\\n**Overall Score Summary**\\n\\n* Total Questions Answered: 30\\n* Total Correct Answers: 3\\n* Total Incorrect Answers: 27\\n* Overall Accuracy Percentage: 10%\\n\\n**Chapter-wise Analysis**\\n\\n* **Reproduction**:\\n\\t+ Total Questions Answered: 8\\n\\t+ Correct Answers: 1\\n\\t+ Incorrect Answers: 7\\n\\t+ Accuracy Percentage: 12.5%\\n* **Diversity in Living World**:\\n\\t+ Total Questions Answered: 3\\n\\t+ Correct Answers: 0\\n\\t+ Incorrect Answers: 3\\n\\t+ Accuracy Percentage: 0%\\n* **Structural Organization in Plants and Animals**:\\n\\t+ Total Questions Answered: 6\\n\\t+ Correct Answers: 1\\n\\t+ Incorrect Answers: 5\\n\\t+ Accuracy Percentage: 16.67%\\n* **Genetics and Evolution**:\\n\\t+ Total Questions Answered: 1\\n\\t+ Correct Answers: 0\\n\\t+ Incorrect Answers: 1\\n\\t+ Accuracy Percentage: 0%\\n* **Human Physiology**:\\n\\t+ Total Questions Answered: 1\\n\\t+ Correct Answers: 0\\n\\t+ Incorrect Answers: 1\\n\\t+ Accuracy Percentage: 0%\\n* **Population Interaction**:\\n\\t+ Total Questions Answered: 1\\n\\t+ Correct Answers: 0\\n\\t+ Incorrect Answers: 1\\n\\t+ Accuracy Percentage: 0%\\n* **Cell Structure and Function**:\\n\\t+ Total Questions Answered: 1\\n\\t+ Correct Answers: 0\\n\\t+ Incorrect Answers: 1\\n\\t+ Accuracy Percentage: 0%\\n\\n**Topic-wise Breakdown within Chapters**\\n\\n* **Reproduction**:\\n\\t+ Subtopic: Types of reproduction\\n\\t\\t- Questions Attempted: 1\\n\\t\\t- Correct Answers: 0\\n\\t\\t- Incorrect Answers: 1\\n\\t\\t- Accuracy Percentage: 0%\\n\\t+ Subtopic: Embryonic development\\n\\t\\t- Questions Attempted: 2\\n\\t\\t- Correct Answers: 0\\n\\t\\t- Incorrect Answers: 2\\n\\t\\t- Accuracy Percentage: 0%\\n\\t+ Subtopic: Reproductive systems\\n\\t\\t- Questions Attempted: 2\\n\\t\\t- Correct Answers: 1\\n\\t\\t- Incorrect Answers: 1\\n\\t\\t- Accuracy Percentage: 50%\\n* **Diversity in Living World**:\\n\\t+ Subtopic: Classification\\n\\t\\t- Questions Attempted: 1\\n\\t\\t- Correct Answers: 0\\n\\t\\t- Incorrect Answers: 1\\n\\t\\t- Accuracy Percentage: 0%\\n\\t+ Subtopic: Taxonomy\\n\\t\\t- Questions Attempted: 1\\n\\t\\t- Correct Answers: 0\\n\\t\\t- Incorrect Answers: 1\\n\\t\\t- Accuracy Percentage: 0%\\n* **Structural Organization in Plants and Animals**:\\n\\t+ Subtopic: Plant structure\\n\\t\\t- Questions Attempted: 2\\n\\t\\t- Correct Answers: 1\\n\\t\\t- Incorrect Answers: 1\\n\\t\\t- Accuracy Percentage: 50%\\n\\t+ Subtopic: Animal structure\\n\\t\\t- Questions Attempted: 2\\n\\t\\t- Correct Answers: 0\\n\\t\\t- Incorrect Answers: 2\\n\\t\\t- Accuracy Percentage: 0%\\n\\n**Actionable Suggestions for Improvement**\\n\\n* **Reproduction**:\\n\\t+ Review embryonic development and reproductive systems.\\n\\t+ Practice questions on types of reproduction.\\n* **Diversity in Living World**:\\n\\t+ Review classification and taxonomy concepts.\\n\\t+ Practice questions on these topics.\\n* **Structural Organization in Plants and Animals**:\\n\\t+ Review plant and animal structure concepts.\\n\\t+ Practice questions on these topics.\\n* **Genetics and Evolution**:\\n\\t+ Review genetics and evolution concepts.\\n\\t+ Practice questions on these topics.\\n* **Human Physiology**:\\n\\t+ Review human physiology concepts.\\n\\t+ Practice questions on these topics.\\n* **Population Interaction**:\\n\\t+ Review population interaction concepts.\\n\\t+ Practice questions on these topics.\\n* **Cell Structure and Function**:\\n\\t+ Review cell structure and function concepts.\\n\\t+ Practice questions on these topics.\\n\\n**Progress Comparison**\\n\\n* **Overall Accuracy**:\\n\\t+ Previous: Not Available\\n\\t+ Current: 10%\\n\\t+ Change: Not Applicable\\n\\n**Overall Summary and Motivational Message**\\n\\nYou have attempted 30 questions and scored 10% accuracy. You have shown weakness in all chapters, especially in reproduction, diversity in living world, and structural organization in plants and animals. Review the suggested topics and practice questions to improve your performance. Keep working hard and you will see improvement in your future attempts. Good luck!\"),\n",
       " ('2024-10-16 08:08:45',\n",
       "  '**Overall Score Summary**\\n\\n* Total Questions Answered: 30\\n* Total Correct Answers: 3\\n* Total Incorrect Answers: 27\\n* Overall Accuracy Percentage: 10%\\n\\n**Chapter-wise Analysis**\\n\\n* **Reproduction**:\\n\\t+ Total Questions Answered: 5\\n\\t+ Correct Answers: 0\\n\\t+ Incorrect Answers: 5\\n\\t+ Accuracy Percentage: 0%\\n* **Diversity in Living World**:\\n\\t+ Total Questions Answered: 5\\n\\t+ Correct Answers: 1\\n\\t+ Incorrect Answers: 4\\n\\t+ Accuracy Percentage: 20%\\n* **Structural Organization in Plants and Animals**:\\n\\t+ Total Questions Answered: 4\\n\\t+ Correct Answers: 0\\n\\t+ Incorrect Answers: 4\\n\\t+ Accuracy Percentage: 0%\\n* **Genetics and Evolution**:\\n\\t+ Total Questions Answered: 2\\n\\t+ Correct Answers: 0\\n\\t+ Incorrect Answers: 2\\n\\t+ Accuracy Percentage: 0%\\n* **Human Physiology**:\\n\\t+ Total Questions Answered: 2\\n\\t+ Correct Answers: 1\\n\\t+ Incorrect Answers: 1\\n\\t+ Accuracy Percentage: 50%\\n* **Ecology and Environment**:\\n\\t+ Total Questions Answered: 2\\n\\t+ Correct Answers: 0\\n\\t+ Incorrect Answers: 2\\n\\t+ Accuracy Percentage: 0%\\n* **Biology and Human Welfare**:\\n\\t+ Total Questions Answered: 1\\n\\t+ Correct Answers: 0\\n\\t+ Incorrect Answers: 1\\n\\t+ Accuracy Percentage: 0%\\n* **Cell Division**:\\n\\t+ Total Questions Answered: 1\\n\\t+ Correct Answers: 1\\n\\t+ Incorrect Answers: 0\\n\\t+ Accuracy Percentage: 100%\\n\\n**Topic-wise Breakdown within Chapters**\\n\\n* **Reproduction**:\\n\\t+ Subtopic: Embryonic development\\n\\t\\t- Questions Attempted: 1\\n\\t\\t- Correct Answers: 0\\n\\t\\t- Incorrect Answers: 1\\n\\t\\t- Accuracy Percentage: 0%\\n\\t+ Subtopic: Reproductive systems\\n\\t\\t- Questions Attempted: 2\\n\\t\\t- Correct Answers: 0\\n\\t\\t- Incorrect Answers: 2\\n\\t\\t- Accuracy Percentage: 0%\\n* **Diversity in Living World**:\\n\\t+ Subtopic: Classification\\n\\t\\t- Questions Attempted: 1\\n\\t\\t- Correct Answers: 0\\n\\t\\t- Incorrect Answers: 1\\n\\t\\t- Accuracy Percentage: 0%\\n\\t+ Subtopic: Taxonomy\\n\\t\\t- Questions Attempted: 1\\n\\t\\t- Correct Answers: 0\\n\\t\\t- Incorrect Answers: 1\\n\\t\\t- Accuracy Percentage: 0%\\n* **Structural Organization in Plants and Animals**:\\n\\t+ Subtopic: Plant structure\\n\\t\\t- Questions Attempted: 1\\n\\t\\t- Correct Answers: 0\\n\\t\\t- Incorrect Answers: 1\\n\\t\\t- Accuracy Percentage: 0%\\n\\t+ Subtopic: Animal structure\\n\\t\\t- Questions Attempted: 2\\n\\t\\t- Correct Answers: 0\\n\\t\\t- Incorrect Answers: 2\\n\\t\\t- Accuracy Percentage: 0%\\n\\n**Actionable Suggestions for Improvement**\\n\\n* **Reproduction**:\\n\\t+ Review embryonic development and reproductive systems.\\n\\t+ Practice questions on these topics.\\n* **Diversity in Living World**:\\n\\t+ Review classification and taxonomy concepts.\\n\\t+ Practice questions on these topics.\\n* **Structural Organization in Plants and Animals**:\\n\\t+ Review plant and animal structure concepts.\\n\\t+ Practice questions on these topics.\\n* **Genetics and Evolution**:\\n\\t+ Review genetics and evolution concepts.\\n\\t+ Practice questions on these topics.\\n* **Human Physiology**:\\n\\t+ Review human physiology concepts.\\n\\t+ Practice questions on these topics.\\n* **Ecology and Environment**:\\n\\t+ Review ecology and environment concepts.\\n\\t+ Practice questions on these topics.\\n\\n**Progress Comparison**\\n\\n* **Overall Accuracy**:\\n\\t+ Previous: Not Available\\n\\t+ Current: 10%\\n\\t+ Change: Not Applicable\\n\\n**Overall Summary and Motivational Message**\\n\\nYou have attempted 30 questions and scored 10% accuracy. You have shown weakness in all chapters, especially in reproduction, diversity in living world, and structural organization in plants and animals. Review the suggested topics and practice questions to improve your performance. Keep working hard and you will see improvement in your future attempts. Good luck!'),\n",
       " ('2024-10-16 08:20:35',\n",
       "  \"After analyzing the provided JSON data, I've generated the detailed report of the student's exam paper. Here's the result:\\n\\n**Overall Score Summary**\\n\\n* Total Questions Answered: 30\\n* Total Correct Answers: 4\\n* Total Incorrect Answers: 26\\n* Overall Accuracy Percentage: 13.33%\\n\\n**Chapter-wise Analysis**\\n\\n* **Reproduction**:\\n  * Total Questions Answered: 7\\n  * Correct Answers: 0\\n  * Incorrect Answers: 7\\n  * Accuracy Percentage: 0%\\n* **Diversity in Living World**:\\n  * Total Questions Answered: 3\\n  * Correct Answers: 1\\n  * Incorrect Answers: 2\\n  * Accuracy Percentage: 33.33%\\n* **Structural Organization in Plants and Animals**:\\n  * Total Questions Answered: 6\\n  * Correct Answers: 1\\n  * Incorrect Answers: 5\\n  * Accuracy Percentage: 16.67%\\n* **Cell Structure and Function**:\\n  * Total Questions Answered: 3\\n  * Correct Answers: 1\\n  * Incorrect Answers: 2\\n  * Accuracy Percentage: 33.33%\\n* **Genetics and Evolution**:\\n  * Total Questions Answered: 2\\n  * Correct Answers: 0\\n  * Incorrect Answers: 2\\n  * Accuracy Percentage: 0%\\n* **Ecology and Environment**:\\n  * Total Questions Answered: 1\\n  * Correct Answers: 0\\n  * Incorrect Answers: 1\\n  * Accuracy Percentage: 0%\\n* **Biology and Human Welfare**:\\n  * Total Questions Answered: 1\\n  * Correct Answers: 0\\n  * Incorrect Answers: 1\\n  * Accuracy Percentage: 0%\\n\\n**Topic-wise Breakdown within Chapters**\\n\\n* **Reproduction**:\\n  * Subtopic: Embryonic development\\n    - Questions Attempted: 1\\n    - Correct Answers: 0\\n    - Incorrect Answers: 1\\n    - Accuracy Percentage: 0%\\n  * Subtopic: Reproductive systems\\n    - Questions Attempted: 2\\n    - Correct Answers: 0\\n    - Incorrect Answers: 2\\n    - Accuracy Percentage: 0%\\n  * Subtopic: Capacitation\\n    - Questions Attempted: 1\\n    - Correct Answers: 0\\n    - Incorrect Answers: 1\\n    - Accuracy Percentage: 0%\\n* **Diversity in Living World**:\\n  * Subtopic: Classification\\n    - Questions Attempted: 1\\n    - Correct Answers: 0\\n    - Incorrect Answers: 1\\n    - Accuracy Percentage: 0%\\n  * Subtopic: Taxonomy\\n    - Questions Attempted: 1\\n    - Correct Answers: 1\\n    - Incorrect Answers: 0\\n    - Accuracy Percentage: 100%\\n* **Structural Organization in Plants and Animals**:\\n  * Subtopic: Plant structure\\n    - Questions Attempted: 2\\n    - Correct Answers: 0\\n    - Incorrect Answers: 2\\n    - Accuracy Percentage: 0%\\n  * Subtopic: Animal structure\\n    - Questions Attempted: 3\\n    - Correct Answers: 1\\n    - Incorrect Answers: 2\\n    - Accuracy Percentage: 33.33%\\n\\n**Actionable Suggestions for Improvement**\\n\\n* **Reproduction**:\\n  * Review embryonic development, reproductive systems, and capacitation.\\n  * Practice questions on these topics.\\n* **Diversity in Living World**:\\n  * Review classification concepts.\\n  * Practice questions on this topic.\\n* **Structural Organization in Plants and Animals**:\\n  * Review plant and animal structure concepts.\\n  * Practice questions on these topics.\\n* **Cell Structure and Function**:\\n  * Review cell structure and function concepts.\\n  * Practice questions on these topics.\\n* **Genetics and Evolution**:\\n  * Review genetics and evolution concepts.\\n  * Practice questions on these topics.\\n\\n**Progress Comparison**\\n\\n* **Overall Accuracy**:\\n  * Previous: 10%\\n  * Current: 13.33%\\n  * Change: 3.33% improvement\\n\\n**Overall Summary and Motivational Message**\\n\\nYou have attempted 30 questions and scored 13.33% accuracy. You have shown slight improvement in overall accuracy but still need to work on all chapters, especially reproduction, structural organization in plants and animals, and genetics and evolution. Review the suggested topics and practice questions to improve your performance. Keep working hard and you will see improvement in your future attempts. Good luck!\"),\n",
       " ('2024-10-16 11:25:55',\n",
       "  \"After analyzing the provided JSON data, I've generated the detailed report of the student's exam paper.\\n\\n\\n**Overall Score Summary**\\n\\n* Total Questions Answered: 30\\n* Total Correct Answers: 0\\n* Total Incorrect Answers: 30\\n* Overall Accuracy Percentage: 0%\\n\\n**Chapter-wise Analysis**\\n\\n* **Reproduction**:\\n  * Total Questions Answered: 6\\n  * Correct Answers: 0\\n  * Incorrect Answers: 6\\n  * Accuracy Percentage: 0%\\n* **Diversity in Living World**:\\n  * Total Questions Answered: 4\\n  * Correct Answers: 0\\n  * Incorrect Answers: 4\\n  * Accuracy Percentage: 0%\\n* **Cell Structure and Function**:\\n  * Total Questions Answered: 3\\n  * Correct Answers: 0\\n  * Incorrect Answers: 3\\n  * Accuracy Percentage: 0%\\n* **Genetics and Evolution**:\\n  * Total Questions Answered: 2\\n  * Correct Answers: 0\\n  * Incorrect Answers: 2\\n  * Accuracy Percentage: 0%\\n* **Plant Physiology**:\\n  * Total Questions Answered: 2\\n  * Correct Answers: 0\\n  * Incorrect Answers: 2\\n  * Accuracy Percentage: 0%\\n* **Cell Biology**:\\n  * Total Questions Answered: 1\\n  * Correct Answers: 0\\n  * Incorrect Answers: 1\\n  * Accuracy Percentage: 0%\\n* **Photosynthesis**:\\n  * Total Questions Answered: 1\\n  * Correct Answers: 0\\n  * Incorrect Answers: 1\\n  * Accuracy Percentage: 0%\\n* **Plant Anatomy**:\\n  * Total Questions Answered: 2\\n  * Correct Answers: 0\\n  * Incorrect Answers: 2\\n  * Accuracy Percentage: 0%\\n* **Structural Organization in Plants and Animals**:\\n  * Total Questions Answered: 1\\n  * Correct Answers: 0\\n  * Incorrect Answers: 1\\n  * Accuracy Percentage: 0%\\n* **Biodiversity**:\\n  * Total Questions Answered: 1\\n  * Correct Answers: 0\\n  * Incorrect Answers: 1\\n  * Accuracy Percentage: 0%\\n* **Not Available**:\\n  * Total Questions Answered: 7\\n  * Correct Answers: 0\\n  * Incorrect Answers: 7\\n  * Accuracy Percentage: 0%\\n\\n**Topic-wise Breakdown within Chapters**\\n\\n* **Reproduction**:\\n  * Subtopic: Embryonic development\\n    - Questions Attempted: 1\\n    - Correct Answers: 0\\n    - Incorrect Answers: 1\\n    - Accuracy Percentage: 0%\\n  * Subtopic: Reproductive systems\\n    - Questions Attempted: 2\\n    - Correct Answers: 0\\n    - Incorrect Answers: 2\\n    - Accuracy Percentage: 0%\\n  * Subtopic: Capacitation\\n    - Questions Attempted: 1\\n    - Correct Answers: 0\\n    - Incorrect Answers: 1\\n    - Accuracy Percentage: 0%\\n* **Diversity in Living World**:\\n  * Subtopic: Classification\\n    - Questions Attempted: 1\\n    - Correct Answers: 0\\n    - Incorrect Answers: 1\\n    - Accuracy Percentage: 0%\\n  * Subtopic: Taxonomy\\n    - Questions Attempted: 1\\n    - Correct Answers: 0\\n    - Incorrect Answers: 1\\n    - Accuracy Percentage: 0%\\n  * Subtopic: Phylogeny\\n    - Questions Attempted: 1\\n    - Correct Answers: 0\\n    - Incorrect Answers: 1\\n    - Accuracy Percentage: 0%\\n* **Cell Structure and Function**:\\n  * Subtopic: Cell structure\\n    - Questions Attempted: 1\\n    - Correct Answers: 0\\n    - Incorrect Answers: 1\\n    - Accuracy Percentage: 0%\\n  * Subtopic: Cell division\\n    - Questions Attempted: 1\\n    - Correct Answers: 0\\n    - Incorrect Answers: 1\\n    - Accuracy Percentage: 0%\\n  * Subtopic: Synapses\\n    - Questions Attempted: 1\\n    - Correct Answers: 0\\n    - Incorrect Answers: 1\\n    - Accuracy Percentage: 0%\\n\\n**Actionable Suggestions for Improvement**\\n\\n* **Reproduction**:\\n  * Review embryonic development, reproductive systems, and capacitation.\\n  * Practice questions on these topics.\\n* **Diversity in Living World**:\\n  * Review classification concepts.\\n  * Practice questions on this topic.\\n* **Cell Structure and Function**:\\n  * Review cell structure and function concepts.\\n  * Practice questions on these topics.\\n* **Genetics and Evolution**:\\n  * Review genetics and evolution concepts.\\n  * Practice questions on these topics.\\n* **Plant Physiology**:\\n  * Review plant physiology concepts.\\n  * Practice questions on this topic.\\n* **Plant Anatomy**:\\n  * Review plant anatomy concepts.\\n  * Practice questions on this topic.\\n\\n**Progress Comparison**\\n\\n* No comparison available.\\n\\n**Overall Summary and Motivational Message**\\n\\nYou have attempted 30 questions and scored 0% accuracy. You need to review all chapters and practice questions to improve your performance. Focus on understanding concepts in reproductive biology, diversity in living world, cell structure and function, genetics and evolution, plant physiology, and plant anatomy. With consistent effort, you will see improvement in your future attempts. Good luck!\"),\n",
       " ('2024-10-16 11:37:33',\n",
       "  \"After analyzing the provided JSON data, I've generated the detailed report of the student's exam paper.\\n\\n**Overall Score Summary**\\n\\n* Total Questions Answered: 30\\n* Total Correct Answers: 10\\n* Total Incorrect Answers: 20\\n* Overall Accuracy Percentage: 33.33%\\n\\n**Chapter-wise Analysis**\\n\\n* **Reproduction**:\\n  * Total Questions Answered: 3\\n  * Correct Answers: 1\\n  * Incorrect Answers: 2\\n  * Accuracy Percentage: 33.33%\\n* **Genetics and Evolution**:\\n  * Total Questions Answered: 6\\n  * Correct Answers: 2\\n  * Incorrect Answers: 4\\n  * Accuracy Percentage: 33.33%\\n* **Cell Structure and Function**:\\n  * Total Questions Answered: 4\\n  * Correct Answers: 1\\n  * Incorrect Answers: 3\\n  * Accuracy Percentage: 25%\\n* **Diversity in Living World**:\\n  * Total Questions Answered: 4\\n  * Correct Answers: 2\\n  * Incorrect Answers: 2\\n  * Accuracy Percentage: 50%\\n* **Structural Organization in Plants and Animals**:\\n  * Total Questions Answered: 1\\n  * Correct Answers: 0\\n  * Incorrect Answers: 1\\n  * Accuracy Percentage: 0%\\n* **Not Available**:\\n  * Total Questions Answered: 12\\n  * Correct Answers: 4\\n  * Incorrect Answers: 8\\n  * Accuracy Percentage: 33.33%\\n\\n**Topic-wise Breakdown within Chapters**\\n\\n* **Reproduction**:\\n  * Subtopic: Types of reproduction\\n    - Questions Attempted: 1\\n    - Correct Answers: 0\\n    - Incorrect Answers: 1\\n    - Accuracy Percentage: 0%\\n  * Subtopic: Reproductive systems\\n    - Questions Attempted: 1\\n    - Correct Answers: 0\\n    - Incorrect Answers: 1\\n    - Accuracy Percentage: 0%\\n  * Subtopic: Embryonic development\\n    - Questions Attempted: 1\\n    - Correct Answers: 1\\n    - Incorrect Answers: 0\\n    - Accuracy Percentage: 100%\\n* **Genetics and Evolution**:\\n  * Subtopic: Meiosis\\n    - Questions Attempted: 2\\n    - Correct Answers: 1\\n    - Incorrect Answers: 1\\n    - Accuracy Percentage: 50%\\n  * Subtopic: Genetics concepts\\n    - Questions Attempted: 2\\n    - Correct Answers: 1\\n    - Incorrect Answers: 1\\n    - Accuracy Percentage: 50%\\n  * Subtopic: Evolution\\n    - Questions Attempted: 2\\n    - Correct Answers: 0\\n    - Incorrect Answers: 2\\n    - Accuracy Percentage: 0%\\n* **Cell Structure and Function**:\\n  * Subtopic: Cell structure\\n    - Questions Attempted: 2\\n    - Correct Answers: 1\\n    - Incorrect Answers: 1\\n    - Accuracy Percentage: 50%\\n  * Subtopic: Cell division\\n    - Questions Attempted: 1\\n    - Correct Answers: 0\\n    - Incorrect Answers: 1\\n    - Accuracy Percentage: 0%\\n  * Subtopic: Endoplasmic reticulum\\n    - Questions Attempted: 1\\n    - Correct Answers: 0\\n    - Incorrect Answers: 1\\n    - Accuracy Percentage: 0%\\n\\n**Actionable Suggestions for Improvement**\\n\\n* **Reproduction**:\\n  * Review types of reproduction, reproductive systems, and embryonic development.\\n  * Practice questions on these topics.\\n* **Genetics and Evolution**:\\n  * Review meiosis, genetics concepts, and evolution.\\n  * Practice questions on these topics.\\n* **Cell Structure and Function**:\\n  * Review cell structure, cell division, and endoplasmic reticulum.\\n  * Practice questions on these topics.\\n* **Diversity in Living World**:\\n  * Review classification concepts.\\n  * Practice questions on this topic.\\n\\n**Progress Comparison**\\n\\n* **Overall Accuracy**:\\n  * Previous: 0%\\n  * Current: 33.33%\\n  * Change: 33.33% (Improvement)\\n\\n**Overall Summary and Motivational Message**\\n\\nYou have attempted 30 questions and scored 33.33% accuracy. You have shown improvement in genetics and evolution, diversity in living world, and cell structure and function. Focus on reviewing types of reproduction, reproductive systems, meiosis, genetics concepts, evolution, cell structure, cell division, and endoplasmic reticulum. With consistent effort, you will see further improvement in your future attempts. Good luck!\"),\n",
       " ('2024-10-16 16:00:07',\n",
       "  \"After analyzing the provided JSON data, I've generated the detailed report of the student's exam paper.\\n\\n**Overall Score Summary**\\n\\n* Total Questions Answered: 30\\n* Total Correct Answers: 0\\n* Total Incorrect Answers: 30\\n* Overall Accuracy Percentage: 0%\\n\\n**Chapter-wise Analysis**\\n\\n* **Reproduction**:\\n  * Total Questions Answered: 6\\n  * Correct Answers: 0\\n  * Incorrect Answers: 6\\n  * Accuracy Percentage: 0%\\n* **Structural Organization in Plants and Animals**:\\n  * Total Questions Answered: 5\\n  * Correct Answers: 0\\n  * Incorrect Answers: 5\\n  * Accuracy Percentage: 0%\\n* **Cell Structure and Function**:\\n  * Total Questions Answered: 4\\n  * Correct Answers: 0\\n  * Incorrect Answers: 4\\n  * Accuracy Percentage: 0%\\n* **Diversity in Living World**:\\n  * Total Questions Answered: 4\\n  * Correct Answers: 0\\n  * Incorrect Answers: 4\\n  * Accuracy Percentage: 0%\\n* **Ecology and Environment**:\\n  * Total Questions Answered: 1\\n  * Correct Answers: 0\\n  * Incorrect Answers: 1\\n  * Accuracy Percentage: 0%\\n* **Human Physiology**:\\n  * Total Questions Answered: 1\\n  * Correct Answers: 0\\n  * Incorrect Answers: 1\\n  * Accuracy Percentage: 0%\\n* **Photosynthesis**:\\n  * Total Questions Answered: 1\\n  * Correct Answers: 0\\n  * Incorrect Answers: 1\\n  * Accuracy Percentage: 0%\\n* **Not Available**:\\n  * Total Questions Answered: 8\\n  * Correct Answers: 0\\n  * Incorrect Answers: 8\\n  * Accuracy Percentage: 0%\\n\\n**Topic-wise Breakdown within Chapters**\\n\\n* **Reproduction**:\\n  * Subtopic: Types of reproduction\\n    - Questions Attempted: 1\\n    - Correct Answers: 0\\n    - Incorrect Answers: 1\\n    - Accuracy Percentage: 0%\\n  * Subtopic: Reproductive systems\\n    - Questions Attempted: 2\\n    - Correct Answers: 0\\n    - Incorrect Answers: 2\\n    - Accuracy Percentage: 0%\\n  * Subtopic: Embryonic development\\n    - Questions Attempted: 2\\n    - Correct Answers: 0\\n    - Incorrect Answers: 2\\n    - Accuracy Percentage: 0%\\n  * Subtopic: Spermatogenesis and Oogenesis\\n    - Questions Attempted: 1\\n    - Correct Answers: 0\\n    - Incorrect Answers: 1\\n    - Accuracy Percentage: 0%\\n* **Structural Organization in Plants and Animals**:\\n  * Subtopic: Plant structure\\n    - Questions Attempted: 2\\n    - Correct Answers: 0\\n    - Incorrect Answers: 2\\n    - Accuracy Percentage: 0%\\n  * Subtopic: Animal structure\\n    - Questions Attempted: 3\\n    - Correct Answers: 0\\n    - Incorrect Answers: 3\\n    - Accuracy Percentage: 0%\\n* **Cell Structure and Function**:\\n  * Subtopic: Cell structure\\n    - Questions Attempted: 2\\n    - Correct Answers: 0\\n    - Incorrect Answers: 2\\n    - Accuracy Percentage: 0%\\n  * Subtopic: Cell division\\n    - Questions Attempted: 1\\n    - Correct Answers: 0\\n    - Incorrect Answers: 1\\n    - Accuracy Percentage: 0%\\n  * Subtopic: Cell junctions\\n    - Questions Attempted: 1\\n    - Correct Answers: 0\\n    - Incorrect Answers: 1\\n    - Accuracy Percentage: 0%\\n* **Diversity in Living World**:\\n  * Subtopic: Classification concepts\\n    - Questions Attempted: 2\\n    - Correct Answers: 0\\n    - Incorrect Answers: 2\\n    - Accuracy Percentage: 0%\\n  * Subtopic: Taxonomic categories\\n    - Questions Attempted: 1\\n    - Correct Answers: 0\\n    - Incorrect Answers: 1\\n    - Accuracy Percentage: 0%\\n  * Subtopic: Niche and habitat\\n    - Questions Attempted: 1\\n    - Correct Answers: 0\\n    - Incorrect Answers: 1\\n    - Accuracy Percentage: 0%\\n\\n**Actionable Suggestions for Improvement**\\n\\n* **Reproduction**:\\n  * Review types of reproduction, reproductive systems, embryonic development, spermatogenesis, and oogenesis.\\n  * Practice questions on these topics.\\n* **Structural Organization in Plants and Animals**:\\n  * Review plant and animal structure.\\n  * Practice questions on these topics.\\n* **Cell Structure and Function**:\\n  * Review cell structure, cell division, and cell junctions.\\n  * Practice questions on these topics.\\n* **Diversity in Living World**:\\n  * Review classification concepts, taxonomic categories, niche, and habitat.\\n  * Practice questions on these topics.\\n* **Ecology and Environment**:\\n  * Review ecosystems and population dynamics.\\n  * Practice questions on these topics.\\n* **Human Physiology**:\\n  * Review human physiology concepts.\\n  * Practice questions on this topic.\\n\\n**Progress Comparison**\\n\\n* **Overall Accuracy**:\\n  * Previous: 33.33%\\n  * Current: 0%\\n  * Change: -33.33% (Decline)\\n\\n**Overall Summary and Motivational Message**\\n\\nYou have attempted 30 questions and scored 0% accuracy. Focus on reviewing all the topics, especially reproduction, structural organization in plants and animals, cell structure and function, diversity in living world, ecology and environment, and human physiology. With consistent effort, you will see improvement in your future attempts. Don't get discouraged and keep working hard. Good luck!\"),\n",
       " ('2024-10-16 16:02:45',\n",
       "  \"After analyzing the provided JSON data, I've generated the detailed report of the student's exam paper.\\n\\n**Overall Score Summary**\\n\\n* Total Questions Answered: 30\\n* Total Correct Answers: 0\\n* Total Incorrect Answers: 30\\n* Overall Accuracy Percentage: 0%\\n\\n**Chapter-wise Analysis**\\n\\n* **Reproduction**:\\n  * Total Questions Answered: 4\\n  * Correct Answers: 0\\n  * Incorrect Answers: 4\\n  * Accuracy Percentage: 0%\\n* **Structural Organization in Plants and Animals**:\\n  * Total Questions Answered: 4\\n  * Correct Answers: 0\\n  * Incorrect Answers: 4\\n  * Accuracy Percentage: 0%\\n* **Genetics and Evolution**:\\n  * Total Questions Answered: 5\\n  * Correct Answers: 0\\n  * Incorrect Answers: 5\\n  * Accuracy Percentage: 0%\\n* **Diversity in Living World**:\\n  * Total Questions Answered: 5\\n  * Correct Answers: 0\\n  * Incorrect Answers: 5\\n  * Accuracy Percentage: 0%\\n* **Not Available**:\\n  * Total Questions Answered: 12\\n  * Correct Answers: 0\\n  * Incorrect Answers: 12\\n  * Accuracy Percentage: 0%\\n\\n**Topic-wise Breakdown within Chapters**\\n\\n* **Reproduction**:\\n  * Subtopic: Types of reproduction\\n    - Questions Attempted: 1\\n    - Correct Answers: 0\\n    - Incorrect Answers: 1\\n    - Accuracy Percentage: 0%\\n  * Subtopic: Reproductive systems\\n    - Questions Attempted: 2\\n    - Correct Answers: 0\\n    - Incorrect Answers: 2\\n    - Accuracy Percentage: 0%\\n  * Subtopic: Spermatogenesis and Oogenesis\\n    - Questions Attempted: 1\\n    - Correct Answers: 0\\n    - Incorrect Answers: 1\\n    - Accuracy Percentage: 0%\\n* **Structural Organization in Plants and Animals**:\\n  * Subtopic: Plant structure\\n    - Questions Attempted: 2\\n    - Correct Answers: 0\\n    - Incorrect Answers: 2\\n    - Accuracy Percentage: 0%\\n  * Subtopic: Animal structure\\n    - Questions Attempted: 2\\n    - Correct Answers: 0\\n    - Incorrect Answers: 2\\n    - Accuracy Percentage: 0%\\n* **Genetics and Evolution**:\\n  * Subtopic: Mendelian laws\\n    - Questions Attempted: 2\\n    - Correct Answers: 0\\n    - Incorrect Answers: 2\\n    - Accuracy Percentage: 0%\\n  * Subtopic: Evolution concepts\\n    - Questions Attempted: 2\\n    - Correct Answers: 0\\n    - Incorrect Answers: 2\\n    - Accuracy Percentage: 0%\\n  * Subtopic: Genetic variation\\n    - Questions Attempted: 1\\n    - Correct Answers: 0\\n    - Incorrect Answers: 1\\n    - Accuracy Percentage: 0%\\n* **Diversity in Living World**:\\n  * Subtopic: Classification concepts\\n    - Questions Attempted: 2\\n    - Correct Answers: 0\\n    - Incorrect Answers: 2\\n    - Accuracy Percentage: 0%\\n  * Subtopic: Taxonomic categories\\n    - Questions Attempted: 1\\n    - Correct Answers: 0\\n    - Incorrect Answers: 1\\n    - Accuracy Percentage: 0%\\n  * Subtopic: Biodiversity concepts\\n    - Questions Attempted: 2\\n    - Correct Answers: 0\\n    - Incorrect Answers: 2\\n    - Accuracy Percentage: 0%\\n\\n**Actionable Suggestions for Improvement**\\n\\n* **Reproduction**:\\n  * Review types of reproduction, reproductive systems, spermatogenesis, and oogenesis.\\n  * Practice questions on these topics.\\n* **Structural Organization in Plants and Animals**:\\n  * Review plant and animal structure.\\n  * Practice questions on these topics.\\n* **Genetics and Evolution**:\\n  * Review Mendelian laws, evolution concepts, and genetic variation.\\n  * Practice questions on these topics.\\n* **Diversity in Living World**:\\n  * Review classification concepts, taxonomic categories, and biodiversity concepts.\\n  * Practice questions on these topics.\\n\\n**Progress Comparison**\\n\\n* **Overall Accuracy**:\\n  * Previous: 33.33%\\n  * Current: 0%\\n  * Change: -33.33% (Decline)\\n\\n**Overall Summary and Motivational Message**\\n\\nYou have attempted 30 questions and scored 0% accuracy. Focus on reviewing all the topics, especially reproduction, structural organization in plants and animals, genetics and evolution, and diversity in living world. With consistent effort, you will see improvement in your future attempts. Don't get discouraged and keep working hard. Good luck!\"),\n",
       " ('2024-10-16 16:10:14',\n",
       "  \"After reanalyzing the provided JSON data, I've generated a detailed report of the student's exam paper.\\n\\n**Overall Score Summary**\\n\\n* Total Questions Answered: 30\\n* Total Correct Answers: 1\\n* Total Incorrect Answers: 29\\n* Overall Accuracy Percentage: 3.33%\\n\\n**Chapter-wise Analysis**\\n\\n* **Reproduction**:\\n  * Total Questions Answered: 7\\n  * Correct Answers: 0\\n  * Incorrect Answers: 7\\n  * Accuracy Percentage: 0%\\n* **Ecology and Environment**:\\n  * Total Questions Answered: 3\\n  * Correct Answers: 0\\n  * Incorrect Answers: 3\\n  * Accuracy Percentage: 0%\\n* **Cell Structure and Function**:\\n  * Total Questions Answered: 3\\n  * Correct Answers: 0\\n  * Incorrect Answers: 3\\n  * Accuracy Percentage: 0%\\n* **Diversity in Living World**:\\n  * Total Questions Answered: 4\\n  * Correct Answers: 0\\n  * Incorrect Answers: 4\\n  * Accuracy Percentage: 0%\\n* **Genetics and Evolution**:\\n  * Total Questions Answered: 3\\n  * Correct Answers: 1\\n  * Incorrect Answers: 2\\n  * Accuracy Percentage: 33.33%\\n* **Structural Organization in Plants and Animals**:\\n  * Total Questions Answered: 5\\n  * Correct Answers: 0\\n  * Incorrect Answers: 5\\n  * Accuracy Percentage: 0%\\n* **Population Dynamics**:\\n  * Total Questions Answered: 1\\n  * Correct Answers: 1\\n  * Incorrect Answers: 0\\n  * Accuracy Percentage: 100%\\n* **Plant Physiology**:\\n  * Total Questions Answered: 1\\n  * Correct Answers: 0\\n  * Incorrect Answers: 1\\n  * Accuracy Percentage: 0%\\n* **Not Available**:\\n  * Total Questions Answered: 3\\n  * Correct Answers: 0\\n  * Incorrect Answers: 3\\n  * Accuracy Percentage: 0%\\n\\n**Topic-wise Breakdown within Chapters**\\n\\n* **Reproduction**:\\n  * Subtopic: Types of reproduction\\n    - Questions Attempted: 1\\n    - Correct Answers: 0\\n    - Incorrect Answers: 1\\n    - Accuracy Percentage: 0%\\n  * Subtopic: Reproductive systems\\n    - Questions Attempted: 2\\n    - Correct Answers: 0\\n    - Incorrect Answers: 2\\n    - Accuracy Percentage: 0%\\n  * Subtopic: Spermatogenesis and Oogenesis\\n    - Questions Attempted: 2\\n    - Correct Answers: 0\\n    - Incorrect Answers: 2\\n    - Accuracy Percentage: 0%\\n  * Subtopic: Embryonic development\\n    - Questions Attempted: 2\\n    - Correct Answers: 0\\n    - Incorrect Answers: 2\\n    - Accuracy Percentage: 0%\\n* **Ecology and Environment**:\\n  * Subtopic: Ecological pyramids\\n    - Questions Attempted: 2\\n    - Correct Answers: 0\\n    - Incorrect Answers: 2\\n    - Accuracy Percentage: 0%\\n  * Subtopic: Ecosystems\\n    - Questions Attempted: 1\\n    - Correct Answers: 0\\n    - Incorrect Answers: 1\\n    - Accuracy Percentage: 0%\\n* **Cell Structure and Function**:\\n  * Subtopic: Cell structure\\n    - Questions Attempted: 1\\n    - Correct Answers: 0\\n    - Incorrect Answers: 1\\n    - Accuracy Percentage: 0%\\n  * Subtopic: Cell division\\n    - Questions Attempted: 1\\n    - Correct Answers: 0\\n    - Incorrect Answers: 1\\n    - Accuracy Percentage: 0%\\n  * Subtopic: Biomolecules\\n    - Questions Attempted: 1\\n    - Correct Answers: 0\\n    - Incorrect Answers: 1\\n    - Accuracy Percentage: 0%\\n* **Diversity in Living World**:\\n  * Subtopic: Classification concepts\\n    - Questions Attempted: 1\\n    - Correct Answers: 0\\n    - Incorrect Answers: 1\\n    - Accuracy Percentage: 0%\\n  * Subtopic: Taxonomic categories\\n    - Questions Attempted: 1\\n    - Correct Answers: 0\\n    - Incorrect Answers: 1\\n    - Accuracy Percentage: 0%\\n  * Subtopic: Biodiversity concepts\\n    - Questions Attempted: 2\\n    - Correct Answers: 0\\n    - Incorrect Answers: 2\\n    - Accuracy Percentage: 0%\\n* **Genetics and Evolution**:\\n  * Subtopic: Mendelian laws\\n    - Questions Attempted: 1\\n    - Correct Answers: 0\\n    - Incorrect Answers: 1\\n    - Accuracy Percentage: 0%\\n  * Subtopic: Evolution concepts\\n    - Questions Attempted: 1\\n    - Correct Answers: 1\\n    - Incorrect Answers: 0\\n    - Accuracy Percentage: 100%\\n  * Subtopic: Genetic variation\\n    - Questions Attempted: 1\\n    - Correct Answers: 0\\n    - Incorrect Answers: 1\\n    - Accuracy Percentage: 0%\\n\\n**Actionable Suggestions for Improvement**\\n\\n* **Reproduction**:\\n  * Review types of reproduction, reproductive systems, spermatogenesis, oogenesis, and embryonic development.\\n  * Practice questions on these topics.\\n* **Ecology and Environment**:\\n  * Review ecological pyramids and ecosystems.\\n  * Practice questions on these topics.\\n* **Cell Structure and Function**:\\n  * Review cell structure, cell division, and biomolecules.\\n  * Practice questions on these topics.\\n* **Diversity in Living World**:\\n  * Review classification concepts, taxonomic categories, and biodiversity concepts.\\n  * Practice questions on these topics.\\n* **Genetics and Evolution**:\\n  * Review Mendelian laws, evolution concepts, and genetic variation.\\n  * Practice questions on these topics.\\n\\n**Progress Comparison**\\n\\n* **Overall Accuracy**:\\n  * Previous: 33.33%\\n  * Current: 3.33%\\n  * Change: -30% (Decline)\\n\\n**Overall Summary and Motivational Message**\\n\\nYou have attempted 30 questions and scored 3.33% accuracy. Focus on reviewing all the topics, especially reproduction, ecology and environment, cell structure and function, diversity in living world, and genetics and evolution. With consistent effort, you will see improvement in your future attempts. Don't get discouraged and keep working hard. Good luck!\"),\n",
       " ('2024-10-16 16:13:02',\n",
       "  \"After reanalyzing the provided JSON data, I've generated a detailed report of the student's exam paper.\\n\\n**Overall Score Summary**\\n\\n* Total Questions Answered: 30\\n* Total Correct Answers: 1\\n* Total Incorrect Answers: 29\\n* Overall Accuracy Percentage: 3.33%\\n\\n**Chapter-wise Analysis**\\n\\n* **Reproduction**:\\n  * Total Questions Answered: 6\\n  * Correct Answers: 0\\n  * Incorrect Answers: 6\\n  * Accuracy Percentage: 0%\\n* **Ecology and Environment**:\\n  * Total Questions Answered: 1\\n  * Correct Answers: 0\\n  * Incorrect Answers: 1\\n  * Accuracy Percentage: 0%\\n* **Cell Structure and Function**:\\n  * Total Questions Answered: 1\\n  * Correct Answers: 0\\n  * Incorrect Answers: 1\\n  * Accuracy Percentage: 0%\\n* **Diversity in Living World**:\\n  * Total Questions Answered: 5\\n  * Correct Answers: 0\\n  * Incorrect Answers: 5\\n  * Accuracy Percentage: 0%\\n* **Genetics and Evolution**:\\n  * Total Questions Answered: 3\\n  * Correct Answers: 0\\n  * Incorrect Answers: 3\\n  * Accuracy Percentage: 0%\\n* **Structural Organization in Plants and Animals**:\\n  * Total Questions Answered: 7\\n  * Correct Answers: 0\\n  * Incorrect Answers: 7\\n  * Accuracy Percentage: 0%\\n* **Human Physiology**:\\n  * Total Questions Answered: 1\\n  * Correct Answers: 0\\n  * Incorrect Answers: 1\\n  * Accuracy Percentage: 0%\\n* **Biology and Human Welfare**:\\n  * Total Questions Answered: 1\\n  * Correct Answers: 0\\n  * Incorrect Answers: 1\\n  * Accuracy Percentage: 0%\\n* **Plant Physiology**:\\n  * Total Questions Answered: 1\\n  * Correct Answers: 0\\n  * Incorrect Answers: 1\\n  * Accuracy Percentage: 0%\\n* **Immunity**:\\n  * Total Questions Answered: 1\\n  * Correct Answers: 0\\n  * Incorrect Answers: 1\\n  * Accuracy Percentage: 0%\\n* **Biodiversity loss**:\\n  * Total Questions Answered: 1\\n  * Correct Answers: 0\\n  * Incorrect Answers: 1\\n  * Accuracy Percentage: 0%\\n\\n**Topic-wise Breakdown within Chapters**\\n\\n* **Reproduction**:\\n  * Subtopic: Types of reproduction\\n    - Questions Attempted: 1\\n    - Correct Answers: 0\\n    - Incorrect Answers: 1\\n    - Accuracy Percentage: 0%\\n  * Subtopic: Reproductive systems\\n    - Questions Attempted: 2\\n    - Correct Answers: 0\\n    - Incorrect Answers: 2\\n    - Accuracy Percentage: 0%\\n  * Subtopic: Spermatogenesis and Oogenesis\\n    - Questions Attempted: 1\\n    - Correct Answers: 0\\n    - Incorrect Answers: 1\\n    - Accuracy Percentage: 0%\\n  * Subtopic: Embryonic development\\n    - Questions Attempted: 2\\n    - Correct Answers: 0\\n    - Incorrect Answers: 2\\n    - Accuracy Percentage: 0%\\n* **Ecology and Environment**:\\n  * Subtopic: Ecological pyramids\\n    - Questions Attempted: 1\\n    - Correct Answers: 0\\n    - Incorrect Answers: 1\\n    - Accuracy Percentage: 0%\\n* **Cell Structure and Function**:\\n  * Subtopic: Cell structure\\n    - Questions Attempted: 1\\n    - Correct Answers: 0\\n    - Incorrect Answers: 1\\n    - Accuracy Percentage: 0%\\n* **Diversity in Living World**:\\n  * Subtopic: Classification concepts\\n    - Questions Attempted: 1\\n    - Correct Answers: 0\\n    - Incorrect Answers: 1\\n    - Accuracy Percentage: 0%\\n  * Subtopic: Taxonomic categories\\n    - Questions Attempted: 1\\n    - Correct Answers: 0\\n    - Incorrect Answers: 1\\n    - Accuracy Percentage: 0%\\n  * Subtopic: Biodiversity concepts\\n    - Questions Attempted: 3\\n    - Correct Answers: 0\\n    - Incorrect Answers: 3\\n    - Accuracy Percentage: 0%\\n* **Genetics and Evolution**:\\n  * Subtopic: Mendelian laws\\n    - Questions Attempted: 1\\n    - Correct Answers: 0\\n    - Incorrect Answers: 1\\n    - Accuracy Percentage: 0%\\n  * Subtopic: Evolution concepts\\n    - Questions Attempted: 1\\n    - Correct Answers: 0\\n    - Incorrect Answers: 1\\n    - Accuracy Percentage: 0%\\n  * Subtopic: Genetic variation\\n    - Questions Attempted: 1\\n    - Correct Answers: 0\\n    - Incorrect Answers: 1\\n    - Accuracy Percentage: 0%\\n\\n**Actionable Suggestions for Improvement**\\n\\n* **Reproduction**:\\n  * Review types of reproduction, reproductive systems, spermatogenesis, oogenesis, and embryonic development.\\n  * Practice questions on these topics.\\n* **Ecology and Environment**:\\n  * Review ecological pyramids.\\n  * Practice questions on this topic.\\n* **Cell Structure and Function**:\\n  * Review cell structure.\\n  * Practice questions on this topic.\\n* **Diversity in Living World**:\\n  * Review classification concepts, taxonomic categories, and biodiversity concepts.\\n  * Practice questions on these topics.\\n* **Genetics and Evolution**:\\n  * Review Mendelian laws, evolution concepts, and genetic variation.\\n  * Practice questions on these topics.\\n* **Structural Organization in Plants and Animals**:\\n  * Review the chapter thoroughly.\\n  * Practice questions on the topics.\\n* **Human Physiology**:\\n  * Review the chapter thoroughly.\\n  * Practice questions on the topics.\\n* **Biology and Human Welfare**:\\n  * Review the chapter thoroughly.\\n  * Practice questions on the topics.\\n* **Plant Physiology**:\\n  * Review the chapter thoroughly.\\n  * Practice questions on the topics.\\n* **Immunity**:\\n  * Review the chapter thoroughly.\\n  * Practice questions on the topics.\\n* **Biodiversity loss**:\\n  * Review the chapter thoroughly.\\n  * Practice questions on the topics.\\n\\n**Progress Comparison**\\n\\n* **Overall Accuracy**:\\n  * Previous: Not Available\\n  * Current: 3.33%\\n  * Change: Not Applicable\\n\\n**Overall Summary and Motivational Message**\\n\\nYou have attempted 30 questions and scored 3.33% accuracy. Focus on reviewing all the topics, especially reproduction, ecology and environment, cell structure and function, diversity in living world, genetics and evolution, structural organization in plants and animals, human physiology, biology and human welfare, plant physiology, immunity, and biodiversity loss. With consistent effort, you will see improvement in your future attempts. Don't get discouraged and keep working hard. Good luck!\"),\n",
       " ('2024-10-17 08:48:57', \"I'm sorry, an internal error has occurred.\"),\n",
       " ('2024-10-17 09:04:05',\n",
       "  '**Overall Score Summary**\\n\\n* Total Questions Answered: 29\\n* Total Correct Answers: 11\\n* Total Incorrect Answers: 18\\n* Overall Accuracy Percentage: 37.93%\\n\\n**Chapter-wise Analysis**\\n\\n* **Diversity in Living World**:\\n  * Total Questions Answered: 9\\n  * Correct Answers: 4\\n  * Incorrect Answers: 5\\n  * Accuracy Percentage: 44.44%\\n* **Reproduction**:\\n  * Total Questions Answered: 2\\n  * Correct Answers: 0\\n  * Incorrect Answers: 2\\n  * Accuracy Percentage: 0%\\n* **Genetics and Evolution**:\\n  * Total Questions Answered: 3\\n  * Correct Answers: 1\\n  * Incorrect Answers: 2\\n  * Accuracy Percentage: 33.33%\\n* **Cell Structure and Function**:\\n  * Total Questions Answered: 4\\n  * Correct Answers: 2\\n  * Incorrect Answers: 2\\n  * Accuracy Percentage: 50%\\n* **Structural Organization in Plants and Animals**:\\n  * Total Questions Answered: 4\\n  * Correct Answers: 1\\n  * Incorrect Answers: 3\\n  * Accuracy Percentage: 25%\\n\\n**Topic-wise Breakdown within Chapters**\\n\\n* **Diversity in Living World**:\\n  * Subtopic: Biodiversity\\n    - Questions Attempted: 4\\n    * Correct Answers: 2\\n    * Incorrect Answers: 2\\n    * Accuracy Percentage: 50%\\n  * Subtopic: Classification\\n    - Questions Attempted: 3\\n    * Correct Answers: 2\\n    * Incorrect Answers: 1\\n    * Accuracy Percentage: 66.67%\\n  * Subtopic: Ecosystems\\n    - Questions Attempted: 2\\n    * Correct Answers: 0\\n    * Incorrect Answers: 2\\n    * Accuracy Percentage: 0%\\n* **Reproduction**:\\n  * Subtopic: Male Reproductive System\\n    - Questions Attempted: 1\\n    * Correct Answers: 0\\n    * Incorrect Answers: 1\\n    * Accuracy Percentage: 0%\\n  * Subtopic: Female Reproductive System\\n    - Questions Attempted: 1\\n    * Correct Answers: 0\\n    * Incorrect Answers: 1\\n    * Accuracy Percentage: 0%\\n* **Genetics and Evolution**:\\n  * Subtopic: Mendelian Genetics\\n    - Questions Attempted: 2\\n    * Correct Answers: 1\\n    * Incorrect Answers: 1\\n    * Accuracy Percentage: 50%\\n  * Subtopic: Evolution\\n    - Questions Attempted: 1\\n    * Correct Answers: 0\\n    * Incorrect Answers: 1\\n    * Accuracy Percentage: 0%\\n* **Cell Structure and Function**:\\n  * Subtopic: Cell Membrane\\n    - Questions Attempted: 1\\n    * Correct Answers: 1\\n    * Incorrect Answers: 0\\n    * Accuracy Percentage: 100%\\n  * Subtopic: Cell Division\\n    - Questions Attempted: 2\\n    * Correct Answers: 1\\n    * Incorrect Answers: 1\\n    * Accuracy Percentage: 50%\\n  * Subtopic: Cell Junctions\\n    - Questions Attempted: 1\\n    * Correct Answers: 0\\n    * Incorrect Answers: 1\\n    * Accuracy Percentage: 0%\\n\\n**Actionable Suggestions for Improvement**\\n\\n* **Diversity in Living World**:\\n  * Review and practice questions related to ecosystems and conservation biology.\\n  * Focus on understanding classification and biodiversity concepts.\\n* **Reproduction**:\\n  * Study the male and female reproductive systems in detail.\\n  * Practice questions related to reproductive health and diseases.\\n* **Genetics and Evolution**:\\n  * Review Mendelian genetics and practice problems.\\n  * Focus on understanding evolutionary concepts and mechanisms.\\n* **Cell Structure and Function**:\\n  * Review cell membrane structure and function.\\n  * Practice questions related to cell division and cell junctions.\\n\\n**Progress Comparison**\\n\\n* **Overall Accuracy**:\\n  * Previous: N/A\\n  * Current: 37.93%\\n  * Change: N/A\\n\\n**Overall Summary and Motivational Message**\\n\\nYou have attempted 29 questions and scored 37.93% accuracy. You have shown strength in cell structure and function but need to improve in reproduction, genetics, and evolution. Review the suggested topics and practice questions to improve your performance. Keep working hard, and you will see improvement in your future attempts. Good luck!'),\n",
       " ('2024-10-17 09:17:51',\n",
       "  \"After analyzing the provided data, I've generated a detailed report of the student's exam performance.\\n\\n**Overall Score Summary**\\n\\n* Total Questions Answered: 30\\n* Total Correct Answers: 10\\n* Total Incorrect Answers: 20\\n* Overall Accuracy Percentage: 33.33%\\n\\n**Chapter-wise Analysis**\\n\\n* **Reproduction**:\\n  * Total Questions Answered: 4\\n  * Correct Answers: 1\\n  * Incorrect Answers: 3\\n  * Accuracy Percentage: 25%\\n* **Genetics and Evolution**:\\n  * Total Questions Answered: 5\\n  * Correct Answers: 2\\n  * Incorrect Answers: 3\\n  * Accuracy Percentage: 40%\\n* **Diversity in Living World**:\\n  * Total Questions Answered: 4\\n  * Correct Answers: 1\\n  * Incorrect Answers: 3\\n  * Accuracy Percentage: 25%\\n* **Plant Physiology**:\\n  * Total Questions Answered: 2\\n  * Correct Answers: 1\\n  * Incorrect Answers: 1\\n  * Accuracy Percentage: 50%\\n* **Human Physiology**:\\n  * Total Questions Answered: 2\\n  * Correct Answers: 0\\n  * Incorrect Answers: 2\\n  * Accuracy Percentage: 0%\\n* **Biomolecules**:\\n  * Total Questions Answered: 1\\n  * Correct Answers: 0\\n  * Incorrect Answers: 1\\n  * Accuracy Percentage: 0%\\n* **Cell Structure and Function**:\\n  * Total Questions Answered: 2\\n  * Correct Answers: 1\\n  * Incorrect Answers: 1\\n  * Accuracy Percentage: 50%\\n* **Immunity**:\\n  * Total Questions Answered: 1\\n  * Correct Answers: 0\\n  * Incorrect Answers: 1\\n  * Accuracy Percentage: 0%\\n* **Structural Organization in Plants and Animals**:\\n  * Total Questions Answered: 3\\n  * Correct Answers: 1\\n  * Incorrect Answers: 2\\n  * Accuracy Percentage: 33.33%\\n* **Cell Division**:\\n  * Total Questions Answered: 1\\n  * Correct Answers: 1\\n  * Incorrect Answers: 0\\n  * Accuracy Percentage: 100%\\n\\n**Topic-wise Breakdown within Chapters**\\n\\n* **Reproduction**:\\n  * Subtopic: Male Reproductive System\\n    - Questions Attempted: 2\\n    * Correct Answers: 1\\n    * Incorrect Answers: 1\\n    * Accuracy Percentage: 50%\\n  * Subtopic: Female Reproductive System\\n    - Questions Attempted: 1\\n    * Correct Answers: 0\\n    * Incorrect Answers: 1\\n    * Accuracy Percentage: 0%\\n  * Subtopic: Embryonic Development\\n    - Questions Attempted: 1\\n    * Correct Answers: 0\\n    * Incorrect Answers: 1\\n    * Accuracy Percentage: 0%\\n* **Genetics and Evolution**:\\n  * Subtopic: Mendelian Genetics\\n    - Questions Attempted: 2\\n    * Correct Answers: 1\\n    * Incorrect Answers: 1\\n    * Accuracy Percentage: 50%\\n  * Subtopic: Evolution\\n    - Questions Attempted: 2\\n    * Correct Answers: 1\\n    * Incorrect Answers: 1\\n    * Accuracy Percentage: 50%\\n  * Subtopic: Phylogeny\\n    - Questions Attempted: 1\\n    * Correct Answers: 0\\n    * Incorrect Answers: 1\\n    * Accuracy Percentage: 0%\\n* **Diversity in Living World**:\\n  * Subtopic: Biodiversity\\n    - Questions Attempted: 2\\n    * Correct Answers: 1\\n    * Incorrect Answers: 1\\n    * Accuracy Percentage: 50%\\n  * Subtopic: Classification\\n    - Questions Attempted: 1\\n    * Correct Answers: 0\\n    * Incorrect Answers: 1\\n    * Accuracy Percentage: 0%\\n  * Subtopic: Ecosystems\\n    - Questions Attempted: 1\\n    * Correct Answers: 0\\n    * Incorrect Answers: 1\\n    * Accuracy Percentage: 0%\\n* **Plant Physiology**:\\n  * Subtopic: Photosynthesis\\n    - Questions Attempted: 1\\n    * Correct Answers: 0\\n    * Incorrect Answers: 1\\n    * Accuracy Percentage: 0%\\n  * Subtopic: Respiration\\n    - Questions Attempted: 1\\n    * Correct Answers: 1\\n    * Incorrect Answers: 0\\n    * Accuracy Percentage: 100%\\n\\n**Actionable Suggestions for Improvement**\\n\\n* **Reproduction**:\\n  * Review embryonic development and reproductive systems.\\n  * Practice questions on male and female reproductive systems.\\n* **Genetics and Evolution**:\\n  * Review Mendelian genetics and practice problems.\\n  * Focus on understanding evolutionary concepts and mechanisms.\\n* **Diversity in Living World**:\\n  * Review and practice questions related to ecosystems and conservation biology.\\n  * Focus on understanding classification and biodiversity concepts.\\n* **Plant Physiology**:\\n  * Review photosynthesis and respiration processes.\\n  * Practice questions related to plant physiology.\\n\\n**Progress Comparison**\\n\\n* **Overall Accuracy**:\\n  * Previous: 37.93%\\n  * Current: 33.33%\\n  * Change: -4.6% (Decline)\\n\\n**Overall Summary and Motivational Message**\\n\\nYou have attempted 30 questions and scored 33.33% accuracy. You have shown strength in cell structure and function but need to improve in reproduction, genetics, evolution, and other areas. Review the suggested topics and practice questions to improve your performance. Don't be discouraged by the decline in accuracy; keep working hard, and you will see improvement in your future attempts. Good luck!\"),\n",
       " ('2024-10-17 09:41:52', \"I'm sorry, an internal error has occurred.\"),\n",
       " ('2024-10-17 09:48:22',\n",
       "  \"Based on the provided JSON data, I will generate the detailed report of the student's exam paper for NEET.\\n\\n### Overall Score Summary\\n\\n* Total Questions Answered: 30\\n* Total Correct Answers: 12\\n* Total Incorrect Answers: 18\\n* Overall Accuracy Percentage: 40%\\n\\n### Chapter-wise Analysis\\n\\n* **Reproduction**:\\n  * Total Questions Answered: 7\\n  * Correct Answers: 2\\n  * Incorrect Answers: 5\\n  * Accuracy Percentage: 28.57%\\n* **Genetics and Evolution**:\\n  * Total Questions Answered: 5\\n  * Correct Answers: 3\\n  * Incorrect Answers: 2\\n  * Accuracy Percentage: 60%\\n* **Diversity in Living World**:\\n  * Total Questions Answered: 4\\n  * Correct Answers: 1\\n  * Incorrect Answers: 3\\n  * Accuracy Percentage: 25%\\n* **Plant Anatomy**:\\n  * Total Questions Answered: 2\\n  * Correct Answers: 0\\n  * Incorrect Answers: 2\\n  * Accuracy Percentage: 0%\\n* **Cell Structure and Function**:\\n  * Total Questions Answered: 3\\n  * Correct Answers: 2\\n  * Incorrect Answers: 1\\n  * Accuracy Percentage: 66.67%\\n* **Structural Organization in Plants and Animals**:\\n  * Total Questions Answered: 3\\n  * Correct Answers: 1\\n  * Incorrect Answers: 2\\n  * Accuracy Percentage: 33.33%\\n* **Human Physiology**:\\n  * Total Questions Answered: 1\\n  * Correct Answers: 0\\n  * Incorrect Answers: 1\\n  * Accuracy Percentage: 0%\\n* **Plant Physiology**:\\n  * Total Questions Answered: 2\\n  * Correct Answers: 0\\n  * Incorrect Answers: 2\\n  * Accuracy Percentage: 0%\\n* **Population Dynamics**:\\n  * Total Questions Answered: 1\\n  * Correct Answers: 1\\n  * Incorrect Answers: 0\\n  * Accuracy Percentage: 100%\\n\\n### Topic-wise Breakdown within Chapters\\n\\n* **Reproduction**:\\n  * Subtopic: Types of reproduction\\n    - Questions Attempted: 1\\n    - Correct Answers: 0\\n    - Incorrect Answers: 1\\n    - Accuracy Percentage: 0%\\n  * Subtopic: Embryonic development\\n    - Questions Attempted: 1\\n    - Correct Answers: 0\\n    - Incorrect Answers: 1\\n    - Accuracy Percentage: 0%\\n  * Subtopic: Reproductive systems\\n    - Questions Attempted: 2\\n    - Correct Answers: 1\\n    - Incorrect Answers: 1\\n    - Accuracy Percentage: 50%\\n* **Genetics and Evolution**:\\n  * Subtopic: Mendelian genetics\\n    - Questions Attempted: 2\\n    - Correct Answers: 2\\n    - Incorrect Answers: 0\\n    - Accuracy Percentage: 100%\\n  * Subtopic: Evolution\\n    - Questions Attempted: 1\\n    - Correct Answers: 0\\n    - Incorrect Answers: 1\\n    - Accuracy Percentage: 0%\\n  * Subtopic: Genetic variation\\n    - Questions Attempted: 1\\n    - Correct Answers: 0\\n    - Incorrect Answers: 1\\n    - Accuracy Percentage: 0%\\n  * Subtopic: Chromosomal structure and function\\n    - Questions Attempted: 1\\n    - Correct Answers: 1\\n    - Incorrect Answers: 0\\n    - Accuracy Percentage: 100%\\n* **Diversity in Living World**:\\n  * Subtopic: Classification of living organisms\\n    - Questions Attempted: 1\\n    - Correct Answers: 0\\n    - Incorrect Answers: 1\\n    - Accuracy Percentage: 0%\\n  * Subtopic: Characteristics of different taxonomic groups\\n    - Questions Attempted: 2\\n    - Correct Answers: 0\\n    - Incorrect Answers: 2\\n    - Accuracy Percentage: 0%\\n  * Subtopic: Phylogeny and systematics\\n    - Questions Attempted: 1\\n    - Correct Answers: 1\\n    - Incorrect Answers: 0\\n    - Accuracy Percentage: 100%\\n* **Plant Anatomy**:\\n  * Subtopic: Plant tissue systems\\n    - Questions Attempted: 1\\n    - Correct Answers: 0\\n    - Incorrect Answers: 1\\n    - Accuracy Percentage: 0%\\n  * Subtopic: Plant cell structure and function\\n    - Questions Attempted: 1\\n    - Correct Answers: 0\\n    - Incorrect Answers: 1\\n    - Accuracy Percentage: 0%\\n* **Cell Structure and Function**:\\n  * Subtopic: Cell structure\\n    - Questions Attempted: 1\\n    - Correct Answers: 1\\n    - Incorrect Answers: 0\\n    - Accuracy Percentage: 100%\\n  * Subtopic: Cell cycle\\n    - Questions Attempted: 1\\n    - Correct Answers: 0\\n    - Incorrect Answers: 1\\n    - Accuracy Percentage: 0%\\n  * Subtopic: Photosynthesis\\n    - Questions Attempted: 1\\n    - Correct Answers: 1\\n    - Incorrect Answers: 0\\n    - Accuracy Percentage: 100%\\n\\n### Actionable Suggestions for Improvement\\n\\n* **Reproduction**: Review embryonic development, reproductive systems, and types of reproduction. Practice questions on these topics.\\n* **Diversity in Living World**: Review classification of living organisms, characteristics of different taxonomic groups, and phylogeny and systematics. Practice questions on these topics.\\n* **Plant Anatomy**: Review plant tissue systems and plant cell structure and function. Practice questions on these topics.\\n* **Cell Structure and Function**: Review cell cycle and photosynthesis. Practice questions on these topics.\\n\\n### Progress Comparison\\n\\n* **Overall Accuracy**:\\n  * Previous: Not Available\\n  * Current: 40%\\n  * Change: Not Applicable\\n\\n### Overall Summary and Motivational Message\\n\\nYou have attempted 30 questions and scored 40% accuracy. You have shown strength in genetics and evolution, but need to improve in reproduction, diversity in living world, plant anatomy, and cell structure and function. Review the suggested topics and practice questions to improve your performance. Keep working hard and you will see improvement in your future attempts. Good luck!\"),\n",
       " ('2024-10-17 10:12:16',\n",
       "  \"I'll generate the detailed report of the student's exam paper for NEET based on the provided JSON data.\\n\\n\\n### Overall Score Summary\\n\\n* Total Questions Answered: 30\\n* Total Correct Answers: 12\\n* Total Incorrect Answers: 18\\n* Overall Accuracy Percentage: 40%\\n\\n### Chapter-wise Analysis\\n\\n* **Reproduction**:\\n  * Total Questions Answered: 7\\n  * Correct Answers: 2\\n  * Incorrect Answers: 5\\n  * Accuracy Percentage: 28.57%\\n* **Genetics and Evolution**:\\n  * Total Questions Answered: 5\\n  * Correct Answers: 3\\n  * Incorrect Answers: 2\\n  * Accuracy Percentage: 60%\\n* **Diversity in Living World**:\\n  * Total Questions Answered: 4\\n  * Correct Answers: 1\\n  * Incorrect Answers: 3\\n  * Accuracy Percentage: 25%\\n* **Cell Structure and Function**:\\n  * Total Questions Answered: 3\\n  * Correct Answers: 2\\n  * Incorrect Answers: 1\\n  * Accuracy Percentage: 66.67%\\n* **Structural Organization in Plants and Animals**:\\n  * Total Questions Answered: 3\\n  * Correct Answers: 1\\n  * Incorrect Answers: 2\\n  * Accuracy Percentage: 33.33%\\n* **Human Physiology**:\\n  * Total Questions Answered: 1\\n  * Correct Answers: 0\\n  * Incorrect Answers: 1\\n  * Accuracy Percentage: 0%\\n* **Plant Physiology**:\\n  * Total Questions Answered: 1\\n  * Correct Answers: 0\\n  * Incorrect Answers: 1\\n  * Accuracy Percentage: 0%\\n* **Ecology**:\\n  * Total Questions Answered: 1\\n  * Correct Answers: 1\\n  * Incorrect Answers: 0\\n  * Accuracy Percentage: 100%\\n* **Biodiversity loss**:\\n  * Total Questions Answered: 1\\n  * Correct Answers: 0\\n  * Incorrect Answers: 1\\n  * Accuracy Percentage: 0%\\n* **Homology and Analogous Structures**:\\n  * Total Questions Answered: 1\\n  * Correct Answers: 0\\n  * Incorrect Answers: 1\\n  * Accuracy Percentage: 0%\\n* **Cell Division**:\\n  * Total Questions Answered: 2\\n  * Correct Answers: 1\\n  * Incorrect Answers: 1\\n  * Accuracy Percentage: 50%\\n\\n### Topic-wise Breakdown within Chapters\\n\\n* **Reproduction**:\\n  * Subtopic: Types of reproduction\\n    - Questions Attempted: 1\\n    - Correct Answers: 0\\n    - Incorrect Answers: 1\\n    - Accuracy Percentage: 0%\\n  * Subtopic: Embryonic development\\n    - Questions Attempted: 1\\n    - Correct Answers: 0\\n    - Incorrect Answers: 1\\n    - Accuracy Percentage: 0%\\n  * Subtopic: Reproductive systems\\n    - Questions Attempted: 2\\n    - Correct Answers: 1\\n    - Incorrect Answers: 1\\n    - Accuracy Percentage: 50%\\n* **Genetics and Evolution**:\\n  * Subtopic: Mendelian genetics\\n    - Questions Attempted: 2\\n    - Correct Answers: 2\\n    - Incorrect Answers: 0\\n    - Accuracy Percentage: 100%\\n  * Subtopic: Evolution\\n    - Questions Attempted: 1\\n    - Correct Answers: 0\\n    - Incorrect Answers: 1\\n    - Accuracy Percentage: 0%\\n  * Subtopic: Chromosomal structure and function\\n    - Questions Attempted: 1\\n    - Correct Answers: 1\\n    - Incorrect Answers: 0\\n    - Accuracy Percentage: 100%\\n* **Diversity in Living World**:\\n  * Subtopic: Classification of living organisms\\n    - Questions Attempted: 1\\n    - Correct Answers: 0\\n    - Incorrect Answers: 1\\n    - Accuracy Percentage: 0%\\n  * Subtopic: Characteristics of different taxonomic groups\\n    - Questions Attempted: 2\\n    - Correct Answers: 0\\n    - Incorrect Answers: 2\\n    - Accuracy Percentage: 0%\\n  * Subtopic: Phylogeny and systematics\\n    - Questions Attempted: 1\\n    - Correct Answers: 1\\n    - Incorrect Answers: 0\\n    - Accuracy Percentage: 100%\\n* **Cell Structure and Function**:\\n  * Subtopic: Cell structure\\n    - Questions Attempted: 1\\n    - Correct Answers: 1\\n    - Incorrect Answers: 0\\n    - Accuracy Percentage: 100%\\n  * Subtopic: Cell cycle\\n    - Questions Attempted: 1\\n    - Correct Answers: 0\\n    - Incorrect Answers: 1\\n    - Accuracy Percentage: 0%\\n  * Subtopic: Mitosis\\n    - Questions Attempted: 1\\n    - Correct Answers: 1\\n    - Incorrect Answers: 0\\n    - Accuracy Percentage: 100%\\n\\n### Actionable Suggestions for Improvement\\n\\n* **Reproduction**: Review embryonic development, reproductive systems, and types of reproduction. Practice questions on these topics.\\n* **Diversity in Living World**: Review classification of living organisms, characteristics of different taxonomic groups, and phylogeny and systematics. Practice questions on these topics.\\n* **Cell Structure and Function**: Review cell cycle. Practice questions on this topic.\\n* **Human Physiology**: Review the topic. Practice questions on this topic.\\n* **Plant Physiology**: Review the topic. Practice questions on this topic.\\n* **Ecology**: Continue practicing questions on this topic to maintain proficiency.\\n* **Biodiversity loss**: Review the topic. Practice questions on this topic.\\n* **Homology and Analogous Structures**: Review the topic. Practice questions on this topic.\\n* **Cell Division**: Review mitosis and meiosis. Practice questions on these topics.\\n\\n### Progress Comparison\\n\\n* **Overall Accuracy**:\\n  * Previous: 33.33%\\n  * Current: 40%\\n  * Change: 6.67% improvement\\n\\n### Overall Summary and Motivational Message\\n\\nYou have attempted 30 questions and scored 40% accuracy. You have shown strength in genetics and evolution, and ecology. However, you need to improve in reproduction, diversity in living world, human physiology, plant physiology, biodiversity loss, homology and analogous structures, and cell division. Review the suggested topics and practice questions to improve your performance. Keep working hard and you will see improvement in your future attempts. Good luck!\")]"
      ]
     },
     "execution_count": 58,
     "metadata": {},
     "output_type": "execute_result"
    }
   ],
   "source": [
    "report=retrieve_data(\"pankaj@gmail.com\")\n",
    "report"
   ]
  },
  {
   "cell_type": "code",
   "execution_count": 16,
   "metadata": {},
   "outputs": [],
   "source": [
    "with open(\"/hackathon_teams/hack_team_11/workspace/Nvidia_nim_hackathon/backend/base/report.txt\",\"r\") as f:\n",
    "    report=f.read()"
   ]
  },
  {
   "cell_type": "code",
   "execution_count": 20,
   "metadata": {},
   "outputs": [
    {
     "data": {
      "text/plain": [
       "\"After analyzing the provided data, I've generated a detailed report of the student's exam performance.\\n\\n**Overall Score Summary**\\n\\n* Total Questions Answered: 30\\n* Total Correct Answers: 10\\n* Total Incorrect Answers: 20\\n* Overall Accuracy Percentage: 33.33%\\n\\n**Chapter-wise Analysis**\\n\\n* **Reproduction**:\\n  * Total Questions Answered: 4\\n  * Correct Answers: 1\\n  * Incorrect Answers: 3\\n  * Accuracy Percentage: 25%\\n* **Genetics and Evolution**:\\n  * Total Questions Answered: 5\\n  * Correct Answers: 2\\n  * Incorrect Answers: 3\\n  * Accuracy Percentage: 40%\\n* **Diversity in Living World**:\\n  * Total Questions Answered: 4\\n  * Correct Answers: 1\\n  * Incorrect Answers: 3\\n  * Accuracy Percentage: 25%\\n* **Plant Physiology**:\\n  * Total Questions Answered: 2\\n  * Correct Answers: 1\\n  * Incorrect Answers: 1\\n  * Accuracy Percentage: 50%\\n* **Human Physiology**:\\n  * Total Questions Answered: 2\\n  * Correct Answers: 0\\n  * Incorrect Answers: 2\\n  * Accuracy Percentage: 0%\\n* **Biomolecules**:\\n  * Total Questions Answered: 1\\n  * Correct Answers: 0\\n  * Incorrect Answers: 1\\n  * Accuracy Percentage: 0%\\n* **Cell Structure and Function**:\\n  * Total Questions Answered: 2\\n  * Correct Answers: 1\\n  * Incorrect Answers: 1\\n  * Accuracy Percentage: 50%\\n* **Immunity**:\\n  * Total Questions Answered: 1\\n  * Correct Answers: 0\\n  * Incorrect Answers: 1\\n  * Accuracy Percentage: 0%\\n* **Structural Organization in Plants and Animals**:\\n  * Total Questions Answered: 3\\n  * Correct Answers: 1\\n  * Incorrect Answers: 2\\n  * Accuracy Percentage: 33.33%\\n* **Cell Division**:\\n  * Total Questions Answered: 1\\n  * Correct Answers: 1\\n  * Incorrect Answers: 0\\n  * Accuracy Percentage: 100%\\n\\n**Topic-wise Breakdown within Chapters**\\n\\n* **Reproduction**:\\n  * Subtopic: Male Reproductive System\\n    - Questions Attempted: 2\\n    * Correct Answers: 1\\n    * Incorrect Answers: 1\\n    * Accuracy Percentage: 50%\\n  * Subtopic: Female Reproductive System\\n    - Questions Attempted: 1\\n    * Correct Answers: 0\\n    * Incorrect Answers: 1\\n    * Accuracy Percentage: 0%\\n  * Subtopic: Embryonic Development\\n    - Questions Attempted: 1\\n    * Correct Answers: 0\\n    * Incorrect Answers: 1\\n    * Accuracy Percentage: 0%\\n* **Genetics and Evolution**:\\n  * Subtopic: Mendelian Genetics\\n    - Questions Attempted: 2\\n    * Correct Answers: 1\\n    * Incorrect Answers: 1\\n    * Accuracy Percentage: 50%\\n  * Subtopic: Evolution\\n    - Questions Attempted: 2\\n    * Correct Answers: 1\\n    * Incorrect Answers: 1\\n    * Accuracy Percentage: 50%\\n  * Subtopic: Phylogeny\\n    - Questions Attempted: 1\\n    * Correct Answers: 0\\n    * Incorrect Answers: 1\\n    * Accuracy Percentage: 0%\\n* **Diversity in Living World**:\\n  * Subtopic: Biodiversity\\n    - Questions Attempted: 2\\n    * Correct Answers: 1\\n    * Incorrect Answers: 1\\n    * Accuracy Percentage: 50%\\n  * Subtopic: Classification\\n    - Questions Attempted: 1\\n    * Correct Answers: 0\\n    * Incorrect Answers: 1\\n    * Accuracy Percentage: 0%\\n  * Subtopic: Ecosystems\\n    - Questions Attempted: 1\\n    * Correct Answers: 0\\n    * Incorrect Answers: 1\\n    * Accuracy Percentage: 0%\\n* **Plant Physiology**:\\n  * Subtopic: Photosynthesis\\n    - Questions Attempted: 1\\n    * Correct Answers: 0\\n    * Incorrect Answers: 1\\n    * Accuracy Percentage: 0%\\n  * Subtopic: Respiration\\n    - Questions Attempted: 1\\n    * Correct Answers: 1\\n    * Incorrect Answers: 0\\n    * Accuracy Percentage: 100%\\n\\n**Actionable Suggestions for Improvement**\\n\\n* **Reproduction**:\\n  * Review embryonic development and reproductive systems.\\n  * Practice questions on male and female reproductive systems.\\n* **Genetics and Evolution**:\\n  * Review Mendelian genetics and practice problems.\\n  * Focus on understanding evolutionary concepts and mechanisms.\\n* **Diversity in Living World**:\\n  * Review and practice questions related to ecosystems and conservation biology.\\n  * Focus on understanding classification and biodiversity concepts.\\n* **Plant Physiology**:\\n  * Review photosynthesis and respiration processes.\\n  * Practice questions related to plant physiology.\\n\\n**Progress Comparison**\\n\\n* **Overall Accuracy**:\\n  * Previous: 37.93%\\n  * Current: 33.33%\\n  * Change: -4.6% (Decline)\\n\\n**Overall Summary and Motivational Message**\\n\\nYou have attempted 30 questions and scored 33.33% accuracy. You have shown strength in cell structure and function but need to improve in reproduction, genetics, evolution, and other areas. Review the suggested topics and practice questions to improve your performance. Don't be discouraged by the decline in accuracy; keep working hard, and you will see improvement in your future attempts. Good luck!\""
      ]
     },
     "execution_count": 20,
     "metadata": {},
     "output_type": "execute_result"
    }
   ],
   "source": [
    "report "
   ]
  },
  {
   "cell_type": "code",
   "execution_count": 17,
   "metadata": {},
   "outputs": [
    {
     "name": "stdout",
     "output_type": "stream",
     "text": [
      "After analyzing the provided data, I've generated a detailed report of the student's exam performance.\n",
      "\n",
      "**Overall Score Summary**\n",
      "\n",
      "* Total Questions Answered: 30\n",
      "* Total Correct Answers: 10\n",
      "* Total Incorrect Answers: 20\n",
      "* Overall Accuracy Percentage: 33.33%\n",
      "\n",
      "**Chapter-wise Analysis**\n",
      "\n",
      "* **Reproduction**:\n",
      "  * Total Questions Answered: 4\n",
      "  * Correct Answers: 1\n",
      "  * Incorrect Answers: 3\n",
      "  * Accuracy Percentage: 25%\n",
      "* **Genetics and Evolution**:\n",
      "  * Total Questions Answered: 5\n",
      "  * Correct Answers: 2\n",
      "  * Incorrect Answers: 3\n",
      "  * Accuracy Percentage: 40%\n",
      "* **Diversity in Living World**:\n",
      "  * Total Questions Answered: 4\n",
      "  * Correct Answers: 1\n",
      "  * Incorrect Answers: 3\n",
      "  * Accuracy Percentage: 25%\n",
      "* **Plant Physiology**:\n",
      "  * Total Questions Answered: 2\n",
      "  * Correct Answers: 1\n",
      "  * Incorrect Answers: 1\n",
      "  * Accuracy Percentage: 50%\n",
      "* **Human Physiology**:\n",
      "  * Total Questions Answered: 2\n",
      "  * Correct Answers: 0\n",
      "  * Incorrect Answers: 2\n",
      "  * Accuracy Percentage: 0%\n",
      "* **Biomolecules**:\n",
      "  * Total Questions Answered: 1\n",
      "  * Correct Answers: 0\n",
      "  * Incorrect Answers: 1\n",
      "  * Accuracy Percentage: 0%\n",
      "* **Cell Structure and Function**:\n",
      "  * Total Questions Answered: 2\n",
      "  * Correct Answers: 1\n",
      "  * Incorrect Answers: 1\n",
      "  * Accuracy Percentage: 50%\n",
      "* **Immunity**:\n",
      "  * Total Questions Answered: 1\n",
      "  * Correct Answers: 0\n",
      "  * Incorrect Answers: 1\n",
      "  * Accuracy Percentage: 0%\n",
      "* **Structural Organization in Plants and Animals**:\n",
      "  * Total Questions Answered: 3\n",
      "  * Correct Answers: 1\n",
      "  * Incorrect Answers: 2\n",
      "  * Accuracy Percentage: 33.33%\n",
      "* **Cell Division**:\n",
      "  * Total Questions Answered: 1\n",
      "  * Correct Answers: 1\n",
      "  * Incorrect Answers: 0\n",
      "  * Accuracy Percentage: 100%\n",
      "\n",
      "**Topic-wise Breakdown within Chapters**\n",
      "\n",
      "* **Reproduction**:\n",
      "  * Subtopic: Male Reproductive System\n",
      "    - Questions Attempted: 2\n",
      "    * Correct Answers: 1\n",
      "    * Incorrect Answers: 1\n",
      "    * Accuracy Percentage: 50%\n",
      "  * Subtopic: Female Reproductive System\n",
      "    - Questions Attempted: 1\n",
      "    * Correct Answers: 0\n",
      "    * Incorrect Answers: 1\n",
      "    * Accuracy Percentage: 0%\n",
      "  * Subtopic: Embryonic Development\n",
      "    - Questions Attempted: 1\n",
      "    * Correct Answers: 0\n",
      "    * Incorrect Answers: 1\n",
      "    * Accuracy Percentage: 0%\n",
      "* **Genetics and Evolution**:\n",
      "  * Subtopic: Mendelian Genetics\n",
      "    - Questions Attempted: 2\n",
      "    * Correct Answers: 1\n",
      "    * Incorrect Answers: 1\n",
      "    * Accuracy Percentage: 50%\n",
      "  * Subtopic: Evolution\n",
      "    - Questions Attempted: 2\n",
      "    * Correct Answers: 1\n",
      "    * Incorrect Answers: 1\n",
      "    * Accuracy Percentage: 50%\n",
      "  * Subtopic: Phylogeny\n",
      "    - Questions Attempted: 1\n",
      "    * Correct Answers: 0\n",
      "    * Incorrect Answers: 1\n",
      "    * Accuracy Percentage: 0%\n",
      "* **Diversity in Living World**:\n",
      "  * Subtopic: Biodiversity\n",
      "    - Questions Attempted: 2\n",
      "    * Correct Answers: 1\n",
      "    * Incorrect Answers: 1\n",
      "    * Accuracy Percentage: 50%\n",
      "  * Subtopic: Classification\n",
      "    - Questions Attempted: 1\n",
      "    * Correct Answers: 0\n",
      "    * Incorrect Answers: 1\n",
      "    * Accuracy Percentage: 0%\n",
      "  * Subtopic: Ecosystems\n",
      "    - Questions Attempted: 1\n",
      "    * Correct Answers: 0\n",
      "    * Incorrect Answers: 1\n",
      "    * Accuracy Percentage: 0%\n",
      "* **Plant Physiology**:\n",
      "  * Subtopic: Photosynthesis\n",
      "    - Questions Attempted: 1\n",
      "    * Correct Answers: 0\n",
      "    * Incorrect Answers: 1\n",
      "    * Accuracy Percentage: 0%\n",
      "  * Subtopic: Respiration\n",
      "    - Questions Attempted: 1\n",
      "    * Correct Answers: 1\n",
      "    * Incorrect Answers: 0\n",
      "    * Accuracy Percentage: 100%\n",
      "\n",
      "**Actionable Suggestions for Improvement**\n",
      "\n",
      "* **Reproduction**:\n",
      "  * Review embryonic development and reproductive systems.\n",
      "  * Practice questions on male and female reproductive systems.\n",
      "* **Genetics and Evolution**:\n",
      "  * Review Mendelian genetics and practice problems.\n",
      "  * Focus on understanding evolutionary concepts and mechanisms.\n",
      "* **Diversity in Living World**:\n",
      "  * Review and practice questions related to ecosystems and conservation biology.\n",
      "  * Focus on understanding classification and biodiversity concepts.\n",
      "* **Plant Physiology**:\n",
      "  * Review photosynthesis and respiration processes.\n",
      "  * Practice questions related to plant physiology.\n",
      "\n",
      "**Progress Comparison**\n",
      "\n",
      "* **Overall Accuracy**:\n",
      "  * Previous: 37.93%\n",
      "  * Current: 33.33%\n",
      "  * Change: -4.6% (Decline)\n",
      "\n",
      "**Overall Summary and Motivational Message**\n",
      "\n",
      "You have attempted 30 questions and scored 33.33% accuracy. You have shown strength in cell structure and function but need to improve in reproduction, genetics, evolution, and other areas. Review the suggested topics and practice questions to improve your performance. Don't be discouraged by the decline in accuracy; keep working hard, and you will see improvement in your future attempts. Good luck!\n"
     ]
    }
   ],
   "source": [
    "print(report)"
   ]
  },
  {
   "cell_type": "code",
   "execution_count": 18,
   "metadata": {},
   "outputs": [],
   "source": [
    "# def progress_compare(report):\n",
    "#     # Regex pattern to match the data for progress comparison\n",
    "#     pattern = r\"\\*\\*Overall Accuracy\\*\\*:\\n\\s+\\*\\s+Previous:\\s+([\\d.]+)%\\n\\s+\\*\\s+Current:\\s+([\\d.]+)%\\n\\s+\\*\\s+Change:\\s+(\\w+)\"\n",
    "#     match = re.search(pattern, report)\n",
    "    \n",
    "#     if match:\n",
    "#         # Extract the matched groups\n",
    "#         previous_accuracy = match.group(1)\n",
    "#         current_accuracy = match.group(2)\n",
    "#         change = match.group(3)\n",
    "        \n",
    "#         # Create a DataFrame\n",
    "#         data = {\n",
    "#             'Previous Accuracy': [previous_accuracy],\n",
    "#             'Current Accuracy': [current_accuracy],\n",
    "#             'Change': [change]\n",
    "#         }\n",
    "#         df = pd.DataFrame(data)\n",
    "#         return df\n",
    "#     else:\n",
    "#         print(\"No match found.\")\n",
    "#         return pd.DataFrame()  # Return an empty DataFrame if no match is found"
   ]
  },
  {
   "cell_type": "code",
   "execution_count": 33,
   "metadata": {},
   "outputs": [],
   "source": [
    "# import re\n",
    "# import pandas as pd\n",
    "\n",
    "# def progress_compare(report):\n",
    "#     # Updated regex pattern to match the progress comparison section\n",
    "#     pattern = r\"\\*\\*Overall Accuracy\\*\\*:\\n\\s+\\*\\s+Previous:\\s+([\\d.]+)%\\n\\s+\\*\\s+Current:\\s+([\\d.]+)%\\n\\s+\\*\\s+Change:\\s+([-+]?\\d+\\.?\\d*)%\\s+\\((\\w+)\\)\"\n",
    "    \n",
    "#     match = re.search(pattern, report)\n",
    "    \n",
    "#     if match:\n",
    "#         # Extract the matched groups\n",
    "#         previous_accuracy = match.group(1)\n",
    "#         current_accuracy = match.group(2)\n",
    "#         change_percentage = match.group(3)\n",
    "#         change_description = match.group(4)\n",
    "        \n",
    "#         # Create a DataFrame\n",
    "#         data = {\n",
    "#             'Previous Accuracy': [previous_accuracy],\n",
    "#             'Current Accuracy': [current_accuracy],\n",
    "#             'Change (%)': [change_percentage],\n",
    "#             'Description': [change_description]\n",
    "#         }\n",
    "#         df = pd.DataFrame(data)\n",
    "#         return df\n",
    "#     else:\n",
    "#         print(\"No match found.\")\n",
    "#         return pd.DataFrame()  # Return an empty DataFrame if no match is found\n",
    "\n",
    "\n",
    "# df = progress_compare(report)\n",
    "# print(df)\n"
   ]
  },
  {
   "cell_type": "code",
   "execution_count": 34,
   "metadata": {},
   "outputs": [],
   "source": [
    "# # Convert the accuracy values to float for plotting\n",
    "# df['Previous Accuracy'] = df['Previous Accuracy'].astype(float)\n",
    "# df['Current Accuracy'] = df['Current Accuracy'].astype(float)\n",
    "\n",
    "# # Reshape the DataFrame for plotting\n",
    "# df_long = df.melt(value_vars=[\"Previous Accuracy\", \"Current Accuracy\"],\n",
    "#                   var_name=\"Accuracy Type\", value_name=\"Percentage\")\n",
    "\n",
    "# # Define the path for saving the plot\n",
    "# path = \"/hackathon_teams/hack_team_11/workspace/Nvidia_nim_hackathon/frontend/myapp/src/graphs\"\n",
    "\n",
    "# # Create a grouped bar plot with text values displayed\n",
    "# fig = px.bar(df_long, x=\"Accuracy Type\", y=\"Percentage\", color=\"Accuracy Type\", \n",
    "#              title=\"Accuracy Comparison with Respect to Last Exam\",\n",
    "#              labels={\"Percentage\": \"Accuracy (%)\"},\n",
    "#              text='Percentage',  # Display values on the bars\n",
    "#              height=600)\n",
    "\n",
    "# # Update layout for better visualization\n",
    "# fig.update_layout(\n",
    "#     yaxis_title=\"Accuracy (%)\",\n",
    "#     xaxis_title=\"Accuracy Type\",\n",
    "#     yaxis=dict(range=[0, 100])\n",
    "# )\n",
    "\n",
    "# # # Display the plot\n",
    "# # progress_compare_plot_path = os.path.join(path, \"progress_compare.png\")\n",
    "# # fig.write_image(progress_compare_plot_path)\n",
    "# fig.show()"
   ]
  },
  {
   "cell_type": "code",
   "execution_count": 35,
   "metadata": {},
   "outputs": [],
   "source": [
    "with open(\"/hackathon_teams/hack_team_11/workspace/Nvidia_nim_hackathon/backend/base/report.txt\",\"r\") as f:\n",
    "    report=f.read()"
   ]
  },
  {
   "cell_type": "code",
   "execution_count": 40,
   "metadata": {},
   "outputs": [
    {
     "data": {
      "text/plain": [
       "\"After analyzing the provided data, I've generated a detailed report of the student's exam performance.\\n\\n**Overall Score Summary**\\n\\n* Total Questions Answered: 30\\n* Total Correct Answers: 10\\n* Total Incorrect Answers: 20\\n* Overall Accuracy Percentage: 33.33%\\n\\n**Chapter-wise Analysis**\\n\\n* **Reproduction**:\\n  * Total Questions Answered: 4\\n  * Correct Answers: 1\\n  * Incorrect Answers: 3\\n  * Accuracy Percentage: 25%\\n* **Genetics and Evolution**:\\n  * Total Questions Answered: 5\\n  * Correct Answers: 2\\n  * Incorrect Answers: 3\\n  * Accuracy Percentage: 40%\\n* **Diversity in Living World**:\\n  * Total Questions Answered: 4\\n  * Correct Answers: 1\\n  * Incorrect Answers: 3\\n  * Accuracy Percentage: 25%\\n* **Plant Physiology**:\\n  * Total Questions Answered: 2\\n  * Correct Answers: 1\\n  * Incorrect Answers: 1\\n  * Accuracy Percentage: 50%\\n* **Human Physiology**:\\n  * Total Questions Answered: 2\\n  * Correct Answers: 0\\n  * Incorrect Answers: 2\\n  * Accuracy Percentage: 0%\\n* **Biomolecules**:\\n  * Total Questions Answered: 1\\n  * Correct Answers: 0\\n  * Incorrect Answers: 1\\n  * Accuracy Percentage: 0%\\n* **Cell Structure and Function**:\\n  * Total Questions Answered: 2\\n  * Correct Answers: 1\\n  * Incorrect Answers: 1\\n  * Accuracy Percentage: 50%\\n* **Immunity**:\\n  * Total Questions Answered: 1\\n  * Correct Answers: 0\\n  * Incorrect Answers: 1\\n  * Accuracy Percentage: 0%\\n* **Structural Organization in Plants and Animals**:\\n  * Total Questions Answered: 3\\n  * Correct Answers: 1\\n  * Incorrect Answers: 2\\n  * Accuracy Percentage: 33.33%\\n* **Cell Division**:\\n  * Total Questions Answered: 1\\n  * Correct Answers: 1\\n  * Incorrect Answers: 0\\n  * Accuracy Percentage: 100%\\n\\n**Topic-wise Breakdown within Chapters**\\n\\n* **Reproduction**:\\n  * Subtopic: Male Reproductive System\\n    - Questions Attempted: 2\\n    * Correct Answers: 1\\n    * Incorrect Answers: 1\\n    * Accuracy Percentage: 50%\\n  * Subtopic: Female Reproductive System\\n    - Questions Attempted: 1\\n    * Correct Answers: 0\\n    * Incorrect Answers: 1\\n    * Accuracy Percentage: 0%\\n  * Subtopic: Embryonic Development\\n    - Questions Attempted: 1\\n    * Correct Answers: 0\\n    * Incorrect Answers: 1\\n    * Accuracy Percentage: 0%\\n* **Genetics and Evolution**:\\n  * Subtopic: Mendelian Genetics\\n    - Questions Attempted: 2\\n    * Correct Answers: 1\\n    * Incorrect Answers: 1\\n    * Accuracy Percentage: 50%\\n  * Subtopic: Evolution\\n    - Questions Attempted: 2\\n    * Correct Answers: 1\\n    * Incorrect Answers: 1\\n    * Accuracy Percentage: 50%\\n  * Subtopic: Phylogeny\\n    - Questions Attempted: 1\\n    * Correct Answers: 0\\n    * Incorrect Answers: 1\\n    * Accuracy Percentage: 0%\\n* **Diversity in Living World**:\\n  * Subtopic: Biodiversity\\n    - Questions Attempted: 2\\n    * Correct Answers: 1\\n    * Incorrect Answers: 1\\n    * Accuracy Percentage: 50%\\n  * Subtopic: Classification\\n    - Questions Attempted: 1\\n    * Correct Answers: 0\\n    * Incorrect Answers: 1\\n    * Accuracy Percentage: 0%\\n  * Subtopic: Ecosystems\\n    - Questions Attempted: 1\\n    * Correct Answers: 0\\n    * Incorrect Answers: 1\\n    * Accuracy Percentage: 0%\\n* **Plant Physiology**:\\n  * Subtopic: Photosynthesis\\n    - Questions Attempted: 1\\n    * Correct Answers: 0\\n    * Incorrect Answers: 1\\n    * Accuracy Percentage: 0%\\n  * Subtopic: Respiration\\n    - Questions Attempted: 1\\n    * Correct Answers: 1\\n    * Incorrect Answers: 0\\n    * Accuracy Percentage: 100%\\n\\n**Actionable Suggestions for Improvement**\\n\\n* **Reproduction**:\\n  * Review embryonic development and reproductive systems.\\n  * Practice questions on male and female reproductive systems.\\n* **Genetics and Evolution**:\\n  * Review Mendelian genetics and practice problems.\\n  * Focus on understanding evolutionary concepts and mechanisms.\\n* **Diversity in Living World**:\\n  * Review and practice questions related to ecosystems and conservation biology.\\n  * Focus on understanding classification and biodiversity concepts.\\n* **Plant Physiology**:\\n  * Review photosynthesis and respiration processes.\\n  * Practice questions related to plant physiology.\\n\\n**Progress Comparison**\\n\\n* **Overall Accuracy**:\\n  * Previous: 37.93%\\n  * Current: 33.33%\\n  * Change: -4.6% (Decline)\\n\\n**Overall Summary and Motivational Message**\\n\\nYou have attempted 30 questions and scored 33.33% accuracy. You have shown strength in cell structure and function but need to improve in reproduction, genetics, evolution, and other areas. Review the suggested topics and practice questions to improve your performance. Don't be discouraged by the decline in accuracy; keep working hard, and you will see improvement in your future attempts. Good luck!\""
      ]
     },
     "execution_count": 40,
     "metadata": {},
     "output_type": "execute_result"
    }
   ],
   "source": [
    "report"
   ]
  },
  {
   "cell_type": "code",
   "execution_count": 44,
   "metadata": {},
   "outputs": [
    {
     "data": {
      "text/html": [
       "<div>\n",
       "<style scoped>\n",
       "    .dataframe tbody tr th:only-of-type {\n",
       "        vertical-align: middle;\n",
       "    }\n",
       "\n",
       "    .dataframe tbody tr th {\n",
       "        vertical-align: top;\n",
       "    }\n",
       "\n",
       "    .dataframe thead th {\n",
       "        text-align: right;\n",
       "    }\n",
       "</style>\n",
       "<table border=\"1\" class=\"dataframe\">\n",
       "  <thead>\n",
       "    <tr style=\"text-align: right;\">\n",
       "      <th></th>\n",
       "      <th>Chapter</th>\n",
       "      <th>Subtopic</th>\n",
       "      <th>Questions Attempted</th>\n",
       "      <th>Correct Answers</th>\n",
       "      <th>Incorrect Answers</th>\n",
       "      <th>Accuracy Percentage</th>\n",
       "    </tr>\n",
       "  </thead>\n",
       "  <tbody>\n",
       "    <tr>\n",
       "      <th>0</th>\n",
       "      <td>Reproduction</td>\n",
       "      <td>Male Reproductive System</td>\n",
       "      <td>2</td>\n",
       "      <td>1</td>\n",
       "      <td>1</td>\n",
       "      <td>50.0</td>\n",
       "    </tr>\n",
       "    <tr>\n",
       "      <th>1</th>\n",
       "      <td>Reproduction</td>\n",
       "      <td>Female Reproductive System</td>\n",
       "      <td>1</td>\n",
       "      <td>0</td>\n",
       "      <td>1</td>\n",
       "      <td>0.0</td>\n",
       "    </tr>\n",
       "    <tr>\n",
       "      <th>2</th>\n",
       "      <td>Reproduction</td>\n",
       "      <td>Embryonic Development</td>\n",
       "      <td>1</td>\n",
       "      <td>0</td>\n",
       "      <td>1</td>\n",
       "      <td>0.0</td>\n",
       "    </tr>\n",
       "    <tr>\n",
       "      <th>3</th>\n",
       "      <td>Genetics and Evolution</td>\n",
       "      <td>Mendelian Genetics</td>\n",
       "      <td>2</td>\n",
       "      <td>1</td>\n",
       "      <td>1</td>\n",
       "      <td>50.0</td>\n",
       "    </tr>\n",
       "    <tr>\n",
       "      <th>4</th>\n",
       "      <td>Genetics and Evolution</td>\n",
       "      <td>Evolution</td>\n",
       "      <td>2</td>\n",
       "      <td>1</td>\n",
       "      <td>1</td>\n",
       "      <td>50.0</td>\n",
       "    </tr>\n",
       "    <tr>\n",
       "      <th>5</th>\n",
       "      <td>Genetics and Evolution</td>\n",
       "      <td>Phylogeny</td>\n",
       "      <td>1</td>\n",
       "      <td>0</td>\n",
       "      <td>1</td>\n",
       "      <td>0.0</td>\n",
       "    </tr>\n",
       "    <tr>\n",
       "      <th>6</th>\n",
       "      <td>Diversity in Living World</td>\n",
       "      <td>Biodiversity</td>\n",
       "      <td>2</td>\n",
       "      <td>1</td>\n",
       "      <td>1</td>\n",
       "      <td>50.0</td>\n",
       "    </tr>\n",
       "    <tr>\n",
       "      <th>7</th>\n",
       "      <td>Diversity in Living World</td>\n",
       "      <td>Classification</td>\n",
       "      <td>1</td>\n",
       "      <td>0</td>\n",
       "      <td>1</td>\n",
       "      <td>0.0</td>\n",
       "    </tr>\n",
       "    <tr>\n",
       "      <th>8</th>\n",
       "      <td>Diversity in Living World</td>\n",
       "      <td>Ecosystems</td>\n",
       "      <td>1</td>\n",
       "      <td>0</td>\n",
       "      <td>1</td>\n",
       "      <td>0.0</td>\n",
       "    </tr>\n",
       "    <tr>\n",
       "      <th>9</th>\n",
       "      <td>Plant Physiology</td>\n",
       "      <td>Photosynthesis</td>\n",
       "      <td>1</td>\n",
       "      <td>0</td>\n",
       "      <td>1</td>\n",
       "      <td>0.0</td>\n",
       "    </tr>\n",
       "    <tr>\n",
       "      <th>10</th>\n",
       "      <td>Plant Physiology</td>\n",
       "      <td>Respiration</td>\n",
       "      <td>1</td>\n",
       "      <td>1</td>\n",
       "      <td>0</td>\n",
       "      <td>100.0</td>\n",
       "    </tr>\n",
       "  </tbody>\n",
       "</table>\n",
       "</div>"
      ],
      "text/plain": [
       "                      Chapter                    Subtopic  \\\n",
       "0                Reproduction    Male Reproductive System   \n",
       "1                Reproduction  Female Reproductive System   \n",
       "2                Reproduction       Embryonic Development   \n",
       "3      Genetics and Evolution          Mendelian Genetics   \n",
       "4      Genetics and Evolution                   Evolution   \n",
       "5      Genetics and Evolution                   Phylogeny   \n",
       "6   Diversity in Living World                Biodiversity   \n",
       "7   Diversity in Living World              Classification   \n",
       "8   Diversity in Living World                  Ecosystems   \n",
       "9            Plant Physiology              Photosynthesis   \n",
       "10           Plant Physiology                 Respiration   \n",
       "\n",
       "    Questions Attempted  Correct Answers  Incorrect Answers  \\\n",
       "0                     2                1                  1   \n",
       "1                     1                0                  1   \n",
       "2                     1                0                  1   \n",
       "3                     2                1                  1   \n",
       "4                     2                1                  1   \n",
       "5                     1                0                  1   \n",
       "6                     2                1                  1   \n",
       "7                     1                0                  1   \n",
       "8                     1                0                  1   \n",
       "9                     1                0                  1   \n",
       "10                    1                1                  0   \n",
       "\n",
       "    Accuracy Percentage  \n",
       "0                  50.0  \n",
       "1                   0.0  \n",
       "2                   0.0  \n",
       "3                  50.0  \n",
       "4                  50.0  \n",
       "5                   0.0  \n",
       "6                  50.0  \n",
       "7                   0.0  \n",
       "8                   0.0  \n",
       "9                   0.0  \n",
       "10                100.0  "
      ]
     },
     "execution_count": 44,
     "metadata": {},
     "output_type": "execute_result"
    }
   ],
   "source": [
    "import re\n",
    "import pandas as pd\n",
    "\n",
    "def extract_topic_data(text):\n",
    "    # Regex pattern to capture chapter and subtopic details\n",
    "    topic_pattern = re.compile(\n",
    "        r\"\\*\\*\\s*([^*]+)\\s*\\*\\*:\\n\\s*(.*?)\\s*(?=\\*\\*|\\Z)\", re.DOTALL\n",
    "    )\n",
    "    \n",
    "    topics = []\n",
    "\n",
    "    for match in topic_pattern.finditer(text):\n",
    "        chapter_name = match.group(1).strip()\n",
    "        subtopics_data = match.group(2).strip()\n",
    "        \n",
    "        # Extract subtopics using another regex\n",
    "        subtopic_pattern = re.compile(\n",
    "            r\"\\*\\s*Subtopic:\\s*([^\\n]+)\\n\\s*\"\n",
    "            r\"- Questions Attempted:\\s*(\\d+)\\n\\s*\"\n",
    "            r\"\\*\\s*Correct Answers:\\s*(\\d+)\\n\\s*\"\n",
    "            r\"\\*\\s*Incorrect Answers:\\s*(\\d+)\\n\\s*\"\n",
    "            r\"\\*\\s*Accuracy Percentage:\\s*([\\d.]+)%\"\n",
    "        )\n",
    "        \n",
    "        for submatch in subtopic_pattern.finditer(subtopics_data):\n",
    "            subtopic_name = submatch.group(1).strip()\n",
    "            questions_attempted = int(submatch.group(2))\n",
    "            correct_answers = int(submatch.group(3))\n",
    "            incorrect_answers = int(submatch.group(4))\n",
    "            accuracy_percentage = float(submatch.group(5))\n",
    "            \n",
    "            topics.append({\n",
    "                \"Chapter\": chapter_name,\n",
    "                \"Subtopic\": subtopic_name,\n",
    "                \"Questions Attempted\": questions_attempted,\n",
    "                \"Correct Answers\": correct_answers,\n",
    "                \"Incorrect Answers\": incorrect_answers,\n",
    "                \"Accuracy Percentage\": accuracy_percentage\n",
    "            })\n",
    "\n",
    "    return pd.DataFrame(topics)\n",
    "\n",
    "\n"
   ]
  },
  {
   "cell_type": "code",
   "execution_count": 48,
   "metadata": {},
   "outputs": [
    {
     "data": {
      "application/vnd.plotly.v1+json": {
       "config": {
        "plotlyServerURL": "https://plot.ly"
       },
       "data": [
        {
         "alignmentgroup": "True",
         "hovertemplate": "Answer Type=Questions Attempted<br>Subtopic=%{x}<br>Number of Questions=%{y}<extra></extra>",
         "legendgroup": "Questions Attempted",
         "marker": {
          "color": "#636efa",
          "pattern": {
           "shape": ""
          }
         },
         "name": "Questions Attempted",
         "offsetgroup": "Questions Attempted",
         "orientation": "v",
         "showlegend": true,
         "textposition": "auto",
         "type": "bar",
         "x": [
          "Male Reproductive System",
          "Female Reproductive System",
          "Embryonic Development",
          "Mendelian Genetics",
          "Evolution",
          "Phylogeny",
          "Biodiversity",
          "Classification",
          "Ecosystems",
          "Photosynthesis",
          "Respiration"
         ],
         "xaxis": "x",
         "y": [
          2,
          1,
          1,
          2,
          2,
          1,
          2,
          1,
          1,
          1,
          1
         ],
         "yaxis": "y"
        },
        {
         "alignmentgroup": "True",
         "hovertemplate": "Answer Type=Correct Answers<br>Subtopic=%{x}<br>Number of Questions=%{y}<extra></extra>",
         "legendgroup": "Correct Answers",
         "marker": {
          "color": "#EF553B",
          "pattern": {
           "shape": ""
          }
         },
         "name": "Correct Answers",
         "offsetgroup": "Correct Answers",
         "orientation": "v",
         "showlegend": true,
         "textposition": "auto",
         "type": "bar",
         "x": [
          "Male Reproductive System",
          "Female Reproductive System",
          "Embryonic Development",
          "Mendelian Genetics",
          "Evolution",
          "Phylogeny",
          "Biodiversity",
          "Classification",
          "Ecosystems",
          "Photosynthesis",
          "Respiration"
         ],
         "xaxis": "x",
         "y": [
          1,
          0,
          0,
          1,
          1,
          0,
          1,
          0,
          0,
          0,
          1
         ],
         "yaxis": "y"
        },
        {
         "alignmentgroup": "True",
         "hovertemplate": "Answer Type=Incorrect Answers<br>Subtopic=%{x}<br>Number of Questions=%{y}<extra></extra>",
         "legendgroup": "Incorrect Answers",
         "marker": {
          "color": "#00cc96",
          "pattern": {
           "shape": ""
          }
         },
         "name": "Incorrect Answers",
         "offsetgroup": "Incorrect Answers",
         "orientation": "v",
         "showlegend": true,
         "textposition": "auto",
         "type": "bar",
         "x": [
          "Male Reproductive System",
          "Female Reproductive System",
          "Embryonic Development",
          "Mendelian Genetics",
          "Evolution",
          "Phylogeny",
          "Biodiversity",
          "Classification",
          "Ecosystems",
          "Photosynthesis",
          "Respiration"
         ],
         "xaxis": "x",
         "y": [
          1,
          1,
          1,
          1,
          1,
          1,
          1,
          1,
          1,
          1,
          0
         ],
         "yaxis": "y"
        }
       ],
       "layout": {
        "autosize": true,
        "barmode": "group",
        "legend": {
         "title": {
          "text": "Answer Type"
         },
         "tracegroupgap": 0
        },
        "template": {
         "data": {
          "bar": [
           {
            "error_x": {
             "color": "#2a3f5f"
            },
            "error_y": {
             "color": "#2a3f5f"
            },
            "marker": {
             "line": {
              "color": "#E5ECF6",
              "width": 0.5
             },
             "pattern": {
              "fillmode": "overlay",
              "size": 10,
              "solidity": 0.2
             }
            },
            "type": "bar"
           }
          ],
          "barpolar": [
           {
            "marker": {
             "line": {
              "color": "#E5ECF6",
              "width": 0.5
             },
             "pattern": {
              "fillmode": "overlay",
              "size": 10,
              "solidity": 0.2
             }
            },
            "type": "barpolar"
           }
          ],
          "carpet": [
           {
            "aaxis": {
             "endlinecolor": "#2a3f5f",
             "gridcolor": "white",
             "linecolor": "white",
             "minorgridcolor": "white",
             "startlinecolor": "#2a3f5f"
            },
            "baxis": {
             "endlinecolor": "#2a3f5f",
             "gridcolor": "white",
             "linecolor": "white",
             "minorgridcolor": "white",
             "startlinecolor": "#2a3f5f"
            },
            "type": "carpet"
           }
          ],
          "choropleth": [
           {
            "colorbar": {
             "outlinewidth": 0,
             "ticks": ""
            },
            "type": "choropleth"
           }
          ],
          "contour": [
           {
            "colorbar": {
             "outlinewidth": 0,
             "ticks": ""
            },
            "colorscale": [
             [
              0,
              "#0d0887"
             ],
             [
              0.1111111111111111,
              "#46039f"
             ],
             [
              0.2222222222222222,
              "#7201a8"
             ],
             [
              0.3333333333333333,
              "#9c179e"
             ],
             [
              0.4444444444444444,
              "#bd3786"
             ],
             [
              0.5555555555555556,
              "#d8576b"
             ],
             [
              0.6666666666666666,
              "#ed7953"
             ],
             [
              0.7777777777777778,
              "#fb9f3a"
             ],
             [
              0.8888888888888888,
              "#fdca26"
             ],
             [
              1,
              "#f0f921"
             ]
            ],
            "type": "contour"
           }
          ],
          "contourcarpet": [
           {
            "colorbar": {
             "outlinewidth": 0,
             "ticks": ""
            },
            "type": "contourcarpet"
           }
          ],
          "heatmap": [
           {
            "colorbar": {
             "outlinewidth": 0,
             "ticks": ""
            },
            "colorscale": [
             [
              0,
              "#0d0887"
             ],
             [
              0.1111111111111111,
              "#46039f"
             ],
             [
              0.2222222222222222,
              "#7201a8"
             ],
             [
              0.3333333333333333,
              "#9c179e"
             ],
             [
              0.4444444444444444,
              "#bd3786"
             ],
             [
              0.5555555555555556,
              "#d8576b"
             ],
             [
              0.6666666666666666,
              "#ed7953"
             ],
             [
              0.7777777777777778,
              "#fb9f3a"
             ],
             [
              0.8888888888888888,
              "#fdca26"
             ],
             [
              1,
              "#f0f921"
             ]
            ],
            "type": "heatmap"
           }
          ],
          "heatmapgl": [
           {
            "colorbar": {
             "outlinewidth": 0,
             "ticks": ""
            },
            "colorscale": [
             [
              0,
              "#0d0887"
             ],
             [
              0.1111111111111111,
              "#46039f"
             ],
             [
              0.2222222222222222,
              "#7201a8"
             ],
             [
              0.3333333333333333,
              "#9c179e"
             ],
             [
              0.4444444444444444,
              "#bd3786"
             ],
             [
              0.5555555555555556,
              "#d8576b"
             ],
             [
              0.6666666666666666,
              "#ed7953"
             ],
             [
              0.7777777777777778,
              "#fb9f3a"
             ],
             [
              0.8888888888888888,
              "#fdca26"
             ],
             [
              1,
              "#f0f921"
             ]
            ],
            "type": "heatmapgl"
           }
          ],
          "histogram": [
           {
            "marker": {
             "pattern": {
              "fillmode": "overlay",
              "size": 10,
              "solidity": 0.2
             }
            },
            "type": "histogram"
           }
          ],
          "histogram2d": [
           {
            "colorbar": {
             "outlinewidth": 0,
             "ticks": ""
            },
            "colorscale": [
             [
              0,
              "#0d0887"
             ],
             [
              0.1111111111111111,
              "#46039f"
             ],
             [
              0.2222222222222222,
              "#7201a8"
             ],
             [
              0.3333333333333333,
              "#9c179e"
             ],
             [
              0.4444444444444444,
              "#bd3786"
             ],
             [
              0.5555555555555556,
              "#d8576b"
             ],
             [
              0.6666666666666666,
              "#ed7953"
             ],
             [
              0.7777777777777778,
              "#fb9f3a"
             ],
             [
              0.8888888888888888,
              "#fdca26"
             ],
             [
              1,
              "#f0f921"
             ]
            ],
            "type": "histogram2d"
           }
          ],
          "histogram2dcontour": [
           {
            "colorbar": {
             "outlinewidth": 0,
             "ticks": ""
            },
            "colorscale": [
             [
              0,
              "#0d0887"
             ],
             [
              0.1111111111111111,
              "#46039f"
             ],
             [
              0.2222222222222222,
              "#7201a8"
             ],
             [
              0.3333333333333333,
              "#9c179e"
             ],
             [
              0.4444444444444444,
              "#bd3786"
             ],
             [
              0.5555555555555556,
              "#d8576b"
             ],
             [
              0.6666666666666666,
              "#ed7953"
             ],
             [
              0.7777777777777778,
              "#fb9f3a"
             ],
             [
              0.8888888888888888,
              "#fdca26"
             ],
             [
              1,
              "#f0f921"
             ]
            ],
            "type": "histogram2dcontour"
           }
          ],
          "mesh3d": [
           {
            "colorbar": {
             "outlinewidth": 0,
             "ticks": ""
            },
            "type": "mesh3d"
           }
          ],
          "parcoords": [
           {
            "line": {
             "colorbar": {
              "outlinewidth": 0,
              "ticks": ""
             }
            },
            "type": "parcoords"
           }
          ],
          "pie": [
           {
            "automargin": true,
            "type": "pie"
           }
          ],
          "scatter": [
           {
            "fillpattern": {
             "fillmode": "overlay",
             "size": 10,
             "solidity": 0.2
            },
            "type": "scatter"
           }
          ],
          "scatter3d": [
           {
            "line": {
             "colorbar": {
              "outlinewidth": 0,
              "ticks": ""
             }
            },
            "marker": {
             "colorbar": {
              "outlinewidth": 0,
              "ticks": ""
             }
            },
            "type": "scatter3d"
           }
          ],
          "scattercarpet": [
           {
            "marker": {
             "colorbar": {
              "outlinewidth": 0,
              "ticks": ""
             }
            },
            "type": "scattercarpet"
           }
          ],
          "scattergeo": [
           {
            "marker": {
             "colorbar": {
              "outlinewidth": 0,
              "ticks": ""
             }
            },
            "type": "scattergeo"
           }
          ],
          "scattergl": [
           {
            "marker": {
             "colorbar": {
              "outlinewidth": 0,
              "ticks": ""
             }
            },
            "type": "scattergl"
           }
          ],
          "scattermapbox": [
           {
            "marker": {
             "colorbar": {
              "outlinewidth": 0,
              "ticks": ""
             }
            },
            "type": "scattermapbox"
           }
          ],
          "scatterpolar": [
           {
            "marker": {
             "colorbar": {
              "outlinewidth": 0,
              "ticks": ""
             }
            },
            "type": "scatterpolar"
           }
          ],
          "scatterpolargl": [
           {
            "marker": {
             "colorbar": {
              "outlinewidth": 0,
              "ticks": ""
             }
            },
            "type": "scatterpolargl"
           }
          ],
          "scatterternary": [
           {
            "marker": {
             "colorbar": {
              "outlinewidth": 0,
              "ticks": ""
             }
            },
            "type": "scatterternary"
           }
          ],
          "surface": [
           {
            "colorbar": {
             "outlinewidth": 0,
             "ticks": ""
            },
            "colorscale": [
             [
              0,
              "#0d0887"
             ],
             [
              0.1111111111111111,
              "#46039f"
             ],
             [
              0.2222222222222222,
              "#7201a8"
             ],
             [
              0.3333333333333333,
              "#9c179e"
             ],
             [
              0.4444444444444444,
              "#bd3786"
             ],
             [
              0.5555555555555556,
              "#d8576b"
             ],
             [
              0.6666666666666666,
              "#ed7953"
             ],
             [
              0.7777777777777778,
              "#fb9f3a"
             ],
             [
              0.8888888888888888,
              "#fdca26"
             ],
             [
              1,
              "#f0f921"
             ]
            ],
            "type": "surface"
           }
          ],
          "table": [
           {
            "cells": {
             "fill": {
              "color": "#EBF0F8"
             },
             "line": {
              "color": "white"
             }
            },
            "header": {
             "fill": {
              "color": "#C8D4E3"
             },
             "line": {
              "color": "white"
             }
            },
            "type": "table"
           }
          ]
         },
         "layout": {
          "annotationdefaults": {
           "arrowcolor": "#2a3f5f",
           "arrowhead": 0,
           "arrowwidth": 1
          },
          "autotypenumbers": "strict",
          "coloraxis": {
           "colorbar": {
            "outlinewidth": 0,
            "ticks": ""
           }
          },
          "colorscale": {
           "diverging": [
            [
             0,
             "#8e0152"
            ],
            [
             0.1,
             "#c51b7d"
            ],
            [
             0.2,
             "#de77ae"
            ],
            [
             0.3,
             "#f1b6da"
            ],
            [
             0.4,
             "#fde0ef"
            ],
            [
             0.5,
             "#f7f7f7"
            ],
            [
             0.6,
             "#e6f5d0"
            ],
            [
             0.7,
             "#b8e186"
            ],
            [
             0.8,
             "#7fbc41"
            ],
            [
             0.9,
             "#4d9221"
            ],
            [
             1,
             "#276419"
            ]
           ],
           "sequential": [
            [
             0,
             "#0d0887"
            ],
            [
             0.1111111111111111,
             "#46039f"
            ],
            [
             0.2222222222222222,
             "#7201a8"
            ],
            [
             0.3333333333333333,
             "#9c179e"
            ],
            [
             0.4444444444444444,
             "#bd3786"
            ],
            [
             0.5555555555555556,
             "#d8576b"
            ],
            [
             0.6666666666666666,
             "#ed7953"
            ],
            [
             0.7777777777777778,
             "#fb9f3a"
            ],
            [
             0.8888888888888888,
             "#fdca26"
            ],
            [
             1,
             "#f0f921"
            ]
           ],
           "sequentialminus": [
            [
             0,
             "#0d0887"
            ],
            [
             0.1111111111111111,
             "#46039f"
            ],
            [
             0.2222222222222222,
             "#7201a8"
            ],
            [
             0.3333333333333333,
             "#9c179e"
            ],
            [
             0.4444444444444444,
             "#bd3786"
            ],
            [
             0.5555555555555556,
             "#d8576b"
            ],
            [
             0.6666666666666666,
             "#ed7953"
            ],
            [
             0.7777777777777778,
             "#fb9f3a"
            ],
            [
             0.8888888888888888,
             "#fdca26"
            ],
            [
             1,
             "#f0f921"
            ]
           ]
          },
          "colorway": [
           "#636efa",
           "#EF553B",
           "#00cc96",
           "#ab63fa",
           "#FFA15A",
           "#19d3f3",
           "#FF6692",
           "#B6E880",
           "#FF97FF",
           "#FECB52"
          ],
          "font": {
           "color": "#2a3f5f"
          },
          "geo": {
           "bgcolor": "white",
           "lakecolor": "white",
           "landcolor": "#E5ECF6",
           "showlakes": true,
           "showland": true,
           "subunitcolor": "white"
          },
          "hoverlabel": {
           "align": "left"
          },
          "hovermode": "closest",
          "mapbox": {
           "style": "light"
          },
          "paper_bgcolor": "white",
          "plot_bgcolor": "#E5ECF6",
          "polar": {
           "angularaxis": {
            "gridcolor": "white",
            "linecolor": "white",
            "ticks": ""
           },
           "bgcolor": "#E5ECF6",
           "radialaxis": {
            "gridcolor": "white",
            "linecolor": "white",
            "ticks": ""
           }
          },
          "scene": {
           "xaxis": {
            "backgroundcolor": "#E5ECF6",
            "gridcolor": "white",
            "gridwidth": 2,
            "linecolor": "white",
            "showbackground": true,
            "ticks": "",
            "zerolinecolor": "white"
           },
           "yaxis": {
            "backgroundcolor": "#E5ECF6",
            "gridcolor": "white",
            "gridwidth": 2,
            "linecolor": "white",
            "showbackground": true,
            "ticks": "",
            "zerolinecolor": "white"
           },
           "zaxis": {
            "backgroundcolor": "#E5ECF6",
            "gridcolor": "white",
            "gridwidth": 2,
            "linecolor": "white",
            "showbackground": true,
            "ticks": "",
            "zerolinecolor": "white"
           }
          },
          "shapedefaults": {
           "line": {
            "color": "#2a3f5f"
           }
          },
          "ternary": {
           "aaxis": {
            "gridcolor": "white",
            "linecolor": "white",
            "ticks": ""
           },
           "baxis": {
            "gridcolor": "white",
            "linecolor": "white",
            "ticks": ""
           },
           "bgcolor": "#E5ECF6",
           "caxis": {
            "gridcolor": "white",
            "linecolor": "white",
            "ticks": ""
           }
          },
          "title": {
           "x": 0.05
          },
          "xaxis": {
           "automargin": true,
           "gridcolor": "white",
           "linecolor": "white",
           "ticks": "",
           "title": {
            "standoff": 15
           },
           "zerolinecolor": "white",
           "zerolinewidth": 2
          },
          "yaxis": {
           "automargin": true,
           "gridcolor": "white",
           "linecolor": "white",
           "ticks": "",
           "title": {
            "standoff": 15
           },
           "zerolinecolor": "white",
           "zerolinewidth": 2
          }
         }
        },
        "title": {
         "text": "Topic-wise Breakdown of Questions"
        },
        "xaxis": {
         "anchor": "y",
         "autorange": true,
         "domain": [
          0,
          1
         ],
         "range": [
          -0.5,
          10.5
         ],
         "tickangle": 90,
         "title": {
          "text": "Subtopic-wise analysis"
         },
         "type": "category"
        },
        "yaxis": {
         "anchor": "x",
         "autorange": true,
         "domain": [
          0,
          1
         ],
         "range": [
          0,
          2.1052631578947367
         ],
         "title": {
          "text": "Number of Questions"
         },
         "type": "linear"
        }
       }
      },
      "image/png": "[encoded data removed]",
      "text/html": [
       "<div>                            <div id=\"8312c9f0-a0af-43f2-a4b9-e8c684cbfa90\" class=\"plotly-graph-div\" style=\"height:600px; width:100%;\"></div>            <script type=\"text/javascript\">                require([\"plotly\"], function(Plotly) {                    window.PLOTLYENV=window.PLOTLYENV || {};                                    if (document.getElementById(\"8312c9f0-a0af-43f2-a4b9-e8c684cbfa90\")) {                    Plotly.newPlot(                        \"8312c9f0-a0af-43f2-a4b9-e8c684cbfa90\",                        [{\"alignmentgroup\":\"True\",\"hovertemplate\":\"Answer Type=Questions Attempted\\u003cbr\\u003eSubtopic=%{x}\\u003cbr\\u003eNumber of Questions=%{y}\\u003cextra\\u003e\\u003c\\u002fextra\\u003e\",\"legendgroup\":\"Questions Attempted\",\"marker\":{\"color\":\"#636efa\",\"pattern\":{\"shape\":\"\"}},\"name\":\"Questions Attempted\",\"offsetgroup\":\"Questions Attempted\",\"orientation\":\"v\",\"showlegend\":true,\"textposition\":\"auto\",\"x\":[\"Male Reproductive System\",\"Female Reproductive System\",\"Embryonic Development\",\"Mendelian Genetics\",\"Evolution\",\"Phylogeny\",\"Biodiversity\",\"Classification\",\"Ecosystems\",\"Photosynthesis\",\"Respiration\"],\"xaxis\":\"x\",\"y\":[2,1,1,2,2,1,2,1,1,1,1],\"yaxis\":\"y\",\"type\":\"bar\"},{\"alignmentgroup\":\"True\",\"hovertemplate\":\"Answer Type=Correct Answers\\u003cbr\\u003eSubtopic=%{x}\\u003cbr\\u003eNumber of Questions=%{y}\\u003cextra\\u003e\\u003c\\u002fextra\\u003e\",\"legendgroup\":\"Correct Answers\",\"marker\":{\"color\":\"#EF553B\",\"pattern\":{\"shape\":\"\"}},\"name\":\"Correct Answers\",\"offsetgroup\":\"Correct Answers\",\"orientation\":\"v\",\"showlegend\":true,\"textposition\":\"auto\",\"x\":[\"Male Reproductive System\",\"Female Reproductive System\",\"Embryonic Development\",\"Mendelian Genetics\",\"Evolution\",\"Phylogeny\",\"Biodiversity\",\"Classification\",\"Ecosystems\",\"Photosynthesis\",\"Respiration\"],\"xaxis\":\"x\",\"y\":[1,0,0,1,1,0,1,0,0,0,1],\"yaxis\":\"y\",\"type\":\"bar\"},{\"alignmentgroup\":\"True\",\"hovertemplate\":\"Answer Type=Incorrect Answers\\u003cbr\\u003eSubtopic=%{x}\\u003cbr\\u003eNumber of Questions=%{y}\\u003cextra\\u003e\\u003c\\u002fextra\\u003e\",\"legendgroup\":\"Incorrect Answers\",\"marker\":{\"color\":\"#00cc96\",\"pattern\":{\"shape\":\"\"}},\"name\":\"Incorrect Answers\",\"offsetgroup\":\"Incorrect Answers\",\"orientation\":\"v\",\"showlegend\":true,\"textposition\":\"auto\",\"x\":[\"Male Reproductive System\",\"Female Reproductive System\",\"Embryonic Development\",\"Mendelian Genetics\",\"Evolution\",\"Phylogeny\",\"Biodiversity\",\"Classification\",\"Ecosystems\",\"Photosynthesis\",\"Respiration\"],\"xaxis\":\"x\",\"y\":[1,1,1,1,1,1,1,1,1,1,0],\"yaxis\":\"y\",\"type\":\"bar\"}],                        {\"template\":{\"data\":{\"histogram2dcontour\":[{\"type\":\"histogram2dcontour\",\"colorbar\":{\"outlinewidth\":0,\"ticks\":\"\"},\"colorscale\":[[0.0,\"#0d0887\"],[0.1111111111111111,\"#46039f\"],[0.2222222222222222,\"#7201a8\"],[0.3333333333333333,\"#9c179e\"],[0.4444444444444444,\"#bd3786\"],[0.5555555555555556,\"#d8576b\"],[0.6666666666666666,\"#ed7953\"],[0.7777777777777778,\"#fb9f3a\"],[0.8888888888888888,\"#fdca26\"],[1.0,\"#f0f921\"]]}],\"choropleth\":[{\"type\":\"choropleth\",\"colorbar\":{\"outlinewidth\":0,\"ticks\":\"\"}}],\"histogram2d\":[{\"type\":\"histogram2d\",\"colorbar\":{\"outlinewidth\":0,\"ticks\":\"\"},\"colorscale\":[[0.0,\"#0d0887\"],[0.1111111111111111,\"#46039f\"],[0.2222222222222222,\"#7201a8\"],[0.3333333333333333,\"#9c179e\"],[0.4444444444444444,\"#bd3786\"],[0.5555555555555556,\"#d8576b\"],[0.6666666666666666,\"#ed7953\"],[0.7777777777777778,\"#fb9f3a\"],[0.8888888888888888,\"#fdca26\"],[1.0,\"#f0f921\"]]}],\"heatmap\":[{\"type\":\"heatmap\",\"colorbar\":{\"outlinewidth\":0,\"ticks\":\"\"},\"colorscale\":[[0.0,\"#0d0887\"],[0.1111111111111111,\"#46039f\"],[0.2222222222222222,\"#7201a8\"],[0.3333333333333333,\"#9c179e\"],[0.4444444444444444,\"#bd3786\"],[0.5555555555555556,\"#d8576b\"],[0.6666666666666666,\"#ed7953\"],[0.7777777777777778,\"#fb9f3a\"],[0.8888888888888888,\"#fdca26\"],[1.0,\"#f0f921\"]]}],\"heatmapgl\":[{\"type\":\"heatmapgl\",\"colorbar\":{\"outlinewidth\":0,\"ticks\":\"\"},\"colorscale\":[[0.0,\"#0d0887\"],[0.1111111111111111,\"#46039f\"],[0.2222222222222222,\"#7201a8\"],[0.3333333333333333,\"#9c179e\"],[0.4444444444444444,\"#bd3786\"],[0.5555555555555556,\"#d8576b\"],[0.6666666666666666,\"#ed7953\"],[0.7777777777777778,\"#fb9f3a\"],[0.8888888888888888,\"#fdca26\"],[1.0,\"#f0f921\"]]}],\"contourcarpet\":[{\"type\":\"contourcarpet\",\"colorbar\":{\"outlinewidth\":0,\"ticks\":\"\"}}],\"contour\":[{\"type\":\"contour\",\"colorbar\":{\"outlinewidth\":0,\"ticks\":\"\"},\"colorscale\":[[0.0,\"#0d0887\"],[0.1111111111111111,\"#46039f\"],[0.2222222222222222,\"#7201a8\"],[0.3333333333333333,\"#9c179e\"],[0.4444444444444444,\"#bd3786\"],[0.5555555555555556,\"#d8576b\"],[0.6666666666666666,\"#ed7953\"],[0.7777777777777778,\"#fb9f3a\"],[0.8888888888888888,\"#fdca26\"],[1.0,\"#f0f921\"]]}],\"surface\":[{\"type\":\"surface\",\"colorbar\":{\"outlinewidth\":0,\"ticks\":\"\"},\"colorscale\":[[0.0,\"#0d0887\"],[0.1111111111111111,\"#46039f\"],[0.2222222222222222,\"#7201a8\"],[0.3333333333333333,\"#9c179e\"],[0.4444444444444444,\"#bd3786\"],[0.5555555555555556,\"#d8576b\"],[0.6666666666666666,\"#ed7953\"],[0.7777777777777778,\"#fb9f3a\"],[0.8888888888888888,\"#fdca26\"],[1.0,\"#f0f921\"]]}],\"mesh3d\":[{\"type\":\"mesh3d\",\"colorbar\":{\"outlinewidth\":0,\"ticks\":\"\"}}],\"scatter\":[{\"fillpattern\":{\"fillmode\":\"overlay\",\"size\":10,\"solidity\":0.2},\"type\":\"scatter\"}],\"parcoords\":[{\"type\":\"parcoords\",\"line\":{\"colorbar\":{\"outlinewidth\":0,\"ticks\":\"\"}}}],\"scatterpolargl\":[{\"type\":\"scatterpolargl\",\"marker\":{\"colorbar\":{\"outlinewidth\":0,\"ticks\":\"\"}}}],\"bar\":[{\"error_x\":{\"color\":\"#2a3f5f\"},\"error_y\":{\"color\":\"#2a3f5f\"},\"marker\":{\"line\":{\"color\":\"#E5ECF6\",\"width\":0.5},\"pattern\":{\"fillmode\":\"overlay\",\"size\":10,\"solidity\":0.2}},\"type\":\"bar\"}],\"scattergeo\":[{\"type\":\"scattergeo\",\"marker\":{\"colorbar\":{\"outlinewidth\":0,\"ticks\":\"\"}}}],\"scatterpolar\":[{\"type\":\"scatterpolar\",\"marker\":{\"colorbar\":{\"outlinewidth\":0,\"ticks\":\"\"}}}],\"histogram\":[{\"marker\":{\"pattern\":{\"fillmode\":\"overlay\",\"size\":10,\"solidity\":0.2}},\"type\":\"histogram\"}],\"scattergl\":[{\"type\":\"scattergl\",\"marker\":{\"colorbar\":{\"outlinewidth\":0,\"ticks\":\"\"}}}],\"scatter3d\":[{\"type\":\"scatter3d\",\"line\":{\"colorbar\":{\"outlinewidth\":0,\"ticks\":\"\"}},\"marker\":{\"colorbar\":{\"outlinewidth\":0,\"ticks\":\"\"}}}],\"scattermapbox\":[{\"type\":\"scattermapbox\",\"marker\":{\"colorbar\":{\"outlinewidth\":0,\"ticks\":\"\"}}}],\"scatterternary\":[{\"type\":\"scatterternary\",\"marker\":{\"colorbar\":{\"outlinewidth\":0,\"ticks\":\"\"}}}],\"scattercarpet\":[{\"type\":\"scattercarpet\",\"marker\":{\"colorbar\":{\"outlinewidth\":0,\"ticks\":\"\"}}}],\"carpet\":[{\"aaxis\":{\"endlinecolor\":\"#2a3f5f\",\"gridcolor\":\"white\",\"linecolor\":\"white\",\"minorgridcolor\":\"white\",\"startlinecolor\":\"#2a3f5f\"},\"baxis\":{\"endlinecolor\":\"#2a3f5f\",\"gridcolor\":\"white\",\"linecolor\":\"white\",\"minorgridcolor\":\"white\",\"startlinecolor\":\"#2a3f5f\"},\"type\":\"carpet\"}],\"table\":[{\"cells\":{\"fill\":{\"color\":\"#EBF0F8\"},\"line\":{\"color\":\"white\"}},\"header\":{\"fill\":{\"color\":\"#C8D4E3\"},\"line\":{\"color\":\"white\"}},\"type\":\"table\"}],\"barpolar\":[{\"marker\":{\"line\":{\"color\":\"#E5ECF6\",\"width\":0.5},\"pattern\":{\"fillmode\":\"overlay\",\"size\":10,\"solidity\":0.2}},\"type\":\"barpolar\"}],\"pie\":[{\"automargin\":true,\"type\":\"pie\"}]},\"layout\":{\"autotypenumbers\":\"strict\",\"colorway\":[\"#636efa\",\"#EF553B\",\"#00cc96\",\"#ab63fa\",\"#FFA15A\",\"#19d3f3\",\"#FF6692\",\"#B6E880\",\"#FF97FF\",\"#FECB52\"],\"font\":{\"color\":\"#2a3f5f\"},\"hovermode\":\"closest\",\"hoverlabel\":{\"align\":\"left\"},\"paper_bgcolor\":\"white\",\"plot_bgcolor\":\"#E5ECF6\",\"polar\":{\"bgcolor\":\"#E5ECF6\",\"angularaxis\":{\"gridcolor\":\"white\",\"linecolor\":\"white\",\"ticks\":\"\"},\"radialaxis\":{\"gridcolor\":\"white\",\"linecolor\":\"white\",\"ticks\":\"\"}},\"ternary\":{\"bgcolor\":\"#E5ECF6\",\"aaxis\":{\"gridcolor\":\"white\",\"linecolor\":\"white\",\"ticks\":\"\"},\"baxis\":{\"gridcolor\":\"white\",\"linecolor\":\"white\",\"ticks\":\"\"},\"caxis\":{\"gridcolor\":\"white\",\"linecolor\":\"white\",\"ticks\":\"\"}},\"coloraxis\":{\"colorbar\":{\"outlinewidth\":0,\"ticks\":\"\"}},\"colorscale\":{\"sequential\":[[0.0,\"#0d0887\"],[0.1111111111111111,\"#46039f\"],[0.2222222222222222,\"#7201a8\"],[0.3333333333333333,\"#9c179e\"],[0.4444444444444444,\"#bd3786\"],[0.5555555555555556,\"#d8576b\"],[0.6666666666666666,\"#ed7953\"],[0.7777777777777778,\"#fb9f3a\"],[0.8888888888888888,\"#fdca26\"],[1.0,\"#f0f921\"]],\"sequentialminus\":[[0.0,\"#0d0887\"],[0.1111111111111111,\"#46039f\"],[0.2222222222222222,\"#7201a8\"],[0.3333333333333333,\"#9c179e\"],[0.4444444444444444,\"#bd3786\"],[0.5555555555555556,\"#d8576b\"],[0.6666666666666666,\"#ed7953\"],[0.7777777777777778,\"#fb9f3a\"],[0.8888888888888888,\"#fdca26\"],[1.0,\"#f0f921\"]],\"diverging\":[[0,\"#8e0152\"],[0.1,\"#c51b7d\"],[0.2,\"#de77ae\"],[0.3,\"#f1b6da\"],[0.4,\"#fde0ef\"],[0.5,\"#f7f7f7\"],[0.6,\"#e6f5d0\"],[0.7,\"#b8e186\"],[0.8,\"#7fbc41\"],[0.9,\"#4d9221\"],[1,\"#276419\"]]},\"xaxis\":{\"gridcolor\":\"white\",\"linecolor\":\"white\",\"ticks\":\"\",\"title\":{\"standoff\":15},\"zerolinecolor\":\"white\",\"automargin\":true,\"zerolinewidth\":2},\"yaxis\":{\"gridcolor\":\"white\",\"linecolor\":\"white\",\"ticks\":\"\",\"title\":{\"standoff\":15},\"zerolinecolor\":\"white\",\"automargin\":true,\"zerolinewidth\":2},\"scene\":{\"xaxis\":{\"backgroundcolor\":\"#E5ECF6\",\"gridcolor\":\"white\",\"linecolor\":\"white\",\"showbackground\":true,\"ticks\":\"\",\"zerolinecolor\":\"white\",\"gridwidth\":2},\"yaxis\":{\"backgroundcolor\":\"#E5ECF6\",\"gridcolor\":\"white\",\"linecolor\":\"white\",\"showbackground\":true,\"ticks\":\"\",\"zerolinecolor\":\"white\",\"gridwidth\":2},\"zaxis\":{\"backgroundcolor\":\"#E5ECF6\",\"gridcolor\":\"white\",\"linecolor\":\"white\",\"showbackground\":true,\"ticks\":\"\",\"zerolinecolor\":\"white\",\"gridwidth\":2}},\"shapedefaults\":{\"line\":{\"color\":\"#2a3f5f\"}},\"annotationdefaults\":{\"arrowcolor\":\"#2a3f5f\",\"arrowhead\":0,\"arrowwidth\":1},\"geo\":{\"bgcolor\":\"white\",\"landcolor\":\"#E5ECF6\",\"subunitcolor\":\"white\",\"showland\":true,\"showlakes\":true,\"lakecolor\":\"white\"},\"title\":{\"x\":0.05},\"mapbox\":{\"style\":\"light\"}}},\"xaxis\":{\"anchor\":\"y\",\"domain\":[0.0,1.0],\"title\":{\"text\":\"Subtopic-wise analysis\"},\"tickangle\":90},\"yaxis\":{\"anchor\":\"x\",\"domain\":[0.0,1.0],\"title\":{\"text\":\"Number of Questions\"}},\"legend\":{\"title\":{\"text\":\"Answer Type\"},\"tracegroupgap\":0},\"title\":{\"text\":\"Topic-wise Breakdown of Questions\"},\"barmode\":\"group\",\"height\":600},                        {\"responsive\": true}                    ).then(function(){\n",
       "                            \n",
       "var gd = document.getElementById('8312c9f0-a0af-43f2-a4b9-e8c684cbfa90');\n",
       "var x = new MutationObserver(function (mutations, observer) {{\n",
       "        var display = window.getComputedStyle(gd).display;\n",
       "        if (!display || display === 'none') {{\n",
       "            console.log([gd, 'removed!']);\n",
       "            Plotly.purge(gd);\n",
       "            observer.disconnect();\n",
       "        }}\n",
       "}});\n",
       "\n",
       "// Listen for the removal of the full notebook cells\n",
       "var notebookContainer = gd.closest('#notebook-container');\n",
       "if (notebookContainer) {{\n",
       "    x.observe(notebookContainer, {childList: true});\n",
       "}}\n",
       "\n",
       "// Listen for the clearing of the current output cell\n",
       "var outputEl = gd.closest('.output');\n",
       "if (outputEl) {{\n",
       "    x.observe(outputEl, {childList: true});\n",
       "}}\n",
       "\n",
       "                        })                };                });            </script>        </div>"
      ]
     },
     "metadata": {},
     "output_type": "display_data"
    }
   ],
   "source": [
    "# Reshape the DataFrame for plotting\n",
    "df_long = topic_df.melt(id_vars=[\"Chapter\", \"Subtopic\"], \n",
    "                  value_vars=[\"Questions Attempted\", \"Correct Answers\", \"Incorrect Answers\"],\n",
    "                  var_name=\"Answer Type\", value_name=\"Count\")\n",
    "\n",
    "# Create a grouped bar plot\n",
    "fig = px.bar(df_long, x=\"Subtopic\", y=\"Count\", color=\"Answer Type\", \n",
    "             barmode=\"group\", \n",
    "             title=\"Topic-wise Breakdown of Questions\",\n",
    "             labels={\"Count\": \"Number of Questions\"},\n",
    "             height=600)\n",
    "\n",
    "# Update layout for better visualization\n",
    "fig.update_layout(\n",
    "    xaxis_title=\"Subtopic-wise analysis\",\n",
    "    yaxis_title=\"Number of Questions\",\n",
    "    xaxis_tickangle=90,\n",
    "    )\n",
    "\n",
    "# # Display the plot\n",
    "# topic_wise_plot_path = os.path.join(path, \"topic_wise_breakdown.png\")\n",
    "# fig.write_image(topic_wise_plot_path)\n",
    "fig.show()"
   ]
  },
  {
   "cell_type": "code",
   "execution_count": 28,
   "metadata": {},
   "outputs": [
    {
     "data": {
      "text/html": [
       "<div>\n",
       "<style scoped>\n",
       "    .dataframe tbody tr th:only-of-type {\n",
       "        vertical-align: middle;\n",
       "    }\n",
       "\n",
       "    .dataframe tbody tr th {\n",
       "        vertical-align: top;\n",
       "    }\n",
       "\n",
       "    .dataframe thead th {\n",
       "        text-align: right;\n",
       "    }\n",
       "</style>\n",
       "<table border=\"1\" class=\"dataframe\">\n",
       "  <thead>\n",
       "    <tr style=\"text-align: right;\">\n",
       "      <th></th>\n",
       "    </tr>\n",
       "  </thead>\n",
       "  <tbody>\n",
       "  </tbody>\n",
       "</table>\n",
       "</div>"
      ],
      "text/plain": [
       "Empty DataFrame\n",
       "Columns: []\n",
       "Index: []"
      ]
     },
     "execution_count": 28,
     "metadata": {},
     "output_type": "execute_result"
    }
   ],
   "source": [
    "extract_topic_data(report)"
   ]
  },
  {
   "cell_type": "code",
   "execution_count": 19,
   "metadata": {},
   "outputs": [
    {
     "name": "stdout",
     "output_type": "stream",
     "text": [
      "No match found.\n"
     ]
    },
    {
     "data": {
      "text/html": [
       "<div>\n",
       "<style scoped>\n",
       "    .dataframe tbody tr th:only-of-type {\n",
       "        vertical-align: middle;\n",
       "    }\n",
       "\n",
       "    .dataframe tbody tr th {\n",
       "        vertical-align: top;\n",
       "    }\n",
       "\n",
       "    .dataframe thead th {\n",
       "        text-align: right;\n",
       "    }\n",
       "</style>\n",
       "<table border=\"1\" class=\"dataframe\">\n",
       "  <thead>\n",
       "    <tr style=\"text-align: right;\">\n",
       "      <th></th>\n",
       "    </tr>\n",
       "  </thead>\n",
       "  <tbody>\n",
       "  </tbody>\n",
       "</table>\n",
       "</div>"
      ],
      "text/plain": [
       "Empty DataFrame\n",
       "Columns: []\n",
       "Index: []"
      ]
     },
     "execution_count": 19,
     "metadata": {},
     "output_type": "execute_result"
    }
   ],
   "source": [
    "progress_compare(report)"
   ]
  },
  {
   "cell_type": "code",
   "execution_count": 147,
   "metadata": {},
   "outputs": [
    {
     "data": {
      "application/vnd.plotly.v1+json": {
       "config": {
        "plotlyServerURL": "https://plot.ly"
       },
       "data": [
        {
         "hovertemplate": "Timestamp=%{x}<br>Accuracy (%)=%{y}<extra></extra>",
         "legendgroup": "",
         "line": {
          "color": "#636efa",
          "dash": "solid"
         },
         "marker": {
          "symbol": "circle"
         },
         "mode": "lines+markers",
         "name": "",
         "orientation": "v",
         "showlegend": false,
         "type": "scatter",
         "x": [
          "2024-10-15T09:03:05",
          "2024-10-15T09:06:19",
          "2024-10-15T10:33:57",
          "2024-10-15T10:42:39",
          "2024-10-15T18:01:43",
          "2024-10-15T18:06:38"
         ],
         "xaxis": "x",
         "y": [
          20,
          33.33,
          23.33,
          23.33,
          0,
          16.67
         ],
         "yaxis": "y"
        }
       ],
       "layout": {
        "autosize": true,
        "legend": {
         "tracegroupgap": 0
        },
        "template": {
         "data": {
          "bar": [
           {
            "error_x": {
             "color": "#2a3f5f"
            },
            "error_y": {
             "color": "#2a3f5f"
            },
            "marker": {
             "line": {
              "color": "#E5ECF6",
              "width": 0.5
             },
             "pattern": {
              "fillmode": "overlay",
              "size": 10,
              "solidity": 0.2
             }
            },
            "type": "bar"
           }
          ],
          "barpolar": [
           {
            "marker": {
             "line": {
              "color": "#E5ECF6",
              "width": 0.5
             },
             "pattern": {
              "fillmode": "overlay",
              "size": 10,
              "solidity": 0.2
             }
            },
            "type": "barpolar"
           }
          ],
          "carpet": [
           {
            "aaxis": {
             "endlinecolor": "#2a3f5f",
             "gridcolor": "white",
             "linecolor": "white",
             "minorgridcolor": "white",
             "startlinecolor": "#2a3f5f"
            },
            "baxis": {
             "endlinecolor": "#2a3f5f",
             "gridcolor": "white",
             "linecolor": "white",
             "minorgridcolor": "white",
             "startlinecolor": "#2a3f5f"
            },
            "type": "carpet"
           }
          ],
          "choropleth": [
           {
            "colorbar": {
             "outlinewidth": 0,
             "ticks": ""
            },
            "type": "choropleth"
           }
          ],
          "contour": [
           {
            "colorbar": {
             "outlinewidth": 0,
             "ticks": ""
            },
            "colorscale": [
             [
              0,
              "#0d0887"
             ],
             [
              0.1111111111111111,
              "#46039f"
             ],
             [
              0.2222222222222222,
              "#7201a8"
             ],
             [
              0.3333333333333333,
              "#9c179e"
             ],
             [
              0.4444444444444444,
              "#bd3786"
             ],
             [
              0.5555555555555556,
              "#d8576b"
             ],
             [
              0.6666666666666666,
              "#ed7953"
             ],
             [
              0.7777777777777778,
              "#fb9f3a"
             ],
             [
              0.8888888888888888,
              "#fdca26"
             ],
             [
              1,
              "#f0f921"
             ]
            ],
            "type": "contour"
           }
          ],
          "contourcarpet": [
           {
            "colorbar": {
             "outlinewidth": 0,
             "ticks": ""
            },
            "type": "contourcarpet"
           }
          ],
          "heatmap": [
           {
            "colorbar": {
             "outlinewidth": 0,
             "ticks": ""
            },
            "colorscale": [
             [
              0,
              "#0d0887"
             ],
             [
              0.1111111111111111,
              "#46039f"
             ],
             [
              0.2222222222222222,
              "#7201a8"
             ],
             [
              0.3333333333333333,
              "#9c179e"
             ],
             [
              0.4444444444444444,
              "#bd3786"
             ],
             [
              0.5555555555555556,
              "#d8576b"
             ],
             [
              0.6666666666666666,
              "#ed7953"
             ],
             [
              0.7777777777777778,
              "#fb9f3a"
             ],
             [
              0.8888888888888888,
              "#fdca26"
             ],
             [
              1,
              "#f0f921"
             ]
            ],
            "type": "heatmap"
           }
          ],
          "heatmapgl": [
           {
            "colorbar": {
             "outlinewidth": 0,
             "ticks": ""
            },
            "colorscale": [
             [
              0,
              "#0d0887"
             ],
             [
              0.1111111111111111,
              "#46039f"
             ],
             [
              0.2222222222222222,
              "#7201a8"
             ],
             [
              0.3333333333333333,
              "#9c179e"
             ],
             [
              0.4444444444444444,
              "#bd3786"
             ],
             [
              0.5555555555555556,
              "#d8576b"
             ],
             [
              0.6666666666666666,
              "#ed7953"
             ],
             [
              0.7777777777777778,
              "#fb9f3a"
             ],
             [
              0.8888888888888888,
              "#fdca26"
             ],
             [
              1,
              "#f0f921"
             ]
            ],
            "type": "heatmapgl"
           }
          ],
          "histogram": [
           {
            "marker": {
             "pattern": {
              "fillmode": "overlay",
              "size": 10,
              "solidity": 0.2
             }
            },
            "type": "histogram"
           }
          ],
          "histogram2d": [
           {
            "colorbar": {
             "outlinewidth": 0,
             "ticks": ""
            },
            "colorscale": [
             [
              0,
              "#0d0887"
             ],
             [
              0.1111111111111111,
              "#46039f"
             ],
             [
              0.2222222222222222,
              "#7201a8"
             ],
             [
              0.3333333333333333,
              "#9c179e"
             ],
             [
              0.4444444444444444,
              "#bd3786"
             ],
             [
              0.5555555555555556,
              "#d8576b"
             ],
             [
              0.6666666666666666,
              "#ed7953"
             ],
             [
              0.7777777777777778,
              "#fb9f3a"
             ],
             [
              0.8888888888888888,
              "#fdca26"
             ],
             [
              1,
              "#f0f921"
             ]
            ],
            "type": "histogram2d"
           }
          ],
          "histogram2dcontour": [
           {
            "colorbar": {
             "outlinewidth": 0,
             "ticks": ""
            },
            "colorscale": [
             [
              0,
              "#0d0887"
             ],
             [
              0.1111111111111111,
              "#46039f"
             ],
             [
              0.2222222222222222,
              "#7201a8"
             ],
             [
              0.3333333333333333,
              "#9c179e"
             ],
             [
              0.4444444444444444,
              "#bd3786"
             ],
             [
              0.5555555555555556,
              "#d8576b"
             ],
             [
              0.6666666666666666,
              "#ed7953"
             ],
             [
              0.7777777777777778,
              "#fb9f3a"
             ],
             [
              0.8888888888888888,
              "#fdca26"
             ],
             [
              1,
              "#f0f921"
             ]
            ],
            "type": "histogram2dcontour"
           }
          ],
          "mesh3d": [
           {
            "colorbar": {
             "outlinewidth": 0,
             "ticks": ""
            },
            "type": "mesh3d"
           }
          ],
          "parcoords": [
           {
            "line": {
             "colorbar": {
              "outlinewidth": 0,
              "ticks": ""
             }
            },
            "type": "parcoords"
           }
          ],
          "pie": [
           {
            "automargin": true,
            "type": "pie"
           }
          ],
          "scatter": [
           {
            "fillpattern": {
             "fillmode": "overlay",
             "size": 10,
             "solidity": 0.2
            },
            "type": "scatter"
           }
          ],
          "scatter3d": [
           {
            "line": {
             "colorbar": {
              "outlinewidth": 0,
              "ticks": ""
             }
            },
            "marker": {
             "colorbar": {
              "outlinewidth": 0,
              "ticks": ""
             }
            },
            "type": "scatter3d"
           }
          ],
          "scattercarpet": [
           {
            "marker": {
             "colorbar": {
              "outlinewidth": 0,
              "ticks": ""
             }
            },
            "type": "scattercarpet"
           }
          ],
          "scattergeo": [
           {
            "marker": {
             "colorbar": {
              "outlinewidth": 0,
              "ticks": ""
             }
            },
            "type": "scattergeo"
           }
          ],
          "scattergl": [
           {
            "marker": {
             "colorbar": {
              "outlinewidth": 0,
              "ticks": ""
             }
            },
            "type": "scattergl"
           }
          ],
          "scattermapbox": [
           {
            "marker": {
             "colorbar": {
              "outlinewidth": 0,
              "ticks": ""
             }
            },
            "type": "scattermapbox"
           }
          ],
          "scatterpolar": [
           {
            "marker": {
             "colorbar": {
              "outlinewidth": 0,
              "ticks": ""
             }
            },
            "type": "scatterpolar"
           }
          ],
          "scatterpolargl": [
           {
            "marker": {
             "colorbar": {
              "outlinewidth": 0,
              "ticks": ""
             }
            },
            "type": "scatterpolargl"
           }
          ],
          "scatterternary": [
           {
            "marker": {
             "colorbar": {
              "outlinewidth": 0,
              "ticks": ""
             }
            },
            "type": "scatterternary"
           }
          ],
          "surface": [
           {
            "colorbar": {
             "outlinewidth": 0,
             "ticks": ""
            },
            "colorscale": [
             [
              0,
              "#0d0887"
             ],
             [
              0.1111111111111111,
              "#46039f"
             ],
             [
              0.2222222222222222,
              "#7201a8"
             ],
             [
              0.3333333333333333,
              "#9c179e"
             ],
             [
              0.4444444444444444,
              "#bd3786"
             ],
             [
              0.5555555555555556,
              "#d8576b"
             ],
             [
              0.6666666666666666,
              "#ed7953"
             ],
             [
              0.7777777777777778,
              "#fb9f3a"
             ],
             [
              0.8888888888888888,
              "#fdca26"
             ],
             [
              1,
              "#f0f921"
             ]
            ],
            "type": "surface"
           }
          ],
          "table": [
           {
            "cells": {
             "fill": {
              "color": "#EBF0F8"
             },
             "line": {
              "color": "white"
             }
            },
            "header": {
             "fill": {
              "color": "#C8D4E3"
             },
             "line": {
              "color": "white"
             }
            },
            "type": "table"
           }
          ]
         },
         "layout": {
          "annotationdefaults": {
           "arrowcolor": "#2a3f5f",
           "arrowhead": 0,
           "arrowwidth": 1
          },
          "autotypenumbers": "strict",
          "coloraxis": {
           "colorbar": {
            "outlinewidth": 0,
            "ticks": ""
           }
          },
          "colorscale": {
           "diverging": [
            [
             0,
             "#8e0152"
            ],
            [
             0.1,
             "#c51b7d"
            ],
            [
             0.2,
             "#de77ae"
            ],
            [
             0.3,
             "#f1b6da"
            ],
            [
             0.4,
             "#fde0ef"
            ],
            [
             0.5,
             "#f7f7f7"
            ],
            [
             0.6,
             "#e6f5d0"
            ],
            [
             0.7,
             "#b8e186"
            ],
            [
             0.8,
             "#7fbc41"
            ],
            [
             0.9,
             "#4d9221"
            ],
            [
             1,
             "#276419"
            ]
           ],
           "sequential": [
            [
             0,
             "#0d0887"
            ],
            [
             0.1111111111111111,
             "#46039f"
            ],
            [
             0.2222222222222222,
             "#7201a8"
            ],
            [
             0.3333333333333333,
             "#9c179e"
            ],
            [
             0.4444444444444444,
             "#bd3786"
            ],
            [
             0.5555555555555556,
             "#d8576b"
            ],
            [
             0.6666666666666666,
             "#ed7953"
            ],
            [
             0.7777777777777778,
             "#fb9f3a"
            ],
            [
             0.8888888888888888,
             "#fdca26"
            ],
            [
             1,
             "#f0f921"
            ]
           ],
           "sequentialminus": [
            [
             0,
             "#0d0887"
            ],
            [
             0.1111111111111111,
             "#46039f"
            ],
            [
             0.2222222222222222,
             "#7201a8"
            ],
            [
             0.3333333333333333,
             "#9c179e"
            ],
            [
             0.4444444444444444,
             "#bd3786"
            ],
            [
             0.5555555555555556,
             "#d8576b"
            ],
            [
             0.6666666666666666,
             "#ed7953"
            ],
            [
             0.7777777777777778,
             "#fb9f3a"
            ],
            [
             0.8888888888888888,
             "#fdca26"
            ],
            [
             1,
             "#f0f921"
            ]
           ]
          },
          "colorway": [
           "#636efa",
           "#EF553B",
           "#00cc96",
           "#ab63fa",
           "#FFA15A",
           "#19d3f3",
           "#FF6692",
           "#B6E880",
           "#FF97FF",
           "#FECB52"
          ],
          "font": {
           "color": "#2a3f5f"
          },
          "geo": {
           "bgcolor": "white",
           "lakecolor": "white",
           "landcolor": "#E5ECF6",
           "showlakes": true,
           "showland": true,
           "subunitcolor": "white"
          },
          "hoverlabel": {
           "align": "left"
          },
          "hovermode": "closest",
          "mapbox": {
           "style": "light"
          },
          "paper_bgcolor": "white",
          "plot_bgcolor": "#E5ECF6",
          "polar": {
           "angularaxis": {
            "gridcolor": "white",
            "linecolor": "white",
            "ticks": ""
           },
           "bgcolor": "#E5ECF6",
           "radialaxis": {
            "gridcolor": "white",
            "linecolor": "white",
            "ticks": ""
           }
          },
          "scene": {
           "xaxis": {
            "backgroundcolor": "#E5ECF6",
            "gridcolor": "white",
            "gridwidth": 2,
            "linecolor": "white",
            "showbackground": true,
            "ticks": "",
            "zerolinecolor": "white"
           },
           "yaxis": {
            "backgroundcolor": "#E5ECF6",
            "gridcolor": "white",
            "gridwidth": 2,
            "linecolor": "white",
            "showbackground": true,
            "ticks": "",
            "zerolinecolor": "white"
           },
           "zaxis": {
            "backgroundcolor": "#E5ECF6",
            "gridcolor": "white",
            "gridwidth": 2,
            "linecolor": "white",
            "showbackground": true,
            "ticks": "",
            "zerolinecolor": "white"
           }
          },
          "shapedefaults": {
           "line": {
            "color": "#2a3f5f"
           }
          },
          "ternary": {
           "aaxis": {
            "gridcolor": "white",
            "linecolor": "white",
            "ticks": ""
           },
           "baxis": {
            "gridcolor": "white",
            "linecolor": "white",
            "ticks": ""
           },
           "bgcolor": "#E5ECF6",
           "caxis": {
            "gridcolor": "white",
            "linecolor": "white",
            "ticks": ""
           }
          },
          "title": {
           "x": 0.05
          },
          "xaxis": {
           "automargin": true,
           "gridcolor": "white",
           "linecolor": "white",
           "ticks": "",
           "title": {
            "standoff": 15
           },
           "zerolinecolor": "white",
           "zerolinewidth": 2
          },
          "yaxis": {
           "automargin": true,
           "gridcolor": "white",
           "linecolor": "white",
           "ticks": "",
           "title": {
            "standoff": 15
           },
           "zerolinecolor": "white",
           "zerolinewidth": 2
          }
         }
        },
        "title": {
         "text": "NEET Biology Exam Accuracy Over Time"
        },
        "xaxis": {
         "anchor": "y",
         "autorange": true,
         "domain": [
          0,
          1
         ],
         "range": [
          "2024-10-15 08:29:03.2386",
          "2024-10-15 18:40:39.7614"
         ],
         "tickangle": 90,
         "tickformat": "%Y-%m-%d %H:%M",
         "title": {
          "text": "Timestamp"
         },
         "type": "date"
        },
        "yaxis": {
         "anchor": "x",
         "autorange": true,
         "domain": [
          0,
          1
         ],
         "range": [
          -3.3694262295081963,
          36.69942622950819
         ],
         "title": {
          "text": "Accuracy (%)"
         },
         "type": "linear"
        }
       }
      },
      "image/png": "[encoded data removed]",
      "text/html": [
       "<div>                            <div id=\"9d4e5530-90fb-4bec-b3eb-b178d7db8adb\" class=\"plotly-graph-div\" style=\"height:525px; width:100%;\"></div>            <script type=\"text/javascript\">                require([\"plotly\"], function(Plotly) {                    window.PLOTLYENV=window.PLOTLYENV || {};                                    if (document.getElementById(\"9d4e5530-90fb-4bec-b3eb-b178d7db8adb\")) {                    Plotly.newPlot(                        \"9d4e5530-90fb-4bec-b3eb-b178d7db8adb\",                        [{\"hovertemplate\":\"Timestamp=%{x}\\u003cbr\\u003eAccuracy (%)=%{y}\\u003cextra\\u003e\\u003c\\u002fextra\\u003e\",\"legendgroup\":\"\",\"line\":{\"color\":\"#636efa\",\"dash\":\"solid\"},\"marker\":{\"symbol\":\"circle\"},\"mode\":\"lines+markers\",\"name\":\"\",\"orientation\":\"v\",\"showlegend\":false,\"x\":[\"2024-10-15T09:03:05\",\"2024-10-15T09:06:19\",\"2024-10-15T10:33:57\",\"2024-10-15T10:42:39\",\"2024-10-15T18:01:43\",\"2024-10-15T18:06:38\"],\"xaxis\":\"x\",\"y\":[20.0,33.33,23.33,23.33,0.0,16.67],\"yaxis\":\"y\",\"type\":\"scatter\"}],                        {\"template\":{\"data\":{\"histogram2dcontour\":[{\"type\":\"histogram2dcontour\",\"colorbar\":{\"outlinewidth\":0,\"ticks\":\"\"},\"colorscale\":[[0.0,\"#0d0887\"],[0.1111111111111111,\"#46039f\"],[0.2222222222222222,\"#7201a8\"],[0.3333333333333333,\"#9c179e\"],[0.4444444444444444,\"#bd3786\"],[0.5555555555555556,\"#d8576b\"],[0.6666666666666666,\"#ed7953\"],[0.7777777777777778,\"#fb9f3a\"],[0.8888888888888888,\"#fdca26\"],[1.0,\"#f0f921\"]]}],\"choropleth\":[{\"type\":\"choropleth\",\"colorbar\":{\"outlinewidth\":0,\"ticks\":\"\"}}],\"histogram2d\":[{\"type\":\"histogram2d\",\"colorbar\":{\"outlinewidth\":0,\"ticks\":\"\"},\"colorscale\":[[0.0,\"#0d0887\"],[0.1111111111111111,\"#46039f\"],[0.2222222222222222,\"#7201a8\"],[0.3333333333333333,\"#9c179e\"],[0.4444444444444444,\"#bd3786\"],[0.5555555555555556,\"#d8576b\"],[0.6666666666666666,\"#ed7953\"],[0.7777777777777778,\"#fb9f3a\"],[0.8888888888888888,\"#fdca26\"],[1.0,\"#f0f921\"]]}],\"heatmap\":[{\"type\":\"heatmap\",\"colorbar\":{\"outlinewidth\":0,\"ticks\":\"\"},\"colorscale\":[[0.0,\"#0d0887\"],[0.1111111111111111,\"#46039f\"],[0.2222222222222222,\"#7201a8\"],[0.3333333333333333,\"#9c179e\"],[0.4444444444444444,\"#bd3786\"],[0.5555555555555556,\"#d8576b\"],[0.6666666666666666,\"#ed7953\"],[0.7777777777777778,\"#fb9f3a\"],[0.8888888888888888,\"#fdca26\"],[1.0,\"#f0f921\"]]}],\"heatmapgl\":[{\"type\":\"heatmapgl\",\"colorbar\":{\"outlinewidth\":0,\"ticks\":\"\"},\"colorscale\":[[0.0,\"#0d0887\"],[0.1111111111111111,\"#46039f\"],[0.2222222222222222,\"#7201a8\"],[0.3333333333333333,\"#9c179e\"],[0.4444444444444444,\"#bd3786\"],[0.5555555555555556,\"#d8576b\"],[0.6666666666666666,\"#ed7953\"],[0.7777777777777778,\"#fb9f3a\"],[0.8888888888888888,\"#fdca26\"],[1.0,\"#f0f921\"]]}],\"contourcarpet\":[{\"type\":\"contourcarpet\",\"colorbar\":{\"outlinewidth\":0,\"ticks\":\"\"}}],\"contour\":[{\"type\":\"contour\",\"colorbar\":{\"outlinewidth\":0,\"ticks\":\"\"},\"colorscale\":[[0.0,\"#0d0887\"],[0.1111111111111111,\"#46039f\"],[0.2222222222222222,\"#7201a8\"],[0.3333333333333333,\"#9c179e\"],[0.4444444444444444,\"#bd3786\"],[0.5555555555555556,\"#d8576b\"],[0.6666666666666666,\"#ed7953\"],[0.7777777777777778,\"#fb9f3a\"],[0.8888888888888888,\"#fdca26\"],[1.0,\"#f0f921\"]]}],\"surface\":[{\"type\":\"surface\",\"colorbar\":{\"outlinewidth\":0,\"ticks\":\"\"},\"colorscale\":[[0.0,\"#0d0887\"],[0.1111111111111111,\"#46039f\"],[0.2222222222222222,\"#7201a8\"],[0.3333333333333333,\"#9c179e\"],[0.4444444444444444,\"#bd3786\"],[0.5555555555555556,\"#d8576b\"],[0.6666666666666666,\"#ed7953\"],[0.7777777777777778,\"#fb9f3a\"],[0.8888888888888888,\"#fdca26\"],[1.0,\"#f0f921\"]]}],\"mesh3d\":[{\"type\":\"mesh3d\",\"colorbar\":{\"outlinewidth\":0,\"ticks\":\"\"}}],\"scatter\":[{\"fillpattern\":{\"fillmode\":\"overlay\",\"size\":10,\"solidity\":0.2},\"type\":\"scatter\"}],\"parcoords\":[{\"type\":\"parcoords\",\"line\":{\"colorbar\":{\"outlinewidth\":0,\"ticks\":\"\"}}}],\"scatterpolargl\":[{\"type\":\"scatterpolargl\",\"marker\":{\"colorbar\":{\"outlinewidth\":0,\"ticks\":\"\"}}}],\"bar\":[{\"error_x\":{\"color\":\"#2a3f5f\"},\"error_y\":{\"color\":\"#2a3f5f\"},\"marker\":{\"line\":{\"color\":\"#E5ECF6\",\"width\":0.5},\"pattern\":{\"fillmode\":\"overlay\",\"size\":10,\"solidity\":0.2}},\"type\":\"bar\"}],\"scattergeo\":[{\"type\":\"scattergeo\",\"marker\":{\"colorbar\":{\"outlinewidth\":0,\"ticks\":\"\"}}}],\"scatterpolar\":[{\"type\":\"scatterpolar\",\"marker\":{\"colorbar\":{\"outlinewidth\":0,\"ticks\":\"\"}}}],\"histogram\":[{\"marker\":{\"pattern\":{\"fillmode\":\"overlay\",\"size\":10,\"solidity\":0.2}},\"type\":\"histogram\"}],\"scattergl\":[{\"type\":\"scattergl\",\"marker\":{\"colorbar\":{\"outlinewidth\":0,\"ticks\":\"\"}}}],\"scatter3d\":[{\"type\":\"scatter3d\",\"line\":{\"colorbar\":{\"outlinewidth\":0,\"ticks\":\"\"}},\"marker\":{\"colorbar\":{\"outlinewidth\":0,\"ticks\":\"\"}}}],\"scattermapbox\":[{\"type\":\"scattermapbox\",\"marker\":{\"colorbar\":{\"outlinewidth\":0,\"ticks\":\"\"}}}],\"scatterternary\":[{\"type\":\"scatterternary\",\"marker\":{\"colorbar\":{\"outlinewidth\":0,\"ticks\":\"\"}}}],\"scattercarpet\":[{\"type\":\"scattercarpet\",\"marker\":{\"colorbar\":{\"outlinewidth\":0,\"ticks\":\"\"}}}],\"carpet\":[{\"aaxis\":{\"endlinecolor\":\"#2a3f5f\",\"gridcolor\":\"white\",\"linecolor\":\"white\",\"minorgridcolor\":\"white\",\"startlinecolor\":\"#2a3f5f\"},\"baxis\":{\"endlinecolor\":\"#2a3f5f\",\"gridcolor\":\"white\",\"linecolor\":\"white\",\"minorgridcolor\":\"white\",\"startlinecolor\":\"#2a3f5f\"},\"type\":\"carpet\"}],\"table\":[{\"cells\":{\"fill\":{\"color\":\"#EBF0F8\"},\"line\":{\"color\":\"white\"}},\"header\":{\"fill\":{\"color\":\"#C8D4E3\"},\"line\":{\"color\":\"white\"}},\"type\":\"table\"}],\"barpolar\":[{\"marker\":{\"line\":{\"color\":\"#E5ECF6\",\"width\":0.5},\"pattern\":{\"fillmode\":\"overlay\",\"size\":10,\"solidity\":0.2}},\"type\":\"barpolar\"}],\"pie\":[{\"automargin\":true,\"type\":\"pie\"}]},\"layout\":{\"autotypenumbers\":\"strict\",\"colorway\":[\"#636efa\",\"#EF553B\",\"#00cc96\",\"#ab63fa\",\"#FFA15A\",\"#19d3f3\",\"#FF6692\",\"#B6E880\",\"#FF97FF\",\"#FECB52\"],\"font\":{\"color\":\"#2a3f5f\"},\"hovermode\":\"closest\",\"hoverlabel\":{\"align\":\"left\"},\"paper_bgcolor\":\"white\",\"plot_bgcolor\":\"#E5ECF6\",\"polar\":{\"bgcolor\":\"#E5ECF6\",\"angularaxis\":{\"gridcolor\":\"white\",\"linecolor\":\"white\",\"ticks\":\"\"},\"radialaxis\":{\"gridcolor\":\"white\",\"linecolor\":\"white\",\"ticks\":\"\"}},\"ternary\":{\"bgcolor\":\"#E5ECF6\",\"aaxis\":{\"gridcolor\":\"white\",\"linecolor\":\"white\",\"ticks\":\"\"},\"baxis\":{\"gridcolor\":\"white\",\"linecolor\":\"white\",\"ticks\":\"\"},\"caxis\":{\"gridcolor\":\"white\",\"linecolor\":\"white\",\"ticks\":\"\"}},\"coloraxis\":{\"colorbar\":{\"outlinewidth\":0,\"ticks\":\"\"}},\"colorscale\":{\"sequential\":[[0.0,\"#0d0887\"],[0.1111111111111111,\"#46039f\"],[0.2222222222222222,\"#7201a8\"],[0.3333333333333333,\"#9c179e\"],[0.4444444444444444,\"#bd3786\"],[0.5555555555555556,\"#d8576b\"],[0.6666666666666666,\"#ed7953\"],[0.7777777777777778,\"#fb9f3a\"],[0.8888888888888888,\"#fdca26\"],[1.0,\"#f0f921\"]],\"sequentialminus\":[[0.0,\"#0d0887\"],[0.1111111111111111,\"#46039f\"],[0.2222222222222222,\"#7201a8\"],[0.3333333333333333,\"#9c179e\"],[0.4444444444444444,\"#bd3786\"],[0.5555555555555556,\"#d8576b\"],[0.6666666666666666,\"#ed7953\"],[0.7777777777777778,\"#fb9f3a\"],[0.8888888888888888,\"#fdca26\"],[1.0,\"#f0f921\"]],\"diverging\":[[0,\"#8e0152\"],[0.1,\"#c51b7d\"],[0.2,\"#de77ae\"],[0.3,\"#f1b6da\"],[0.4,\"#fde0ef\"],[0.5,\"#f7f7f7\"],[0.6,\"#e6f5d0\"],[0.7,\"#b8e186\"],[0.8,\"#7fbc41\"],[0.9,\"#4d9221\"],[1,\"#276419\"]]},\"xaxis\":{\"gridcolor\":\"white\",\"linecolor\":\"white\",\"ticks\":\"\",\"title\":{\"standoff\":15},\"zerolinecolor\":\"white\",\"automargin\":true,\"zerolinewidth\":2},\"yaxis\":{\"gridcolor\":\"white\",\"linecolor\":\"white\",\"ticks\":\"\",\"title\":{\"standoff\":15},\"zerolinecolor\":\"white\",\"automargin\":true,\"zerolinewidth\":2},\"scene\":{\"xaxis\":{\"backgroundcolor\":\"#E5ECF6\",\"gridcolor\":\"white\",\"linecolor\":\"white\",\"showbackground\":true,\"ticks\":\"\",\"zerolinecolor\":\"white\",\"gridwidth\":2},\"yaxis\":{\"backgroundcolor\":\"#E5ECF6\",\"gridcolor\":\"white\",\"linecolor\":\"white\",\"showbackground\":true,\"ticks\":\"\",\"zerolinecolor\":\"white\",\"gridwidth\":2},\"zaxis\":{\"backgroundcolor\":\"#E5ECF6\",\"gridcolor\":\"white\",\"linecolor\":\"white\",\"showbackground\":true,\"ticks\":\"\",\"zerolinecolor\":\"white\",\"gridwidth\":2}},\"shapedefaults\":{\"line\":{\"color\":\"#2a3f5f\"}},\"annotationdefaults\":{\"arrowcolor\":\"#2a3f5f\",\"arrowhead\":0,\"arrowwidth\":1},\"geo\":{\"bgcolor\":\"white\",\"landcolor\":\"#E5ECF6\",\"subunitcolor\":\"white\",\"showland\":true,\"showlakes\":true,\"lakecolor\":\"white\"},\"title\":{\"x\":0.05},\"mapbox\":{\"style\":\"light\"}}},\"xaxis\":{\"anchor\":\"y\",\"domain\":[0.0,1.0],\"title\":{\"text\":\"Timestamp\"},\"tickformat\":\"%Y-%m-%d %H:%M\",\"tickangle\":90},\"yaxis\":{\"anchor\":\"x\",\"domain\":[0.0,1.0],\"title\":{\"text\":\"Accuracy (%)\"}},\"legend\":{\"tracegroupgap\":0},\"title\":{\"text\":\"NEET Biology Exam Accuracy Over Time\"}},                        {\"responsive\": true}                    ).then(function(){\n",
       "                            \n",
       "var gd = document.getElementById('9d4e5530-90fb-4bec-b3eb-b178d7db8adb');\n",
       "var x = new MutationObserver(function (mutations, observer) {{\n",
       "        var display = window.getComputedStyle(gd).display;\n",
       "        if (!display || display === 'none') {{\n",
       "            console.log([gd, 'removed!']);\n",
       "            Plotly.purge(gd);\n",
       "            observer.disconnect();\n",
       "        }}\n",
       "}});\n",
       "\n",
       "// Listen for the removal of the full notebook cells\n",
       "var notebookContainer = gd.closest('#notebook-container');\n",
       "if (notebookContainer) {{\n",
       "    x.observe(notebookContainer, {childList: true});\n",
       "}}\n",
       "\n",
       "// Listen for the clearing of the current output cell\n",
       "var outputEl = gd.closest('.output');\n",
       "if (outputEl) {{\n",
       "    x.observe(outputEl, {childList: true});\n",
       "}}\n",
       "\n",
       "                        })                };                });            </script>        </div>"
      ]
     },
     "metadata": {},
     "output_type": "display_data"
    }
   ],
   "source": [
    "# Convert 'Timestamp' to datetime\n",
    "df['Timestamp'] = pd.to_datetime(df['Timestamp'])\n",
    "\n",
    "# Create a line plot using Plotly\n",
    "fig = px.line(df, x='Timestamp', y='Overall Accuracy Percentage', \n",
    "              title='NEET Biology Exam Accuracy Over Time',\n",
    "              labels={'Overall Accuracy Percentage': 'Accuracy (%)'},\n",
    "              markers=True)\n",
    "\n",
    "# Update the x-axis to show both date and time consistently and rotate labels\n",
    "fig.update_xaxes(tickformat=\"%Y-%m-%d %H:%M\", tickangle=90)  # Set the format to show date and time and rotate labels\n",
    "\n",
    "\n",
    "# Show the plot\n",
    "fig.show()"
   ]
  },
  {
   "cell_type": "code",
   "execution_count": null,
   "metadata": {},
   "outputs": [],
   "source": []
  },
  {
   "cell_type": "code",
   "execution_count": 83,
   "metadata": {},
   "outputs": [],
   "source": [
    "store_report(\"gmail@.com\",\"i am vishnu singh\")\n",
    "store_report(\"gmail@.com\",\"iam pankaj singh\")"
   ]
  },
  {
   "cell_type": "code",
   "execution_count": 80,
   "metadata": {},
   "outputs": [],
   "source": [
    "# import sqlite3\n",
    "# def retrieve_data(Email_Id: str) -> str:\n",
    "#     \"\"\"\n",
    "#     Retrieves the progress report of a student from the SQLite database using Email_Id.\n",
    "\n",
    "#     This function connects to the 'student_report.db' SQLite database and queries the \n",
    "#     'new_Student_Progress_report' table for the report associated with the provided Email_Id. \n",
    "#     If a report is found, it is returned as a string; otherwise, the function returns None.\n",
    "\n",
    "#     Args:\n",
    "#         Email_Id (str): The unique email identifier for the student whose report is to be retrieved.\n",
    "\n",
    "#     Returns:\n",
    "#         str or None: The student's progress report as a string if found, otherwise None.\n",
    "#     \"\"\"\n",
    "#     path=\"/hackathon_teams/hack_team_11/workspace/Nvidia_nim_hackathon/backend/base/student_report.db\"\n",
    "#     my_connection = sqlite3.connect(path)\n",
    "#     my_cursor = my_connection.cursor()\n",
    "    \n",
    "#     # Retrieve report based on Email_Id\n",
    "#     my_cursor.execute('SELECT Report FROM new_Student_Progress_report WHERE Email_Id = ?', (Email_Id,))\n",
    "#     result = my_cursor.fetchall()\n",
    "#     print(result)\n",
    "#     my_connection.close()\n",
    "    \n",
    "#     if result:\n",
    "#         return result\n",
    "#     else:\n",
    "#         return None\n"
   ]
  },
  {
   "cell_type": "code",
   "execution_count": 55,
   "metadata": {},
   "outputs": [],
   "source": [
    "with open(\"/hackathon_teams/hack_team_11/workspace/Nvidia_nim_hackathon/backend/base/report.txt\",\"r\") as f:\n",
    "    report=f.read()"
   ]
  },
  {
   "cell_type": "code",
   "execution_count": null,
   "metadata": {},
   "outputs": [],
   "source": []
  },
  {
   "cell_type": "code",
   "execution_count": 81,
   "metadata": {},
   "outputs": [
    {
     "data": {
      "text/plain": [
       "\"After analyzing the provided JSON data, I have generated the report based on the student's performance in the NEET Biology exam.\\n\\n**Overall Score Summary**\\n\\n* Total Questions Answered: 30\\n* Total Correct Answers: 6\\n* Total Incorrect Answers: 24\\n* Overall Accuracy Percentage: 20%\\n\\n**Chapter-wise Analysis**\\n\\n* **Reproduction**:\\n  * Total Questions Answered: 12\\n  * Correct Answers: 2\\n  * Incorrect Answers: 10\\n  * Accuracy Percentage: 16.67%\\n* **Diversity in Living World**:\\n  * Total Questions Answered: 3\\n  * Correct Answers: 1\\n  * Incorrect Answers: 2\\n  * Accuracy Percentage: 33.33%\\n* **Cell Structure and Function**:\\n  * Total Questions Answered: 4\\n  * Correct Answers: 1\\n  * Incorrect Answers: 3\\n  * Accuracy Percentage: 25%\\n* **Genetics and Evolution**:\\n  * Total Questions Answered: 3\\n  * Correct Answers: 0\\n  * Incorrect Answers: 3\\n  * Accuracy Percentage: 0%\\n* **Structural Organization in Plants and Animals**:\\n  * Total Questions Answered: 2\\n  * Correct Answers: 0\\n  * Incorrect Answers: 2\\n  * Accuracy Percentage: 0%\\n* **Biology and Human Welfare**:\\n  * Total Questions Answered: 1\\n  * Correct Answers: 0\\n  * Incorrect Answers: 1\\n  * Accuracy Percentage: 0%\\n* **Growth and Development**:\\n  * Total Questions Answered: 1\\n  * Correct Answers: 0\\n  * Incorrect Answers: 1\\n  * Accuracy Percentage: 0%\\n* **Plant Physiology**:\\n  * Total Questions Answered: 1\\n  * Correct Answers: 0\\n  * Incorrect Answers: 1\\n  * Accuracy Percentage: 0%\\n\\n**Topic-wise Breakdown within Chapters**\\n\\n* **Reproduction**:\\n  * Subtopic: Types of reproduction\\n    - Questions Attempted: 2\\n    - Correct Answers: 1\\n    - Incorrect Answers: 1\\n    - Accuracy Percentage: 50%\\n  * Subtopic: Embryonic development\\n    - Questions Attempted: 3\\n    - Correct Answers: 0\\n    - Incorrect Answers: 3\\n    - Accuracy Percentage: 0%\\n  * Subtopic: Reproductive systems\\n    - Questions Attempted: 4\\n    - Correct Answers: 1\\n    - Incorrect Answers: 3\\n    - Accuracy Percentage: 25%\\n* **Diversity in Living World**:\\n  * Subtopic: Classification of living organisms\\n    - Questions Attempted: 2\\n    - Correct Answers: 1\\n    - Incorrect Answers: 1\\n    - Accuracy Percentage: 50%\\n  * Subtopic: Taxonomic categories\\n    - Questions Attempted: 1\\n    - Correct Answers: 0\\n    - Incorrect Answers: 1\\n    - Accuracy Percentage: 0%\\n* **Cell Structure and Function**:\\n  * Subtopic: Cell membrane\\n    - Questions Attempted: 1\\n    - Correct Answers: 1\\n    - Incorrect Answers: 0\\n    - Accuracy Percentage: 100%\\n  * Subtopic: Cell division\\n    - Questions Attempted: 2\\n    - Correct Answers: 0\\n    - Incorrect Answers: 2\\n    - Accuracy Percentage: 0%\\n* **Genetics and Evolution**:\\n  * Subtopic: Mendelian inheritance\\n    - Questions Attempted: 1\\n    - Correct Answers: 0\\n    - Incorrect Answers: 1\\n    - Accuracy Percentage: 0%\\n  * Subtopic: Evolutionary theories\\n    - Questions Attempted: 1\\n    - Correct Answers: 0\\n    - Incorrect Answers: 1\\n    - Accuracy Percentage: 0%\\n\\n**Actionable Suggestions for Improvement**\\n\\n* **Reproduction**:\\n  * Review embryonic development and reproductive systems.\\n  * Practice questions on types of reproduction.\\n* **Diversity in Living World**:\\n  * Review classification of living organisms and taxonomic categories.\\n  * Practice questions on these topics.\\n* **Cell Structure and Function**:\\n  * Review cell division and cell membrane structure.\\n  * Practice questions on these topics.\\n* **Genetics and Evolution**:\\n  * Review Mendelian inheritance and evolutionary theories.\\n  * Practice questions on these topics.\\n\\n**Progress Comparison**\\n\\n* **Overall Accuracy**:\\n  * Previous: Not Available\\n  * Current: 20%\\n  * Change: Not Applicable\\n\\n**Overall Summary and Motivational Message**\\n\\nYou have attempted 30 questions and scored 20% accuracy. You have shown strength in cell structure and function, but need to improve in reproduction, diversity in living world, genetics and evolution, and other areas. Review the suggested topics and practice questions to improve your performance. Keep working hard and you will see improvement in your future attempts. Good luck!\""
      ]
     },
     "execution_count": 81,
     "metadata": {},
     "output_type": "execute_result"
    }
   ],
   "source": [
    "retrieve_data(\"pankaj@gmail.com\")"
   ]
  },
  {
   "cell_type": "code",
   "execution_count": 32,
   "metadata": {},
   "outputs": [
    {
     "name": "stdout",
     "output_type": "stream",
     "text": [
      "After analyzing the provided data, I've generated a detailed report of the student's exam performance.\n",
      "\n",
      "**Overall Score Summary**\n",
      "\n",
      "* Total Questions Answered: 30\n",
      "* Total Correct Answers: 10\n",
      "* Total Incorrect Answers: 20\n",
      "* Overall Accuracy Percentage: 33.33%\n",
      "\n",
      "**Chapter-wise Analysis**\n",
      "\n",
      "* **Reproduction**:\n",
      "  * Total Questions Answered: 4\n",
      "  * Correct Answers: 1\n",
      "  * Incorrect Answers: 3\n",
      "  * Accuracy Percentage: 25%\n",
      "* **Genetics and Evolution**:\n",
      "  * Total Questions Answered: 5\n",
      "  * Correct Answers: 2\n",
      "  * Incorrect Answers: 3\n",
      "  * Accuracy Percentage: 40%\n",
      "* **Diversity in Living World**:\n",
      "  * Total Questions Answered: 4\n",
      "  * Correct Answers: 1\n",
      "  * Incorrect Answers: 3\n",
      "  * Accuracy Percentage: 25%\n",
      "* **Plant Physiology**:\n",
      "  * Total Questions Answered: 2\n",
      "  * Correct Answers: 1\n",
      "  * Incorrect Answers: 1\n",
      "  * Accuracy Percentage: 50%\n",
      "* **Human Physiology**:\n",
      "  * Total Questions Answered: 2\n",
      "  * Correct Answers: 0\n",
      "  * Incorrect Answers: 2\n",
      "  * Accuracy Percentage: 0%\n",
      "* **Biomolecules**:\n",
      "  * Total Questions Answered: 1\n",
      "  * Correct Answers: 0\n",
      "  * Incorrect Answers: 1\n",
      "  * Accuracy Percentage: 0%\n",
      "* **Cell Structure and Function**:\n",
      "  * Total Questions Answered: 2\n",
      "  * Correct Answers: 1\n",
      "  * Incorrect Answers: 1\n",
      "  * Accuracy Percentage: 50%\n",
      "* **Immunity**:\n",
      "  * Total Questions Answered: 1\n",
      "  * Correct Answers: 0\n",
      "  * Incorrect Answers: 1\n",
      "  * Accuracy Percentage: 0%\n",
      "* **Structural Organization in Plants and Animals**:\n",
      "  * Total Questions Answered: 3\n",
      "  * Correct Answers: 1\n",
      "  * Incorrect Answers: 2\n",
      "  * Accuracy Percentage: 33.33%\n",
      "* **Cell Division**:\n",
      "  * Total Questions Answered: 1\n",
      "  * Correct Answers: 1\n",
      "  * Incorrect Answers: 0\n",
      "  * Accuracy Percentage: 100%\n",
      "\n",
      "**Topic-wise Breakdown within Chapters**\n",
      "\n",
      "* **Reproduction**:\n",
      "  * Subtopic: Male Reproductive System\n",
      "    - Questions Attempted: 2\n",
      "    * Correct Answers: 1\n",
      "    * Incorrect Answers: 1\n",
      "    * Accuracy Percentage: 50%\n",
      "  * Subtopic: Female Reproductive System\n",
      "    - Questions Attempted: 1\n",
      "    * Correct Answers: 0\n",
      "    * Incorrect Answers: 1\n",
      "    * Accuracy Percentage: 0%\n",
      "  * Subtopic: Embryonic Development\n",
      "    - Questions Attempted: 1\n",
      "    * Correct Answers: 0\n",
      "    * Incorrect Answers: 1\n",
      "    * Accuracy Percentage: 0%\n",
      "* **Genetics and Evolution**:\n",
      "  * Subtopic: Mendelian Genetics\n",
      "    - Questions Attempted: 2\n",
      "    * Correct Answers: 1\n",
      "    * Incorrect Answers: 1\n",
      "    * Accuracy Percentage: 50%\n",
      "  * Subtopic: Evolution\n",
      "    - Questions Attempted: 2\n",
      "    * Correct Answers: 1\n",
      "    * Incorrect Answers: 1\n",
      "    * Accuracy Percentage: 50%\n",
      "  * Subtopic: Phylogeny\n",
      "    - Questions Attempted: 1\n",
      "    * Correct Answers: 0\n",
      "    * Incorrect Answers: 1\n",
      "    * Accuracy Percentage: 0%\n",
      "* **Diversity in Living World**:\n",
      "  * Subtopic: Biodiversity\n",
      "    - Questions Attempted: 2\n",
      "    * Correct Answers: 1\n",
      "    * Incorrect Answers: 1\n",
      "    * Accuracy Percentage: 50%\n",
      "  * Subtopic: Classification\n",
      "    - Questions Attempted: 1\n",
      "    * Correct Answers: 0\n",
      "    * Incorrect Answers: 1\n",
      "    * Accuracy Percentage: 0%\n",
      "  * Subtopic: Ecosystems\n",
      "    - Questions Attempted: 1\n",
      "    * Correct Answers: 0\n",
      "    * Incorrect Answers: 1\n",
      "    * Accuracy Percentage: 0%\n",
      "* **Plant Physiology**:\n",
      "  * Subtopic: Photosynthesis\n",
      "    - Questions Attempted: 1\n",
      "    * Correct Answers: 0\n",
      "    * Incorrect Answers: 1\n",
      "    * Accuracy Percentage: 0%\n",
      "  * Subtopic: Respiration\n",
      "    - Questions Attempted: 1\n",
      "    * Correct Answers: 1\n",
      "    * Incorrect Answers: 0\n",
      "    * Accuracy Percentage: 100%\n",
      "\n",
      "**Actionable Suggestions for Improvement**\n",
      "\n",
      "* **Reproduction**:\n",
      "  * Review embryonic development and reproductive systems.\n",
      "  * Practice questions on male and female reproductive systems.\n",
      "* **Genetics and Evolution**:\n",
      "  * Review Mendelian genetics and practice problems.\n",
      "  * Focus on understanding evolutionary concepts and mechanisms.\n",
      "* **Diversity in Living World**:\n",
      "  * Review and practice questions related to ecosystems and conservation biology.\n",
      "  * Focus on understanding classification and biodiversity concepts.\n",
      "* **Plant Physiology**:\n",
      "  * Review photosynthesis and respiration processes.\n",
      "  * Practice questions related to plant physiology.\n",
      "\n",
      "**Progress Comparison**\n",
      "\n",
      "* **Overall Accuracy**:\n",
      "  * Previous: 37.93%\n",
      "  * Current: 33.33%\n",
      "  * Change: -4.6% (Decline)\n",
      "\n",
      "**Overall Summary and Motivational Message**\n",
      "\n",
      "You have attempted 30 questions and scored 33.33% accuracy. You have shown strength in cell structure and function but need to improve in reproduction, genetics, evolution, and other areas. Review the suggested topics and practice questions to improve your performance. Don't be discouraged by the decline in accuracy; keep working hard, and you will see improvement in your future attempts. Good luck!\n"
     ]
    }
   ],
   "source": [
    "print(report)"
   ]
  },
  {
   "cell_type": "markdown",
   "metadata": {},
   "source": [
    "# Initialize the LlamaParse"
   ]
  },
  {
   "cell_type": "code",
   "execution_count": 186,
   "metadata": {},
   "outputs": [],
   "source": [
    "llm = ChatNVIDIA(model=\"nvidia/usdcode-llama3-70b-instruct\")"
   ]
  },
  {
   "cell_type": "code",
   "execution_count": 189,
   "metadata": {},
   "outputs": [],
   "source": [
    "# Load environment variables\n",
    "nvidia_api_key = \"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\"\n",
    "tavily_api_key = \"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\"\n",
    "langchain_api_key = \"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\"\n",
    "\n",
    "os.environ[\"NVIDIA_API_KEY\"] = nvidia_api_key\n",
    "os.environ[\"TAVILY_API_KEY\"] = tavily_api_key\n",
    "os.environ[\"LANGCHAIN_API_KEY\"] = langchain_api_key"
   ]
  },
  {
   "cell_type": "code",
   "execution_count": 149,
   "metadata": {},
   "outputs": [],
   "source": [
    "with open(\"/hackathon_teams/hack_team_11/workspace/Nvidia_nim_hackathon/backend/base/report.txt\",\"r\") as f:\n",
    "    report=f.read()"
   ]
  },
  {
   "cell_type": "code",
   "execution_count": 150,
   "metadata": {},
   "outputs": [
    {
     "name": "stdout",
     "output_type": "stream",
     "text": [
      "  Previous Accuracy (%) Current Accuracy (%)   Change\n",
      "0                    20                16.67  Decline\n"
     ]
    }
   ],
   "source": [
    "import re\n",
    "import pandas as pd\n",
    "\n",
    "def progress_compare(report):\n",
    "    # Regex pattern to match the data for progress comparison\n",
    "    pattern = r\"\\*\\*Overall Accuracy\\*\\*:\\n\\s+\\*\\s+Previous:\\s+([\\d.]+)%\\n\\s+\\*\\s+Current:\\s+([\\d.]+)%\\n\\s+\\*\\s+Change:\\s+(\\w+)\"\n",
    "    match = re.search(pattern, report)\n",
    "    \n",
    "    if match:\n",
    "        # Extract the matched groups\n",
    "        previous_accuracy = match.group(1)\n",
    "        current_accuracy = match.group(2)\n",
    "        change = match.group(3)\n",
    "        \n",
    "        # Create a DataFrame\n",
    "        data = {\n",
    "            'Previous Accuracy (%)': [previous_accuracy],\n",
    "            'Current Accuracy (%)': [current_accuracy],\n",
    "            'Change': [change]\n",
    "        }\n",
    "        df = pd.DataFrame(data)\n",
    "        return df\n",
    "    else:\n",
    "        print(\"No match found.\")\n",
    "        return pd.DataFrame()  # Return an empty DataFrame if no match is found\n",
    "\n",
    "\n",
    "df = progress_compare(report)\n",
    "print(df)\n"
   ]
  },
  {
   "cell_type": "code",
   "execution_count": null,
   "metadata": {},
   "outputs": [],
   "source": [
    "#Convert the accuracy values to float for plotting\n",
    "df['Previous Accuracy (%)'] = df['Previous Accuracy (%)'].astype(float)\n",
    "df['Current Accuracy (%)'] = df['Current Accuracy (%)'].astype(float)\n",
    "\n",
    "# Plotting\n",
    "plt.figure(figsize=(8, 5))\n",
    "\n",
    "# Bar plot for accuracies\n",
    "bar_labels = df.columns[:-1]  # Exclude 'Change' column for bar labels\n",
    "bar_values = df.iloc[0, :-1].values  # Exclude 'Change' column values\n",
    "\n",
    "plt.bar(bar_labels, bar_values, color=['blue', 'orange'], alpha=0.7, label='Accuracy')\n",
    "\n",
    "# Line plot for trend\n",
    "plt.plot(bar_labels, bar_values, color='red', marker='o', linestyle='-', linewidth=2, label='Accuracy Trend')\n",
    "\n",
    "# Adding labels and title\n",
    "plt.ylabel('Percentage (%)')\n",
    "plt.title('Accuracy Comparison with Trend Line')\n",
    "plt.ylim(0, 100)  # Set y-axis limit for better visualization\n",
    "plt.axhline(0, color='black', linewidth=0.8)  # Optional: Add horizontal line at y=0\n",
    "plt.legend()\n",
    "\n",
    "# Display the values on top of the bars\n",
    "for index, value in enumerate(bar_values):\n",
    "    plt.text(index, value + 1, f'{value}', ha='center')\n",
    "\n",
    "# Show the plot\n",
    "plt.tight_layout()\n",
    "plt.show()"
   ]
  },
  {
   "cell_type": "code",
   "execution_count": null,
   "metadata": {},
   "outputs": [],
   "source": []
  },
  {
   "cell_type": "code",
   "execution_count": 26,
   "metadata": {},
   "outputs": [],
   "source": [
    "import pandas as pd\n",
    "import re\n",
    "\n",
    "# Define the function to extract chapter data\n",
    "def extract_chapter_data(text):\n",
    "    chapter_pattern = re.compile(\n",
    "        r\"\\*\\*\\s*([^*]+)\\s*\\*\\*:\\s*\"\n",
    "        r\"\\* Total Questions Answered:\\s*(\\d+)\\s*\"\n",
    "        r\"\\* Correct Answers:\\s*(\\d+)\\s*\"\n",
    "        r\"\\* Incorrect Answers:\\s*(\\d+)\\s*\"\n",
    "        r\"\\* Accuracy Percentage:\\s*([\\d.]+)%\", re.MULTILINE\n",
    "    )\n",
    "    \n",
    "    chapters = []\n",
    "    \n",
    "    for match in chapter_pattern.finditer(text):\n",
    "        chapter_name = match.group(1).strip()\n",
    "        total_questions = int(match.group(2))\n",
    "        correct_answers = int(match.group(3))\n",
    "        incorrect_answers = int(match.group(4))\n",
    "        accuracy_percentage = float(match.group(5))\n",
    "        \n",
    "        chapters.append({\n",
    "            \"Chapter\": chapter_name,\n",
    "            \"Total Questions\": total_questions,\n",
    "            \"Correct Answers\": correct_answers,\n",
    "            \"Incorrect Answers\": incorrect_answers,\n",
    "            \"Accuracy Percentage\": accuracy_percentage\n",
    "        })\n",
    "    \n",
    "    return chapters\n",
    "\n",
    "\n",
    "# Extract chapter data\n",
    "chapter_data = extract_chapter_data(report)\n",
    "\n",
    "df = pd.DataFrame(chapter_data)\n",
    "\n",
    "\n"
   ]
  },
  {
   "cell_type": "code",
   "execution_count": 31,
   "metadata": {},
   "outputs": [
    {
     "name": "stdout",
     "output_type": "stream",
     "text": [
      "Bar plot saved successfully at: /hackathon_teams/hack_team_11/workspace/Nvidia_nim_hackathon/frontend/myapp/src/graphs/chapter_wise_analysis.png\n"
     ]
    }
   ],
   "source": [
    "import re\n",
    "import pandas as pd\n",
    "import plotly.express as px\n",
    "\n",
    "path = \"/hackathon_teams/hack_team_11/workspace/Nvidia_nim_hackathon/frontend/myapp/src/graphs\"\n",
    "\n",
    "# Extract chapter data from the report\n",
    "chapter_data = extract_chapter_data(report)\n",
    "\n",
    "# Convert the chapter data into a DataFrame\n",
    "df_chapter_wise = pd.DataFrame(chapter_data)\n",
    "\n",
    "# Reshape the DataFrame for Plotly\n",
    "df_long = df_chapter_wise.melt(\n",
    "    id_vars='Chapter', \n",
    "    value_vars=['Total Questions', 'Correct Answers', 'Incorrect Answers'], \n",
    "    var_name='Answer Type', \n",
    "    value_name='Count'\n",
    ")\n",
    "\n",
    "# Create a bar plot using Plotly\n",
    "fig = px.bar(\n",
    "    df_long, \n",
    "    x='Chapter', \n",
    "    y='Count', \n",
    "    color='Answer Type', \n",
    "    barmode='group',  # Side-by-side bars for each \"Answer Type\"\n",
    "    title='Chapter-wise Question Analysis',\n",
    "    color_discrete_sequence=px.colors.sequential.Viridis\n",
    ")\n",
    "\n",
    "# Customize the plot (add labels, rotate x-axis for readability)\n",
    "fig.update_layout(\n",
    "    xaxis_title='Chapter', \n",
    "    yaxis_title='Number of Questions',\n",
    "    title_font_size=16,\n",
    "    xaxis_tickangle=-90  # Rotate x-axis labels\n",
    ")\n",
    "\n",
    "# Define the file path for saving the bar plot\n",
    "chapter_wise_plot_path = os.path.join(path, \"chapter_wise_analysis.png\")\n",
    "\n",
    "# Save the bar plot as an image\n",
    "fig.write_image(chapter_wise_plot_path)\n",
    "\n",
    "print(f\"Bar plot saved successfully at: {chapter_wise_plot_path}\")\n"
   ]
  },
  {
   "cell_type": "code",
   "execution_count": 28,
   "metadata": {},
   "outputs": [
    {
     "data": {
      "image/png": "[encoded data removed]",
      "text/plain": [
       "<Figure size 1200x600 with 1 Axes>"
      ]
     },
     "metadata": {},
     "output_type": "display_data"
    }
   ],
   "source": [
    "# Reshape the DataFrame for plotting\n",
    "df_long = df.melt(id_vars='Chapter', value_vars=['Total Questions', 'Correct Answers', 'Incorrect Answers'],\n",
    "                  var_name='Answer Type', value_name='Count')\n",
    "\n",
    "# Set the aesthetics for the plot\n",
    "sns.set(style=\"whitegrid\")\n",
    "\n",
    "# Create a bar plot with Seaborn\n",
    "plt.figure(figsize=(12, 6))  # Set the figure size\n",
    "bar_plot = sns.barplot(data=df_long, x='Chapter', y='Count', hue='Answer Type', palette='viridis')\n",
    "\n",
    "# Add labels and title\n",
    "plt.title('Chapter-wise Question Analysis', fontsize=16)\n",
    "plt.xlabel('Chapter', fontsize=14)\n",
    "plt.ylabel('Number of Questions', fontsize=14)\n",
    "plt.xticks(rotation=90)  # Rotate x labels for better visibility\n",
    "plt.legend(title='Answer Type', fontsize=12)\n",
    "\n",
    "# Adding data labels on top of the bars\n",
    "for p in bar_plot.patches:\n",
    "    bar_plot.annotate(f'{p.get_height()}', (p.get_x() + p.get_width() / 2., p.get_height()),\n",
    "                      ha='center', va='bottom', fontsize=10, color='black', xytext=(0, 5), textcoords='offset points')\n",
    "\n",
    "plt.tight_layout()  # Adjust layout to prevent clipping\n",
    "plt.show()"
   ]
  },
  {
   "cell_type": "code",
   "execution_count": 193,
   "metadata": {},
   "outputs": [
    {
     "data": {
      "application/vnd.plotly.v1+json": {
       "config": {
        "plotlyServerURL": "https://plot.ly"
       },
       "data": [
        {
         "domain": {
          "x": [
           0,
           1
          ],
          "y": [
           0,
           1
          ]
         },
         "hovertemplate": "Answer Type=%{label}<br>Count=%{value}<extra></extra>",
         "labels": [
          "Correct Answers",
          "Incorrect Answers"
         ],
         "legendgroup": "",
         "name": "",
         "showlegend": true,
         "type": "pie",
         "values": [
          7,
          23
         ]
        }
       ],
       "layout": {
        "height": 360,
        "legend": {
         "tracegroupgap": 0
        },
        "piecolorway": [
         "#636EFA",
         "#EF553B",
         "#00CC96",
         "#AB63FA",
         "#FFA15A",
         "#19D3F3",
         "#FF6692",
         "#B6E880",
         "#FF97FF",
         "#FECB52"
        ],
        "template": {
         "data": {
          "bar": [
           {
            "error_x": {
             "color": "#2a3f5f"
            },
            "error_y": {
             "color": "#2a3f5f"
            },
            "marker": {
             "line": {
              "color": "#E5ECF6",
              "width": 0.5
             },
             "pattern": {
              "fillmode": "overlay",
              "size": 10,
              "solidity": 0.2
             }
            },
            "type": "bar"
           }
          ],
          "barpolar": [
           {
            "marker": {
             "line": {
              "color": "#E5ECF6",
              "width": 0.5
             },
             "pattern": {
              "fillmode": "overlay",
              "size": 10,
              "solidity": 0.2
             }
            },
            "type": "barpolar"
           }
          ],
          "carpet": [
           {
            "aaxis": {
             "endlinecolor": "#2a3f5f",
             "gridcolor": "white",
             "linecolor": "white",
             "minorgridcolor": "white",
             "startlinecolor": "#2a3f5f"
            },
            "baxis": {
             "endlinecolor": "#2a3f5f",
             "gridcolor": "white",
             "linecolor": "white",
             "minorgridcolor": "white",
             "startlinecolor": "#2a3f5f"
            },
            "type": "carpet"
           }
          ],
          "choropleth": [
           {
            "colorbar": {
             "outlinewidth": 0,
             "ticks": ""
            },
            "type": "choropleth"
           }
          ],
          "contour": [
           {
            "colorbar": {
             "outlinewidth": 0,
             "ticks": ""
            },
            "colorscale": [
             [
              0,
              "#0d0887"
             ],
             [
              0.1111111111111111,
              "#46039f"
             ],
             [
              0.2222222222222222,
              "#7201a8"
             ],
             [
              0.3333333333333333,
              "#9c179e"
             ],
             [
              0.4444444444444444,
              "#bd3786"
             ],
             [
              0.5555555555555556,
              "#d8576b"
             ],
             [
              0.6666666666666666,
              "#ed7953"
             ],
             [
              0.7777777777777778,
              "#fb9f3a"
             ],
             [
              0.8888888888888888,
              "#fdca26"
             ],
             [
              1,
              "#f0f921"
             ]
            ],
            "type": "contour"
           }
          ],
          "contourcarpet": [
           {
            "colorbar": {
             "outlinewidth": 0,
             "ticks": ""
            },
            "type": "contourcarpet"
           }
          ],
          "heatmap": [
           {
            "colorbar": {
             "outlinewidth": 0,
             "ticks": ""
            },
            "colorscale": [
             [
              0,
              "#0d0887"
             ],
             [
              0.1111111111111111,
              "#46039f"
             ],
             [
              0.2222222222222222,
              "#7201a8"
             ],
             [
              0.3333333333333333,
              "#9c179e"
             ],
             [
              0.4444444444444444,
              "#bd3786"
             ],
             [
              0.5555555555555556,
              "#d8576b"
             ],
             [
              0.6666666666666666,
              "#ed7953"
             ],
             [
              0.7777777777777778,
              "#fb9f3a"
             ],
             [
              0.8888888888888888,
              "#fdca26"
             ],
             [
              1,
              "#f0f921"
             ]
            ],
            "type": "heatmap"
           }
          ],
          "heatmapgl": [
           {
            "colorbar": {
             "outlinewidth": 0,
             "ticks": ""
            },
            "colorscale": [
             [
              0,
              "#0d0887"
             ],
             [
              0.1111111111111111,
              "#46039f"
             ],
             [
              0.2222222222222222,
              "#7201a8"
             ],
             [
              0.3333333333333333,
              "#9c179e"
             ],
             [
              0.4444444444444444,
              "#bd3786"
             ],
             [
              0.5555555555555556,
              "#d8576b"
             ],
             [
              0.6666666666666666,
              "#ed7953"
             ],
             [
              0.7777777777777778,
              "#fb9f3a"
             ],
             [
              0.8888888888888888,
              "#fdca26"
             ],
             [
              1,
              "#f0f921"
             ]
            ],
            "type": "heatmapgl"
           }
          ],
          "histogram": [
           {
            "marker": {
             "pattern": {
              "fillmode": "overlay",
              "size": 10,
              "solidity": 0.2
             }
            },
            "type": "histogram"
           }
          ],
          "histogram2d": [
           {
            "colorbar": {
             "outlinewidth": 0,
             "ticks": ""
            },
            "colorscale": [
             [
              0,
              "#0d0887"
             ],
             [
              0.1111111111111111,
              "#46039f"
             ],
             [
              0.2222222222222222,
              "#7201a8"
             ],
             [
              0.3333333333333333,
              "#9c179e"
             ],
             [
              0.4444444444444444,
              "#bd3786"
             ],
             [
              0.5555555555555556,
              "#d8576b"
             ],
             [
              0.6666666666666666,
              "#ed7953"
             ],
             [
              0.7777777777777778,
              "#fb9f3a"
             ],
             [
              0.8888888888888888,
              "#fdca26"
             ],
             [
              1,
              "#f0f921"
             ]
            ],
            "type": "histogram2d"
           }
          ],
          "histogram2dcontour": [
           {
            "colorbar": {
             "outlinewidth": 0,
             "ticks": ""
            },
            "colorscale": [
             [
              0,
              "#0d0887"
             ],
             [
              0.1111111111111111,
              "#46039f"
             ],
             [
              0.2222222222222222,
              "#7201a8"
             ],
             [
              0.3333333333333333,
              "#9c179e"
             ],
             [
              0.4444444444444444,
              "#bd3786"
             ],
             [
              0.5555555555555556,
              "#d8576b"
             ],
             [
              0.6666666666666666,
              "#ed7953"
             ],
             [
              0.7777777777777778,
              "#fb9f3a"
             ],
             [
              0.8888888888888888,
              "#fdca26"
             ],
             [
              1,
              "#f0f921"
             ]
            ],
            "type": "histogram2dcontour"
           }
          ],
          "mesh3d": [
           {
            "colorbar": {
             "outlinewidth": 0,
             "ticks": ""
            },
            "type": "mesh3d"
           }
          ],
          "parcoords": [
           {
            "line": {
             "colorbar": {
              "outlinewidth": 0,
              "ticks": ""
             }
            },
            "type": "parcoords"
           }
          ],
          "pie": [
           {
            "automargin": true,
            "type": "pie"
           }
          ],
          "scatter": [
           {
            "fillpattern": {
             "fillmode": "overlay",
             "size": 10,
             "solidity": 0.2
            },
            "type": "scatter"
           }
          ],
          "scatter3d": [
           {
            "line": {
             "colorbar": {
              "outlinewidth": 0,
              "ticks": ""
             }
            },
            "marker": {
             "colorbar": {
              "outlinewidth": 0,
              "ticks": ""
             }
            },
            "type": "scatter3d"
           }
          ],
          "scattercarpet": [
           {
            "marker": {
             "colorbar": {
              "outlinewidth": 0,
              "ticks": ""
             }
            },
            "type": "scattercarpet"
           }
          ],
          "scattergeo": [
           {
            "marker": {
             "colorbar": {
              "outlinewidth": 0,
              "ticks": ""
             }
            },
            "type": "scattergeo"
           }
          ],
          "scattergl": [
           {
            "marker": {
             "colorbar": {
              "outlinewidth": 0,
              "ticks": ""
             }
            },
            "type": "scattergl"
           }
          ],
          "scattermapbox": [
           {
            "marker": {
             "colorbar": {
              "outlinewidth": 0,
              "ticks": ""
             }
            },
            "type": "scattermapbox"
           }
          ],
          "scatterpolar": [
           {
            "marker": {
             "colorbar": {
              "outlinewidth": 0,
              "ticks": ""
             }
            },
            "type": "scatterpolar"
           }
          ],
          "scatterpolargl": [
           {
            "marker": {
             "colorbar": {
              "outlinewidth": 0,
              "ticks": ""
             }
            },
            "type": "scatterpolargl"
           }
          ],
          "scatterternary": [
           {
            "marker": {
             "colorbar": {
              "outlinewidth": 0,
              "ticks": ""
             }
            },
            "type": "scatterternary"
           }
          ],
          "surface": [
           {
            "colorbar": {
             "outlinewidth": 0,
             "ticks": ""
            },
            "colorscale": [
             [
              0,
              "#0d0887"
             ],
             [
              0.1111111111111111,
              "#46039f"
             ],
             [
              0.2222222222222222,
              "#7201a8"
             ],
             [
              0.3333333333333333,
              "#9c179e"
             ],
             [
              0.4444444444444444,
              "#bd3786"
             ],
             [
              0.5555555555555556,
              "#d8576b"
             ],
             [
              0.6666666666666666,
              "#ed7953"
             ],
             [
              0.7777777777777778,
              "#fb9f3a"
             ],
             [
              0.8888888888888888,
              "#fdca26"
             ],
             [
              1,
              "#f0f921"
             ]
            ],
            "type": "surface"
           }
          ],
          "table": [
           {
            "cells": {
             "fill": {
              "color": "#EBF0F8"
             },
             "line": {
              "color": "white"
             }
            },
            "header": {
             "fill": {
              "color": "#C8D4E3"
             },
             "line": {
              "color": "white"
             }
            },
            "type": "table"
           }
          ]
         },
         "layout": {
          "annotationdefaults": {
           "arrowcolor": "#2a3f5f",
           "arrowhead": 0,
           "arrowwidth": 1
          },
          "autotypenumbers": "strict",
          "coloraxis": {
           "colorbar": {
            "outlinewidth": 0,
            "ticks": ""
           }
          },
          "colorscale": {
           "diverging": [
            [
             0,
             "#8e0152"
            ],
            [
             0.1,
             "#c51b7d"
            ],
            [
             0.2,
             "#de77ae"
            ],
            [
             0.3,
             "#f1b6da"
            ],
            [
             0.4,
             "#fde0ef"
            ],
            [
             0.5,
             "#f7f7f7"
            ],
            [
             0.6,
             "#e6f5d0"
            ],
            [
             0.7,
             "#b8e186"
            ],
            [
             0.8,
             "#7fbc41"
            ],
            [
             0.9,
             "#4d9221"
            ],
            [
             1,
             "#276419"
            ]
           ],
           "sequential": [
            [
             0,
             "#0d0887"
            ],
            [
             0.1111111111111111,
             "#46039f"
            ],
            [
             0.2222222222222222,
             "#7201a8"
            ],
            [
             0.3333333333333333,
             "#9c179e"
            ],
            [
             0.4444444444444444,
             "#bd3786"
            ],
            [
             0.5555555555555556,
             "#d8576b"
            ],
            [
             0.6666666666666666,
             "#ed7953"
            ],
            [
             0.7777777777777778,
             "#fb9f3a"
            ],
            [
             0.8888888888888888,
             "#fdca26"
            ],
            [
             1,
             "#f0f921"
            ]
           ],
           "sequentialminus": [
            [
             0,
             "#0d0887"
            ],
            [
             0.1111111111111111,
             "#46039f"
            ],
            [
             0.2222222222222222,
             "#7201a8"
            ],
            [
             0.3333333333333333,
             "#9c179e"
            ],
            [
             0.4444444444444444,
             "#bd3786"
            ],
            [
             0.5555555555555556,
             "#d8576b"
            ],
            [
             0.6666666666666666,
             "#ed7953"
            ],
            [
             0.7777777777777778,
             "#fb9f3a"
            ],
            [
             0.8888888888888888,
             "#fdca26"
            ],
            [
             1,
             "#f0f921"
            ]
           ]
          },
          "colorway": [
           "#636efa",
           "#EF553B",
           "#00cc96",
           "#ab63fa",
           "#FFA15A",
           "#19d3f3",
           "#FF6692",
           "#B6E880",
           "#FF97FF",
           "#FECB52"
          ],
          "font": {
           "color": "#2a3f5f"
          },
          "geo": {
           "bgcolor": "white",
           "lakecolor": "white",
           "landcolor": "#E5ECF6",
           "showlakes": true,
           "showland": true,
           "subunitcolor": "white"
          },
          "hoverlabel": {
           "align": "left"
          },
          "hovermode": "closest",
          "mapbox": {
           "style": "light"
          },
          "paper_bgcolor": "white",
          "plot_bgcolor": "#E5ECF6",
          "polar": {
           "angularaxis": {
            "gridcolor": "white",
            "linecolor": "white",
            "ticks": ""
           },
           "bgcolor": "#E5ECF6",
           "radialaxis": {
            "gridcolor": "white",
            "linecolor": "white",
            "ticks": ""
           }
          },
          "scene": {
           "xaxis": {
            "backgroundcolor": "#E5ECF6",
            "gridcolor": "white",
            "gridwidth": 2,
            "linecolor": "white",
            "showbackground": true,
            "ticks": "",
            "zerolinecolor": "white"
           },
           "yaxis": {
            "backgroundcolor": "#E5ECF6",
            "gridcolor": "white",
            "gridwidth": 2,
            "linecolor": "white",
            "showbackground": true,
            "ticks": "",
            "zerolinecolor": "white"
           },
           "zaxis": {
            "backgroundcolor": "#E5ECF6",
            "gridcolor": "white",
            "gridwidth": 2,
            "linecolor": "white",
            "showbackground": true,
            "ticks": "",
            "zerolinecolor": "white"
           }
          },
          "shapedefaults": {
           "line": {
            "color": "#2a3f5f"
           }
          },
          "ternary": {
           "aaxis": {
            "gridcolor": "white",
            "linecolor": "white",
            "ticks": ""
           },
           "baxis": {
            "gridcolor": "white",
            "linecolor": "white",
            "ticks": ""
           },
           "bgcolor": "#E5ECF6",
           "caxis": {
            "gridcolor": "white",
            "linecolor": "white",
            "ticks": ""
           }
          },
          "title": {
           "x": 0.05
          },
          "xaxis": {
           "automargin": true,
           "gridcolor": "white",
           "linecolor": "white",
           "ticks": "",
           "title": {
            "standoff": 15
           },
           "zerolinecolor": "white",
           "zerolinewidth": 2
          },
          "yaxis": {
           "automargin": true,
           "gridcolor": "white",
           "linecolor": "white",
           "ticks": "",
           "title": {
            "standoff": 15
           },
           "zerolinecolor": "white",
           "zerolinewidth": 2
          }
         }
        },
        "title": {
         "text": "Overall Score Distribution"
        }
       }
      },
      "image/png": "[encoded data removed]",
      "text/html": [
       "<div>                            <div id=\"2c40969d-185d-4d60-873d-9fe2585122c0\" class=\"plotly-graph-div\" style=\"height:525px; width:100%;\"></div>            <script type=\"text/javascript\">                require([\"plotly\"], function(Plotly) {                    window.PLOTLYENV=window.PLOTLYENV || {};                                    if (document.getElementById(\"2c40969d-185d-4d60-873d-9fe2585122c0\")) {                    Plotly.newPlot(                        \"2c40969d-185d-4d60-873d-9fe2585122c0\",                        [{\"domain\":{\"x\":[0.0,1.0],\"y\":[0.0,1.0]},\"hovertemplate\":\"Answer Type=%{label}\\u003cbr\\u003eCount=%{value}\\u003cextra\\u003e\\u003c\\u002fextra\\u003e\",\"labels\":[\"Correct Answers\",\"Incorrect Answers\"],\"legendgroup\":\"\",\"name\":\"\",\"showlegend\":true,\"values\":[7,23],\"type\":\"pie\"}],                        {\"template\":{\"data\":{\"histogram2dcontour\":[{\"type\":\"histogram2dcontour\",\"colorbar\":{\"outlinewidth\":0,\"ticks\":\"\"},\"colorscale\":[[0.0,\"#0d0887\"],[0.1111111111111111,\"#46039f\"],[0.2222222222222222,\"#7201a8\"],[0.3333333333333333,\"#9c179e\"],[0.4444444444444444,\"#bd3786\"],[0.5555555555555556,\"#d8576b\"],[0.6666666666666666,\"#ed7953\"],[0.7777777777777778,\"#fb9f3a\"],[0.8888888888888888,\"#fdca26\"],[1.0,\"#f0f921\"]]}],\"choropleth\":[{\"type\":\"choropleth\",\"colorbar\":{\"outlinewidth\":0,\"ticks\":\"\"}}],\"histogram2d\":[{\"type\":\"histogram2d\",\"colorbar\":{\"outlinewidth\":0,\"ticks\":\"\"},\"colorscale\":[[0.0,\"#0d0887\"],[0.1111111111111111,\"#46039f\"],[0.2222222222222222,\"#7201a8\"],[0.3333333333333333,\"#9c179e\"],[0.4444444444444444,\"#bd3786\"],[0.5555555555555556,\"#d8576b\"],[0.6666666666666666,\"#ed7953\"],[0.7777777777777778,\"#fb9f3a\"],[0.8888888888888888,\"#fdca26\"],[1.0,\"#f0f921\"]]}],\"heatmap\":[{\"type\":\"heatmap\",\"colorbar\":{\"outlinewidth\":0,\"ticks\":\"\"},\"colorscale\":[[0.0,\"#0d0887\"],[0.1111111111111111,\"#46039f\"],[0.2222222222222222,\"#7201a8\"],[0.3333333333333333,\"#9c179e\"],[0.4444444444444444,\"#bd3786\"],[0.5555555555555556,\"#d8576b\"],[0.6666666666666666,\"#ed7953\"],[0.7777777777777778,\"#fb9f3a\"],[0.8888888888888888,\"#fdca26\"],[1.0,\"#f0f921\"]]}],\"heatmapgl\":[{\"type\":\"heatmapgl\",\"colorbar\":{\"outlinewidth\":0,\"ticks\":\"\"},\"colorscale\":[[0.0,\"#0d0887\"],[0.1111111111111111,\"#46039f\"],[0.2222222222222222,\"#7201a8\"],[0.3333333333333333,\"#9c179e\"],[0.4444444444444444,\"#bd3786\"],[0.5555555555555556,\"#d8576b\"],[0.6666666666666666,\"#ed7953\"],[0.7777777777777778,\"#fb9f3a\"],[0.8888888888888888,\"#fdca26\"],[1.0,\"#f0f921\"]]}],\"contourcarpet\":[{\"type\":\"contourcarpet\",\"colorbar\":{\"outlinewidth\":0,\"ticks\":\"\"}}],\"contour\":[{\"type\":\"contour\",\"colorbar\":{\"outlinewidth\":0,\"ticks\":\"\"},\"colorscale\":[[0.0,\"#0d0887\"],[0.1111111111111111,\"#46039f\"],[0.2222222222222222,\"#7201a8\"],[0.3333333333333333,\"#9c179e\"],[0.4444444444444444,\"#bd3786\"],[0.5555555555555556,\"#d8576b\"],[0.6666666666666666,\"#ed7953\"],[0.7777777777777778,\"#fb9f3a\"],[0.8888888888888888,\"#fdca26\"],[1.0,\"#f0f921\"]]}],\"surface\":[{\"type\":\"surface\",\"colorbar\":{\"outlinewidth\":0,\"ticks\":\"\"},\"colorscale\":[[0.0,\"#0d0887\"],[0.1111111111111111,\"#46039f\"],[0.2222222222222222,\"#7201a8\"],[0.3333333333333333,\"#9c179e\"],[0.4444444444444444,\"#bd3786\"],[0.5555555555555556,\"#d8576b\"],[0.6666666666666666,\"#ed7953\"],[0.7777777777777778,\"#fb9f3a\"],[0.8888888888888888,\"#fdca26\"],[1.0,\"#f0f921\"]]}],\"mesh3d\":[{\"type\":\"mesh3d\",\"colorbar\":{\"outlinewidth\":0,\"ticks\":\"\"}}],\"scatter\":[{\"fillpattern\":{\"fillmode\":\"overlay\",\"size\":10,\"solidity\":0.2},\"type\":\"scatter\"}],\"parcoords\":[{\"type\":\"parcoords\",\"line\":{\"colorbar\":{\"outlinewidth\":0,\"ticks\":\"\"}}}],\"scatterpolargl\":[{\"type\":\"scatterpolargl\",\"marker\":{\"colorbar\":{\"outlinewidth\":0,\"ticks\":\"\"}}}],\"bar\":[{\"error_x\":{\"color\":\"#2a3f5f\"},\"error_y\":{\"color\":\"#2a3f5f\"},\"marker\":{\"line\":{\"color\":\"#E5ECF6\",\"width\":0.5},\"pattern\":{\"fillmode\":\"overlay\",\"size\":10,\"solidity\":0.2}},\"type\":\"bar\"}],\"scattergeo\":[{\"type\":\"scattergeo\",\"marker\":{\"colorbar\":{\"outlinewidth\":0,\"ticks\":\"\"}}}],\"scatterpolar\":[{\"type\":\"scatterpolar\",\"marker\":{\"colorbar\":{\"outlinewidth\":0,\"ticks\":\"\"}}}],\"histogram\":[{\"marker\":{\"pattern\":{\"fillmode\":\"overlay\",\"size\":10,\"solidity\":0.2}},\"type\":\"histogram\"}],\"scattergl\":[{\"type\":\"scattergl\",\"marker\":{\"colorbar\":{\"outlinewidth\":0,\"ticks\":\"\"}}}],\"scatter3d\":[{\"type\":\"scatter3d\",\"line\":{\"colorbar\":{\"outlinewidth\":0,\"ticks\":\"\"}},\"marker\":{\"colorbar\":{\"outlinewidth\":0,\"ticks\":\"\"}}}],\"scattermapbox\":[{\"type\":\"scattermapbox\",\"marker\":{\"colorbar\":{\"outlinewidth\":0,\"ticks\":\"\"}}}],\"scatterternary\":[{\"type\":\"scatterternary\",\"marker\":{\"colorbar\":{\"outlinewidth\":0,\"ticks\":\"\"}}}],\"scattercarpet\":[{\"type\":\"scattercarpet\",\"marker\":{\"colorbar\":{\"outlinewidth\":0,\"ticks\":\"\"}}}],\"carpet\":[{\"aaxis\":{\"endlinecolor\":\"#2a3f5f\",\"gridcolor\":\"white\",\"linecolor\":\"white\",\"minorgridcolor\":\"white\",\"startlinecolor\":\"#2a3f5f\"},\"baxis\":{\"endlinecolor\":\"#2a3f5f\",\"gridcolor\":\"white\",\"linecolor\":\"white\",\"minorgridcolor\":\"white\",\"startlinecolor\":\"#2a3f5f\"},\"type\":\"carpet\"}],\"table\":[{\"cells\":{\"fill\":{\"color\":\"#EBF0F8\"},\"line\":{\"color\":\"white\"}},\"header\":{\"fill\":{\"color\":\"#C8D4E3\"},\"line\":{\"color\":\"white\"}},\"type\":\"table\"}],\"barpolar\":[{\"marker\":{\"line\":{\"color\":\"#E5ECF6\",\"width\":0.5},\"pattern\":{\"fillmode\":\"overlay\",\"size\":10,\"solidity\":0.2}},\"type\":\"barpolar\"}],\"pie\":[{\"automargin\":true,\"type\":\"pie\"}]},\"layout\":{\"autotypenumbers\":\"strict\",\"colorway\":[\"#636efa\",\"#EF553B\",\"#00cc96\",\"#ab63fa\",\"#FFA15A\",\"#19d3f3\",\"#FF6692\",\"#B6E880\",\"#FF97FF\",\"#FECB52\"],\"font\":{\"color\":\"#2a3f5f\"},\"hovermode\":\"closest\",\"hoverlabel\":{\"align\":\"left\"},\"paper_bgcolor\":\"white\",\"plot_bgcolor\":\"#E5ECF6\",\"polar\":{\"bgcolor\":\"#E5ECF6\",\"angularaxis\":{\"gridcolor\":\"white\",\"linecolor\":\"white\",\"ticks\":\"\"},\"radialaxis\":{\"gridcolor\":\"white\",\"linecolor\":\"white\",\"ticks\":\"\"}},\"ternary\":{\"bgcolor\":\"#E5ECF6\",\"aaxis\":{\"gridcolor\":\"white\",\"linecolor\":\"white\",\"ticks\":\"\"},\"baxis\":{\"gridcolor\":\"white\",\"linecolor\":\"white\",\"ticks\":\"\"},\"caxis\":{\"gridcolor\":\"white\",\"linecolor\":\"white\",\"ticks\":\"\"}},\"coloraxis\":{\"colorbar\":{\"outlinewidth\":0,\"ticks\":\"\"}},\"colorscale\":{\"sequential\":[[0.0,\"#0d0887\"],[0.1111111111111111,\"#46039f\"],[0.2222222222222222,\"#7201a8\"],[0.3333333333333333,\"#9c179e\"],[0.4444444444444444,\"#bd3786\"],[0.5555555555555556,\"#d8576b\"],[0.6666666666666666,\"#ed7953\"],[0.7777777777777778,\"#fb9f3a\"],[0.8888888888888888,\"#fdca26\"],[1.0,\"#f0f921\"]],\"sequentialminus\":[[0.0,\"#0d0887\"],[0.1111111111111111,\"#46039f\"],[0.2222222222222222,\"#7201a8\"],[0.3333333333333333,\"#9c179e\"],[0.4444444444444444,\"#bd3786\"],[0.5555555555555556,\"#d8576b\"],[0.6666666666666666,\"#ed7953\"],[0.7777777777777778,\"#fb9f3a\"],[0.8888888888888888,\"#fdca26\"],[1.0,\"#f0f921\"]],\"diverging\":[[0,\"#8e0152\"],[0.1,\"#c51b7d\"],[0.2,\"#de77ae\"],[0.3,\"#f1b6da\"],[0.4,\"#fde0ef\"],[0.5,\"#f7f7f7\"],[0.6,\"#e6f5d0\"],[0.7,\"#b8e186\"],[0.8,\"#7fbc41\"],[0.9,\"#4d9221\"],[1,\"#276419\"]]},\"xaxis\":{\"gridcolor\":\"white\",\"linecolor\":\"white\",\"ticks\":\"\",\"title\":{\"standoff\":15},\"zerolinecolor\":\"white\",\"automargin\":true,\"zerolinewidth\":2},\"yaxis\":{\"gridcolor\":\"white\",\"linecolor\":\"white\",\"ticks\":\"\",\"title\":{\"standoff\":15},\"zerolinecolor\":\"white\",\"automargin\":true,\"zerolinewidth\":2},\"scene\":{\"xaxis\":{\"backgroundcolor\":\"#E5ECF6\",\"gridcolor\":\"white\",\"linecolor\":\"white\",\"showbackground\":true,\"ticks\":\"\",\"zerolinecolor\":\"white\",\"gridwidth\":2},\"yaxis\":{\"backgroundcolor\":\"#E5ECF6\",\"gridcolor\":\"white\",\"linecolor\":\"white\",\"showbackground\":true,\"ticks\":\"\",\"zerolinecolor\":\"white\",\"gridwidth\":2},\"zaxis\":{\"backgroundcolor\":\"#E5ECF6\",\"gridcolor\":\"white\",\"linecolor\":\"white\",\"showbackground\":true,\"ticks\":\"\",\"zerolinecolor\":\"white\",\"gridwidth\":2}},\"shapedefaults\":{\"line\":{\"color\":\"#2a3f5f\"}},\"annotationdefaults\":{\"arrowcolor\":\"#2a3f5f\",\"arrowhead\":0,\"arrowwidth\":1},\"geo\":{\"bgcolor\":\"white\",\"landcolor\":\"#E5ECF6\",\"subunitcolor\":\"white\",\"showland\":true,\"showlakes\":true,\"lakecolor\":\"white\"},\"title\":{\"x\":0.05},\"mapbox\":{\"style\":\"light\"}}},\"legend\":{\"tracegroupgap\":0},\"title\":{\"text\":\"Overall Score Distribution\"},\"piecolorway\":[\"#636EFA\",\"#EF553B\",\"#00CC96\",\"#AB63FA\",\"#FFA15A\",\"#19D3F3\",\"#FF6692\",\"#B6E880\",\"#FF97FF\",\"#FECB52\"]},                        {\"responsive\": true}                    ).then(function(){\n",
       "                            \n",
       "var gd = document.getElementById('2c40969d-185d-4d60-873d-9fe2585122c0');\n",
       "var x = new MutationObserver(function (mutations, observer) {{\n",
       "        var display = window.getComputedStyle(gd).display;\n",
       "        if (!display || display === 'none') {{\n",
       "            console.log([gd, 'removed!']);\n",
       "            Plotly.purge(gd);\n",
       "            observer.disconnect();\n",
       "        }}\n",
       "}});\n",
       "\n",
       "// Listen for the removal of the full notebook cells\n",
       "var notebookContainer = gd.closest('#notebook-container');\n",
       "if (notebookContainer) {{\n",
       "    x.observe(notebookContainer, {childList: true});\n",
       "}}\n",
       "\n",
       "// Listen for the clearing of the current output cell\n",
       "var outputEl = gd.closest('.output');\n",
       "if (outputEl) {{\n",
       "    x.observe(outputEl, {childList: true});\n",
       "}}\n",
       "\n",
       "                        })                };                });            </script>        </div>"
      ]
     },
     "metadata": {},
     "output_type": "display_data"
    }
   ],
   "source": [
    "import re\n",
    "import pandas as pd\n",
    "import plotly.express as px\n",
    "\n",
    "# Function to extract overall score summary data\n",
    "def extract_overall_score_summary(text):\n",
    "    # Regex pattern to match each line in the Overall Score Summary\n",
    "    summary_pattern = re.search(\n",
    "        r\"\\* Total Questions Answered:\\s*(\\d+)\\s*\"\n",
    "        r\"\\* Total Correct Answers:\\s*(\\d+)\\s*\"\n",
    "        r\"\\* Total Incorrect Answers:\\s*(\\d+)\\s*\"\n",
    "        r\"\\* Overall Accuracy Percentage:\\s*([\\d.]+)%\", text\n",
    "    )\n",
    "\n",
    "    # Check if match is found and extract data\n",
    "    if summary_pattern:\n",
    "        total_questions = int(summary_pattern.group(1))\n",
    "        correct_answers = int(summary_pattern.group(2))\n",
    "        incorrect_answers = int(summary_pattern.group(3))\n",
    "        accuracy_percentage = float(summary_pattern.group(4))\n",
    "        \n",
    "        # Return the data as a dictionary\n",
    "        return {\n",
    "            \"Total Questions Answered\": total_questions,\n",
    "            \"Total Correct Answers\": correct_answers,\n",
    "            \"Total Incorrect Answers\": incorrect_answers,\n",
    "            \"Overall Accuracy Percentage\": accuracy_percentage\n",
    "        }\n",
    "    \n",
    "    return None\n",
    "\n",
    "# Extract overall score summary\n",
    "overall_score_data = extract_overall_score_summary(report)\n",
    "\n",
    "pie_data = pd.DataFrame({\n",
    "    \"Answer Type\": [\"Correct Answers\", \"Incorrect Answers\"],\n",
    "    \"Count\": [overall_score_data[\"Total Correct Answers\"], overall_score_data[\"Total Incorrect Answers\"]]})\n",
    "\n",
    "pie_data\n",
    "\n",
    "fig = px.pie(pie_data, values='Count', names='Answer Type', title='Overall Score Distribution',\n",
    "             color_discrete_sequence=px.colors.qualitative.Plotly)\n",
    "\n",
    "# Display the pie chart\n",
    "fig.show()"
   ]
  },
  {
   "cell_type": "code",
   "execution_count": 194,
   "metadata": {},
   "outputs": [],
   "source": [
    "import re\n",
    "import pandas as pd\n",
    "\n",
    "def extract_topic_data(text):\n",
    "    # Regex pattern to capture topic details\n",
    "    topic_pattern = re.compile(\n",
    "        r\"\\*\\*\\s*([^*]+)\\s*\\*\\*:\\s*(.*?)\\s*(?=\\*\\*|\\Z)\", re.DOTALL\n",
    "    )\n",
    "    \n",
    "    topics = []\n",
    "\n",
    "    for match in topic_pattern.finditer(text):\n",
    "        chapter_name = match.group(1).strip()\n",
    "        subtopics_data = match.group(2).strip()\n",
    "        \n",
    "        # Extract subtopics using another regex\n",
    "        subtopic_pattern = re.compile(\n",
    "            r\"\\*\\s*Subtopic:\\s*([^:]+):?\\s*\"\n",
    "            r\"- Questions Attempted:\\s*(\\d+)\\s*\"\n",
    "            r\"- Correct Answers:\\s*(\\d+)\\s*\"\n",
    "            r\"- Incorrect Answers:\\s*(\\d+)\\s*\"\n",
    "            r\"- Accuracy Percentage:\\s*([\\d.]+)%\"\n",
    "        )\n",
    "        \n",
    "        for submatch in subtopic_pattern.finditer(subtopics_data):\n",
    "            subtopic_name = submatch.group(1).strip()\n",
    "            questions_attempted = int(submatch.group(2))\n",
    "            correct_answers = int(submatch.group(3))\n",
    "            incorrect_answers = int(submatch.group(4))\n",
    "            accuracy_percentage = float(submatch.group(5))\n",
    "            \n",
    "            topics.append({\n",
    "                \"Chapter\": chapter_name,\n",
    "                \"Subtopic\": subtopic_name,\n",
    "                \"Questions Attempted\": questions_attempted,\n",
    "                \"Correct Answers\": correct_answers,\n",
    "                \"Incorrect Answers\": incorrect_answers,\n",
    "                \"Accuracy Percentage\": accuracy_percentage\n",
    "            })\n",
    "\n",
    "    return pd.DataFrame(topics)\n",
    "\n",
    "\n",
    "\n",
    "# Extract topic data\n",
    "topic_df = extract_topic_data(report)\n",
    "\n",
    "\n"
   ]
  },
  {
   "cell_type": "code",
   "execution_count": 195,
   "metadata": {},
   "outputs": [
    {
     "data": {
      "text/html": [
       "<div>\n",
       "<style scoped>\n",
       "    .dataframe tbody tr th:only-of-type {\n",
       "        vertical-align: middle;\n",
       "    }\n",
       "\n",
       "    .dataframe tbody tr th {\n",
       "        vertical-align: top;\n",
       "    }\n",
       "\n",
       "    .dataframe thead th {\n",
       "        text-align: right;\n",
       "    }\n",
       "</style>\n",
       "<table border=\"1\" class=\"dataframe\">\n",
       "  <thead>\n",
       "    <tr style=\"text-align: right;\">\n",
       "      <th></th>\n",
       "      <th>Chapter</th>\n",
       "      <th>Subtopic</th>\n",
       "      <th>Questions Attempted</th>\n",
       "      <th>Correct Answers</th>\n",
       "      <th>Incorrect Answers</th>\n",
       "      <th>Accuracy Percentage</th>\n",
       "    </tr>\n",
       "  </thead>\n",
       "  <tbody>\n",
       "    <tr>\n",
       "      <th>0</th>\n",
       "      <td>Reproduction</td>\n",
       "      <td>Embryonic development</td>\n",
       "      <td>3</td>\n",
       "      <td>0</td>\n",
       "      <td>3</td>\n",
       "      <td>0.00</td>\n",
       "    </tr>\n",
       "    <tr>\n",
       "      <th>1</th>\n",
       "      <td>Reproduction</td>\n",
       "      <td>Reproductive systems</td>\n",
       "      <td>3</td>\n",
       "      <td>1</td>\n",
       "      <td>2</td>\n",
       "      <td>33.33</td>\n",
       "    </tr>\n",
       "    <tr>\n",
       "      <th>2</th>\n",
       "      <td>Reproduction</td>\n",
       "      <td>Meiosis and crossing over</td>\n",
       "      <td>2</td>\n",
       "      <td>1</td>\n",
       "      <td>1</td>\n",
       "      <td>50.00</td>\n",
       "    </tr>\n",
       "    <tr>\n",
       "      <th>3</th>\n",
       "      <td>Diversity in Living World</td>\n",
       "      <td>Classification of living organisms</td>\n",
       "      <td>3</td>\n",
       "      <td>2</td>\n",
       "      <td>1</td>\n",
       "      <td>66.67</td>\n",
       "    </tr>\n",
       "    <tr>\n",
       "      <th>4</th>\n",
       "      <td>Diversity in Living World</td>\n",
       "      <td>Taxonomic categories</td>\n",
       "      <td>2</td>\n",
       "      <td>0</td>\n",
       "      <td>2</td>\n",
       "      <td>0.00</td>\n",
       "    </tr>\n",
       "    <tr>\n",
       "      <th>5</th>\n",
       "      <td>Cell Structure and Function</td>\n",
       "      <td>Cell membrane</td>\n",
       "      <td>1</td>\n",
       "      <td>1</td>\n",
       "      <td>0</td>\n",
       "      <td>100.00</td>\n",
       "    </tr>\n",
       "    <tr>\n",
       "      <th>6</th>\n",
       "      <td>Genetics and Evolution</td>\n",
       "      <td>Mendelian inheritance</td>\n",
       "      <td>1</td>\n",
       "      <td>0</td>\n",
       "      <td>1</td>\n",
       "      <td>0.00</td>\n",
       "    </tr>\n",
       "    <tr>\n",
       "      <th>7</th>\n",
       "      <td>Genetics and Evolution</td>\n",
       "      <td>Evolutionary theories</td>\n",
       "      <td>1</td>\n",
       "      <td>0</td>\n",
       "      <td>1</td>\n",
       "      <td>0.00</td>\n",
       "    </tr>\n",
       "  </tbody>\n",
       "</table>\n",
       "</div>"
      ],
      "text/plain": [
       "                       Chapter                            Subtopic  \\\n",
       "0                 Reproduction               Embryonic development   \n",
       "1                 Reproduction                Reproductive systems   \n",
       "2                 Reproduction           Meiosis and crossing over   \n",
       "3    Diversity in Living World  Classification of living organisms   \n",
       "4    Diversity in Living World                Taxonomic categories   \n",
       "5  Cell Structure and Function                       Cell membrane   \n",
       "6       Genetics and Evolution               Mendelian inheritance   \n",
       "7       Genetics and Evolution               Evolutionary theories   \n",
       "\n",
       "   Questions Attempted  Correct Answers  Incorrect Answers  \\\n",
       "0                    3                0                  3   \n",
       "1                    3                1                  2   \n",
       "2                    2                1                  1   \n",
       "3                    3                2                  1   \n",
       "4                    2                0                  2   \n",
       "5                    1                1                  0   \n",
       "6                    1                0                  1   \n",
       "7                    1                0                  1   \n",
       "\n",
       "   Accuracy Percentage  \n",
       "0                 0.00  \n",
       "1                33.33  \n",
       "2                50.00  \n",
       "3                66.67  \n",
       "4                 0.00  \n",
       "5               100.00  \n",
       "6                 0.00  \n",
       "7                 0.00  "
      ]
     },
     "execution_count": 195,
     "metadata": {},
     "output_type": "execute_result"
    }
   ],
   "source": [
    "topic_df"
   ]
  },
  {
   "cell_type": "code",
   "execution_count": 196,
   "metadata": {},
   "outputs": [
    {
     "data": {
      "application/vnd.plotly.v1+json": {
       "config": {
        "plotlyServerURL": "https://plot.ly"
       },
       "data": [
        {
         "alignmentgroup": "True",
         "hovertemplate": "Answer Type=Questions Attempted<br>Subtopic=%{x}<br>Number of Questions=%{y}<extra></extra>",
         "legendgroup": "Questions Attempted",
         "marker": {
          "color": "#636efa",
          "pattern": {
           "shape": ""
          }
         },
         "name": "Questions Attempted",
         "offsetgroup": "Questions Attempted",
         "orientation": "v",
         "showlegend": true,
         "textposition": "auto",
         "type": "bar",
         "x": [
          "Embryonic development",
          "Reproductive systems",
          "Meiosis and crossing over",
          "Classification of living organisms",
          "Taxonomic categories",
          "Cell membrane",
          "Mendelian inheritance",
          "Evolutionary theories"
         ],
         "xaxis": "x",
         "y": [
          3,
          3,
          2,
          3,
          2,
          1,
          1,
          1
         ],
         "yaxis": "y"
        },
        {
         "alignmentgroup": "True",
         "hovertemplate": "Answer Type=Correct Answers<br>Subtopic=%{x}<br>Number of Questions=%{y}<extra></extra>",
         "legendgroup": "Correct Answers",
         "marker": {
          "color": "#EF553B",
          "pattern": {
           "shape": ""
          }
         },
         "name": "Correct Answers",
         "offsetgroup": "Correct Answers",
         "orientation": "v",
         "showlegend": true,
         "textposition": "auto",
         "type": "bar",
         "x": [
          "Embryonic development",
          "Reproductive systems",
          "Meiosis and crossing over",
          "Classification of living organisms",
          "Taxonomic categories",
          "Cell membrane",
          "Mendelian inheritance",
          "Evolutionary theories"
         ],
         "xaxis": "x",
         "y": [
          0,
          1,
          1,
          2,
          0,
          1,
          0,
          0
         ],
         "yaxis": "y"
        },
        {
         "alignmentgroup": "True",
         "hovertemplate": "Answer Type=Incorrect Answers<br>Subtopic=%{x}<br>Number of Questions=%{y}<extra></extra>",
         "legendgroup": "Incorrect Answers",
         "marker": {
          "color": "#00cc96",
          "pattern": {
           "shape": ""
          }
         },
         "name": "Incorrect Answers",
         "offsetgroup": "Incorrect Answers",
         "orientation": "v",
         "showlegend": true,
         "textposition": "auto",
         "type": "bar",
         "x": [
          "Embryonic development",
          "Reproductive systems",
          "Meiosis and crossing over",
          "Classification of living organisms",
          "Taxonomic categories",
          "Cell membrane",
          "Mendelian inheritance",
          "Evolutionary theories"
         ],
         "xaxis": "x",
         "y": [
          3,
          2,
          1,
          1,
          2,
          0,
          1,
          1
         ],
         "yaxis": "y"
        }
       ],
       "layout": {
        "autosize": true,
        "barmode": "group",
        "legend": {
         "title": {
          "text": "Answer Type"
         },
         "tracegroupgap": 0
        },
        "template": {
         "data": {
          "bar": [
           {
            "error_x": {
             "color": "#2a3f5f"
            },
            "error_y": {
             "color": "#2a3f5f"
            },
            "marker": {
             "line": {
              "color": "#E5ECF6",
              "width": 0.5
             },
             "pattern": {
              "fillmode": "overlay",
              "size": 10,
              "solidity": 0.2
             }
            },
            "type": "bar"
           }
          ],
          "barpolar": [
           {
            "marker": {
             "line": {
              "color": "#E5ECF6",
              "width": 0.5
             },
             "pattern": {
              "fillmode": "overlay",
              "size": 10,
              "solidity": 0.2
             }
            },
            "type": "barpolar"
           }
          ],
          "carpet": [
           {
            "aaxis": {
             "endlinecolor": "#2a3f5f",
             "gridcolor": "white",
             "linecolor": "white",
             "minorgridcolor": "white",
             "startlinecolor": "#2a3f5f"
            },
            "baxis": {
             "endlinecolor": "#2a3f5f",
             "gridcolor": "white",
             "linecolor": "white",
             "minorgridcolor": "white",
             "startlinecolor": "#2a3f5f"
            },
            "type": "carpet"
           }
          ],
          "choropleth": [
           {
            "colorbar": {
             "outlinewidth": 0,
             "ticks": ""
            },
            "type": "choropleth"
           }
          ],
          "contour": [
           {
            "colorbar": {
             "outlinewidth": 0,
             "ticks": ""
            },
            "colorscale": [
             [
              0,
              "#0d0887"
             ],
             [
              0.1111111111111111,
              "#46039f"
             ],
             [
              0.2222222222222222,
              "#7201a8"
             ],
             [
              0.3333333333333333,
              "#9c179e"
             ],
             [
              0.4444444444444444,
              "#bd3786"
             ],
             [
              0.5555555555555556,
              "#d8576b"
             ],
             [
              0.6666666666666666,
              "#ed7953"
             ],
             [
              0.7777777777777778,
              "#fb9f3a"
             ],
             [
              0.8888888888888888,
              "#fdca26"
             ],
             [
              1,
              "#f0f921"
             ]
            ],
            "type": "contour"
           }
          ],
          "contourcarpet": [
           {
            "colorbar": {
             "outlinewidth": 0,
             "ticks": ""
            },
            "type": "contourcarpet"
           }
          ],
          "heatmap": [
           {
            "colorbar": {
             "outlinewidth": 0,
             "ticks": ""
            },
            "colorscale": [
             [
              0,
              "#0d0887"
             ],
             [
              0.1111111111111111,
              "#46039f"
             ],
             [
              0.2222222222222222,
              "#7201a8"
             ],
             [
              0.3333333333333333,
              "#9c179e"
             ],
             [
              0.4444444444444444,
              "#bd3786"
             ],
             [
              0.5555555555555556,
              "#d8576b"
             ],
             [
              0.6666666666666666,
              "#ed7953"
             ],
             [
              0.7777777777777778,
              "#fb9f3a"
             ],
             [
              0.8888888888888888,
              "#fdca26"
             ],
             [
              1,
              "#f0f921"
             ]
            ],
            "type": "heatmap"
           }
          ],
          "heatmapgl": [
           {
            "colorbar": {
             "outlinewidth": 0,
             "ticks": ""
            },
            "colorscale": [
             [
              0,
              "#0d0887"
             ],
             [
              0.1111111111111111,
              "#46039f"
             ],
             [
              0.2222222222222222,
              "#7201a8"
             ],
             [
              0.3333333333333333,
              "#9c179e"
             ],
             [
              0.4444444444444444,
              "#bd3786"
             ],
             [
              0.5555555555555556,
              "#d8576b"
             ],
             [
              0.6666666666666666,
              "#ed7953"
             ],
             [
              0.7777777777777778,
              "#fb9f3a"
             ],
             [
              0.8888888888888888,
              "#fdca26"
             ],
             [
              1,
              "#f0f921"
             ]
            ],
            "type": "heatmapgl"
           }
          ],
          "histogram": [
           {
            "marker": {
             "pattern": {
              "fillmode": "overlay",
              "size": 10,
              "solidity": 0.2
             }
            },
            "type": "histogram"
           }
          ],
          "histogram2d": [
           {
            "colorbar": {
             "outlinewidth": 0,
             "ticks": ""
            },
            "colorscale": [
             [
              0,
              "#0d0887"
             ],
             [
              0.1111111111111111,
              "#46039f"
             ],
             [
              0.2222222222222222,
              "#7201a8"
             ],
             [
              0.3333333333333333,
              "#9c179e"
             ],
             [
              0.4444444444444444,
              "#bd3786"
             ],
             [
              0.5555555555555556,
              "#d8576b"
             ],
             [
              0.6666666666666666,
              "#ed7953"
             ],
             [
              0.7777777777777778,
              "#fb9f3a"
             ],
             [
              0.8888888888888888,
              "#fdca26"
             ],
             [
              1,
              "#f0f921"
             ]
            ],
            "type": "histogram2d"
           }
          ],
          "histogram2dcontour": [
           {
            "colorbar": {
             "outlinewidth": 0,
             "ticks": ""
            },
            "colorscale": [
             [
              0,
              "#0d0887"
             ],
             [
              0.1111111111111111,
              "#46039f"
             ],
             [
              0.2222222222222222,
              "#7201a8"
             ],
             [
              0.3333333333333333,
              "#9c179e"
             ],
             [
              0.4444444444444444,
              "#bd3786"
             ],
             [
              0.5555555555555556,
              "#d8576b"
             ],
             [
              0.6666666666666666,
              "#ed7953"
             ],
             [
              0.7777777777777778,
              "#fb9f3a"
             ],
             [
              0.8888888888888888,
              "#fdca26"
             ],
             [
              1,
              "#f0f921"
             ]
            ],
            "type": "histogram2dcontour"
           }
          ],
          "mesh3d": [
           {
            "colorbar": {
             "outlinewidth": 0,
             "ticks": ""
            },
            "type": "mesh3d"
           }
          ],
          "parcoords": [
           {
            "line": {
             "colorbar": {
              "outlinewidth": 0,
              "ticks": ""
             }
            },
            "type": "parcoords"
           }
          ],
          "pie": [
           {
            "automargin": true,
            "type": "pie"
           }
          ],
          "scatter": [
           {
            "fillpattern": {
             "fillmode": "overlay",
             "size": 10,
             "solidity": 0.2
            },
            "type": "scatter"
           }
          ],
          "scatter3d": [
           {
            "line": {
             "colorbar": {
              "outlinewidth": 0,
              "ticks": ""
             }
            },
            "marker": {
             "colorbar": {
              "outlinewidth": 0,
              "ticks": ""
             }
            },
            "type": "scatter3d"
           }
          ],
          "scattercarpet": [
           {
            "marker": {
             "colorbar": {
              "outlinewidth": 0,
              "ticks": ""
             }
            },
            "type": "scattercarpet"
           }
          ],
          "scattergeo": [
           {
            "marker": {
             "colorbar": {
              "outlinewidth": 0,
              "ticks": ""
             }
            },
            "type": "scattergeo"
           }
          ],
          "scattergl": [
           {
            "marker": {
             "colorbar": {
              "outlinewidth": 0,
              "ticks": ""
             }
            },
            "type": "scattergl"
           }
          ],
          "scattermapbox": [
           {
            "marker": {
             "colorbar": {
              "outlinewidth": 0,
              "ticks": ""
             }
            },
            "type": "scattermapbox"
           }
          ],
          "scatterpolar": [
           {
            "marker": {
             "colorbar": {
              "outlinewidth": 0,
              "ticks": ""
             }
            },
            "type": "scatterpolar"
           }
          ],
          "scatterpolargl": [
           {
            "marker": {
             "colorbar": {
              "outlinewidth": 0,
              "ticks": ""
             }
            },
            "type": "scatterpolargl"
           }
          ],
          "scatterternary": [
           {
            "marker": {
             "colorbar": {
              "outlinewidth": 0,
              "ticks": ""
             }
            },
            "type": "scatterternary"
           }
          ],
          "surface": [
           {
            "colorbar": {
             "outlinewidth": 0,
             "ticks": ""
            },
            "colorscale": [
             [
              0,
              "#0d0887"
             ],
             [
              0.1111111111111111,
              "#46039f"
             ],
             [
              0.2222222222222222,
              "#7201a8"
             ],
             [
              0.3333333333333333,
              "#9c179e"
             ],
             [
              0.4444444444444444,
              "#bd3786"
             ],
             [
              0.5555555555555556,
              "#d8576b"
             ],
             [
              0.6666666666666666,
              "#ed7953"
             ],
             [
              0.7777777777777778,
              "#fb9f3a"
             ],
             [
              0.8888888888888888,
              "#fdca26"
             ],
             [
              1,
              "#f0f921"
             ]
            ],
            "type": "surface"
           }
          ],
          "table": [
           {
            "cells": {
             "fill": {
              "color": "#EBF0F8"
             },
             "line": {
              "color": "white"
             }
            },
            "header": {
             "fill": {
              "color": "#C8D4E3"
             },
             "line": {
              "color": "white"
             }
            },
            "type": "table"
           }
          ]
         },
         "layout": {
          "annotationdefaults": {
           "arrowcolor": "#2a3f5f",
           "arrowhead": 0,
           "arrowwidth": 1
          },
          "autotypenumbers": "strict",
          "coloraxis": {
           "colorbar": {
            "outlinewidth": 0,
            "ticks": ""
           }
          },
          "colorscale": {
           "diverging": [
            [
             0,
             "#8e0152"
            ],
            [
             0.1,
             "#c51b7d"
            ],
            [
             0.2,
             "#de77ae"
            ],
            [
             0.3,
             "#f1b6da"
            ],
            [
             0.4,
             "#fde0ef"
            ],
            [
             0.5,
             "#f7f7f7"
            ],
            [
             0.6,
             "#e6f5d0"
            ],
            [
             0.7,
             "#b8e186"
            ],
            [
             0.8,
             "#7fbc41"
            ],
            [
             0.9,
             "#4d9221"
            ],
            [
             1,
             "#276419"
            ]
           ],
           "sequential": [
            [
             0,
             "#0d0887"
            ],
            [
             0.1111111111111111,
             "#46039f"
            ],
            [
             0.2222222222222222,
             "#7201a8"
            ],
            [
             0.3333333333333333,
             "#9c179e"
            ],
            [
             0.4444444444444444,
             "#bd3786"
            ],
            [
             0.5555555555555556,
             "#d8576b"
            ],
            [
             0.6666666666666666,
             "#ed7953"
            ],
            [
             0.7777777777777778,
             "#fb9f3a"
            ],
            [
             0.8888888888888888,
             "#fdca26"
            ],
            [
             1,
             "#f0f921"
            ]
           ],
           "sequentialminus": [
            [
             0,
             "#0d0887"
            ],
            [
             0.1111111111111111,
             "#46039f"
            ],
            [
             0.2222222222222222,
             "#7201a8"
            ],
            [
             0.3333333333333333,
             "#9c179e"
            ],
            [
             0.4444444444444444,
             "#bd3786"
            ],
            [
             0.5555555555555556,
             "#d8576b"
            ],
            [
             0.6666666666666666,
             "#ed7953"
            ],
            [
             0.7777777777777778,
             "#fb9f3a"
            ],
            [
             0.8888888888888888,
             "#fdca26"
            ],
            [
             1,
             "#f0f921"
            ]
           ]
          },
          "colorway": [
           "#636efa",
           "#EF553B",
           "#00cc96",
           "#ab63fa",
           "#FFA15A",
           "#19d3f3",
           "#FF6692",
           "#B6E880",
           "#FF97FF",
           "#FECB52"
          ],
          "font": {
           "color": "#2a3f5f"
          },
          "geo": {
           "bgcolor": "white",
           "lakecolor": "white",
           "landcolor": "#E5ECF6",
           "showlakes": true,
           "showland": true,
           "subunitcolor": "white"
          },
          "hoverlabel": {
           "align": "left"
          },
          "hovermode": "closest",
          "mapbox": {
           "style": "light"
          },
          "paper_bgcolor": "white",
          "plot_bgcolor": "#E5ECF6",
          "polar": {
           "angularaxis": {
            "gridcolor": "white",
            "linecolor": "white",
            "ticks": ""
           },
           "bgcolor": "#E5ECF6",
           "radialaxis": {
            "gridcolor": "white",
            "linecolor": "white",
            "ticks": ""
           }
          },
          "scene": {
           "xaxis": {
            "backgroundcolor": "#E5ECF6",
            "gridcolor": "white",
            "gridwidth": 2,
            "linecolor": "white",
            "showbackground": true,
            "ticks": "",
            "zerolinecolor": "white"
           },
           "yaxis": {
            "backgroundcolor": "#E5ECF6",
            "gridcolor": "white",
            "gridwidth": 2,
            "linecolor": "white",
            "showbackground": true,
            "ticks": "",
            "zerolinecolor": "white"
           },
           "zaxis": {
            "backgroundcolor": "#E5ECF6",
            "gridcolor": "white",
            "gridwidth": 2,
            "linecolor": "white",
            "showbackground": true,
            "ticks": "",
            "zerolinecolor": "white"
           }
          },
          "shapedefaults": {
           "line": {
            "color": "#2a3f5f"
           }
          },
          "ternary": {
           "aaxis": {
            "gridcolor": "white",
            "linecolor": "white",
            "ticks": ""
           },
           "baxis": {
            "gridcolor": "white",
            "linecolor": "white",
            "ticks": ""
           },
           "bgcolor": "#E5ECF6",
           "caxis": {
            "gridcolor": "white",
            "linecolor": "white",
            "ticks": ""
           }
          },
          "title": {
           "x": 0.05
          },
          "xaxis": {
           "automargin": true,
           "gridcolor": "white",
           "linecolor": "white",
           "ticks": "",
           "title": {
            "standoff": 15
           },
           "zerolinecolor": "white",
           "zerolinewidth": 2
          },
          "yaxis": {
           "automargin": true,
           "gridcolor": "white",
           "linecolor": "white",
           "ticks": "",
           "title": {
            "standoff": 15
           },
           "zerolinecolor": "white",
           "zerolinewidth": 2
          }
         }
        },
        "title": {
         "text": "Topic-wise Breakdown of Questions"
        },
        "xaxis": {
         "anchor": "y",
         "autorange": true,
         "domain": [
          0,
          1
         ],
         "range": [
          -0.5,
          7.5
         ],
         "tickangle": -45,
         "title": {
          "text": "Subtopic-wise analysis"
         },
         "type": "category"
        },
        "yaxis": {
         "anchor": "x",
         "autorange": true,
         "domain": [
          0,
          1
         ],
         "range": [
          0,
          3.1578947368421053
         ],
         "title": {
          "text": "Number of Questions"
         },
         "type": "linear"
        }
       }
      },
      "image/png": "[encoded data removed]",
      "text/html": [
       "<div>                            <div id=\"fe7ad1cf-7c58-4496-b360-6ce4182257df\" class=\"plotly-graph-div\" style=\"height:600px; width:100%;\"></div>            <script type=\"text/javascript\">                require([\"plotly\"], function(Plotly) {                    window.PLOTLYENV=window.PLOTLYENV || {};                                    if (document.getElementById(\"fe7ad1cf-7c58-4496-b360-6ce4182257df\")) {                    Plotly.newPlot(                        \"fe7ad1cf-7c58-4496-b360-6ce4182257df\",                        [{\"alignmentgroup\":\"True\",\"hovertemplate\":\"Answer Type=Questions Attempted\\u003cbr\\u003eSubtopic=%{x}\\u003cbr\\u003eNumber of Questions=%{y}\\u003cextra\\u003e\\u003c\\u002fextra\\u003e\",\"legendgroup\":\"Questions Attempted\",\"marker\":{\"color\":\"#636efa\",\"pattern\":{\"shape\":\"\"}},\"name\":\"Questions Attempted\",\"offsetgroup\":\"Questions Attempted\",\"orientation\":\"v\",\"showlegend\":true,\"textposition\":\"auto\",\"x\":[\"Embryonic development\",\"Reproductive systems\",\"Meiosis and crossing over\",\"Classification of living organisms\",\"Taxonomic categories\",\"Cell membrane\",\"Mendelian inheritance\",\"Evolutionary theories\"],\"xaxis\":\"x\",\"y\":[3,3,2,3,2,1,1,1],\"yaxis\":\"y\",\"type\":\"bar\"},{\"alignmentgroup\":\"True\",\"hovertemplate\":\"Answer Type=Correct Answers\\u003cbr\\u003eSubtopic=%{x}\\u003cbr\\u003eNumber of Questions=%{y}\\u003cextra\\u003e\\u003c\\u002fextra\\u003e\",\"legendgroup\":\"Correct Answers\",\"marker\":{\"color\":\"#EF553B\",\"pattern\":{\"shape\":\"\"}},\"name\":\"Correct Answers\",\"offsetgroup\":\"Correct Answers\",\"orientation\":\"v\",\"showlegend\":true,\"textposition\":\"auto\",\"x\":[\"Embryonic development\",\"Reproductive systems\",\"Meiosis and crossing over\",\"Classification of living organisms\",\"Taxonomic categories\",\"Cell membrane\",\"Mendelian inheritance\",\"Evolutionary theories\"],\"xaxis\":\"x\",\"y\":[0,1,1,2,0,1,0,0],\"yaxis\":\"y\",\"type\":\"bar\"},{\"alignmentgroup\":\"True\",\"hovertemplate\":\"Answer Type=Incorrect Answers\\u003cbr\\u003eSubtopic=%{x}\\u003cbr\\u003eNumber of Questions=%{y}\\u003cextra\\u003e\\u003c\\u002fextra\\u003e\",\"legendgroup\":\"Incorrect Answers\",\"marker\":{\"color\":\"#00cc96\",\"pattern\":{\"shape\":\"\"}},\"name\":\"Incorrect Answers\",\"offsetgroup\":\"Incorrect Answers\",\"orientation\":\"v\",\"showlegend\":true,\"textposition\":\"auto\",\"x\":[\"Embryonic development\",\"Reproductive systems\",\"Meiosis and crossing over\",\"Classification of living organisms\",\"Taxonomic categories\",\"Cell membrane\",\"Mendelian inheritance\",\"Evolutionary theories\"],\"xaxis\":\"x\",\"y\":[3,2,1,1,2,0,1,1],\"yaxis\":\"y\",\"type\":\"bar\"}],                        {\"template\":{\"data\":{\"histogram2dcontour\":[{\"type\":\"histogram2dcontour\",\"colorbar\":{\"outlinewidth\":0,\"ticks\":\"\"},\"colorscale\":[[0.0,\"#0d0887\"],[0.1111111111111111,\"#46039f\"],[0.2222222222222222,\"#7201a8\"],[0.3333333333333333,\"#9c179e\"],[0.4444444444444444,\"#bd3786\"],[0.5555555555555556,\"#d8576b\"],[0.6666666666666666,\"#ed7953\"],[0.7777777777777778,\"#fb9f3a\"],[0.8888888888888888,\"#fdca26\"],[1.0,\"#f0f921\"]]}],\"choropleth\":[{\"type\":\"choropleth\",\"colorbar\":{\"outlinewidth\":0,\"ticks\":\"\"}}],\"histogram2d\":[{\"type\":\"histogram2d\",\"colorbar\":{\"outlinewidth\":0,\"ticks\":\"\"},\"colorscale\":[[0.0,\"#0d0887\"],[0.1111111111111111,\"#46039f\"],[0.2222222222222222,\"#7201a8\"],[0.3333333333333333,\"#9c179e\"],[0.4444444444444444,\"#bd3786\"],[0.5555555555555556,\"#d8576b\"],[0.6666666666666666,\"#ed7953\"],[0.7777777777777778,\"#fb9f3a\"],[0.8888888888888888,\"#fdca26\"],[1.0,\"#f0f921\"]]}],\"heatmap\":[{\"type\":\"heatmap\",\"colorbar\":{\"outlinewidth\":0,\"ticks\":\"\"},\"colorscale\":[[0.0,\"#0d0887\"],[0.1111111111111111,\"#46039f\"],[0.2222222222222222,\"#7201a8\"],[0.3333333333333333,\"#9c179e\"],[0.4444444444444444,\"#bd3786\"],[0.5555555555555556,\"#d8576b\"],[0.6666666666666666,\"#ed7953\"],[0.7777777777777778,\"#fb9f3a\"],[0.8888888888888888,\"#fdca26\"],[1.0,\"#f0f921\"]]}],\"heatmapgl\":[{\"type\":\"heatmapgl\",\"colorbar\":{\"outlinewidth\":0,\"ticks\":\"\"},\"colorscale\":[[0.0,\"#0d0887\"],[0.1111111111111111,\"#46039f\"],[0.2222222222222222,\"#7201a8\"],[0.3333333333333333,\"#9c179e\"],[0.4444444444444444,\"#bd3786\"],[0.5555555555555556,\"#d8576b\"],[0.6666666666666666,\"#ed7953\"],[0.7777777777777778,\"#fb9f3a\"],[0.8888888888888888,\"#fdca26\"],[1.0,\"#f0f921\"]]}],\"contourcarpet\":[{\"type\":\"contourcarpet\",\"colorbar\":{\"outlinewidth\":0,\"ticks\":\"\"}}],\"contour\":[{\"type\":\"contour\",\"colorbar\":{\"outlinewidth\":0,\"ticks\":\"\"},\"colorscale\":[[0.0,\"#0d0887\"],[0.1111111111111111,\"#46039f\"],[0.2222222222222222,\"#7201a8\"],[0.3333333333333333,\"#9c179e\"],[0.4444444444444444,\"#bd3786\"],[0.5555555555555556,\"#d8576b\"],[0.6666666666666666,\"#ed7953\"],[0.7777777777777778,\"#fb9f3a\"],[0.8888888888888888,\"#fdca26\"],[1.0,\"#f0f921\"]]}],\"surface\":[{\"type\":\"surface\",\"colorbar\":{\"outlinewidth\":0,\"ticks\":\"\"},\"colorscale\":[[0.0,\"#0d0887\"],[0.1111111111111111,\"#46039f\"],[0.2222222222222222,\"#7201a8\"],[0.3333333333333333,\"#9c179e\"],[0.4444444444444444,\"#bd3786\"],[0.5555555555555556,\"#d8576b\"],[0.6666666666666666,\"#ed7953\"],[0.7777777777777778,\"#fb9f3a\"],[0.8888888888888888,\"#fdca26\"],[1.0,\"#f0f921\"]]}],\"mesh3d\":[{\"type\":\"mesh3d\",\"colorbar\":{\"outlinewidth\":0,\"ticks\":\"\"}}],\"scatter\":[{\"fillpattern\":{\"fillmode\":\"overlay\",\"size\":10,\"solidity\":0.2},\"type\":\"scatter\"}],\"parcoords\":[{\"type\":\"parcoords\",\"line\":{\"colorbar\":{\"outlinewidth\":0,\"ticks\":\"\"}}}],\"scatterpolargl\":[{\"type\":\"scatterpolargl\",\"marker\":{\"colorbar\":{\"outlinewidth\":0,\"ticks\":\"\"}}}],\"bar\":[{\"error_x\":{\"color\":\"#2a3f5f\"},\"error_y\":{\"color\":\"#2a3f5f\"},\"marker\":{\"line\":{\"color\":\"#E5ECF6\",\"width\":0.5},\"pattern\":{\"fillmode\":\"overlay\",\"size\":10,\"solidity\":0.2}},\"type\":\"bar\"}],\"scattergeo\":[{\"type\":\"scattergeo\",\"marker\":{\"colorbar\":{\"outlinewidth\":0,\"ticks\":\"\"}}}],\"scatterpolar\":[{\"type\":\"scatterpolar\",\"marker\":{\"colorbar\":{\"outlinewidth\":0,\"ticks\":\"\"}}}],\"histogram\":[{\"marker\":{\"pattern\":{\"fillmode\":\"overlay\",\"size\":10,\"solidity\":0.2}},\"type\":\"histogram\"}],\"scattergl\":[{\"type\":\"scattergl\",\"marker\":{\"colorbar\":{\"outlinewidth\":0,\"ticks\":\"\"}}}],\"scatter3d\":[{\"type\":\"scatter3d\",\"line\":{\"colorbar\":{\"outlinewidth\":0,\"ticks\":\"\"}},\"marker\":{\"colorbar\":{\"outlinewidth\":0,\"ticks\":\"\"}}}],\"scattermapbox\":[{\"type\":\"scattermapbox\",\"marker\":{\"colorbar\":{\"outlinewidth\":0,\"ticks\":\"\"}}}],\"scatterternary\":[{\"type\":\"scatterternary\",\"marker\":{\"colorbar\":{\"outlinewidth\":0,\"ticks\":\"\"}}}],\"scattercarpet\":[{\"type\":\"scattercarpet\",\"marker\":{\"colorbar\":{\"outlinewidth\":0,\"ticks\":\"\"}}}],\"carpet\":[{\"aaxis\":{\"endlinecolor\":\"#2a3f5f\",\"gridcolor\":\"white\",\"linecolor\":\"white\",\"minorgridcolor\":\"white\",\"startlinecolor\":\"#2a3f5f\"},\"baxis\":{\"endlinecolor\":\"#2a3f5f\",\"gridcolor\":\"white\",\"linecolor\":\"white\",\"minorgridcolor\":\"white\",\"startlinecolor\":\"#2a3f5f\"},\"type\":\"carpet\"}],\"table\":[{\"cells\":{\"fill\":{\"color\":\"#EBF0F8\"},\"line\":{\"color\":\"white\"}},\"header\":{\"fill\":{\"color\":\"#C8D4E3\"},\"line\":{\"color\":\"white\"}},\"type\":\"table\"}],\"barpolar\":[{\"marker\":{\"line\":{\"color\":\"#E5ECF6\",\"width\":0.5},\"pattern\":{\"fillmode\":\"overlay\",\"size\":10,\"solidity\":0.2}},\"type\":\"barpolar\"}],\"pie\":[{\"automargin\":true,\"type\":\"pie\"}]},\"layout\":{\"autotypenumbers\":\"strict\",\"colorway\":[\"#636efa\",\"#EF553B\",\"#00cc96\",\"#ab63fa\",\"#FFA15A\",\"#19d3f3\",\"#FF6692\",\"#B6E880\",\"#FF97FF\",\"#FECB52\"],\"font\":{\"color\":\"#2a3f5f\"},\"hovermode\":\"closest\",\"hoverlabel\":{\"align\":\"left\"},\"paper_bgcolor\":\"white\",\"plot_bgcolor\":\"#E5ECF6\",\"polar\":{\"bgcolor\":\"#E5ECF6\",\"angularaxis\":{\"gridcolor\":\"white\",\"linecolor\":\"white\",\"ticks\":\"\"},\"radialaxis\":{\"gridcolor\":\"white\",\"linecolor\":\"white\",\"ticks\":\"\"}},\"ternary\":{\"bgcolor\":\"#E5ECF6\",\"aaxis\":{\"gridcolor\":\"white\",\"linecolor\":\"white\",\"ticks\":\"\"},\"baxis\":{\"gridcolor\":\"white\",\"linecolor\":\"white\",\"ticks\":\"\"},\"caxis\":{\"gridcolor\":\"white\",\"linecolor\":\"white\",\"ticks\":\"\"}},\"coloraxis\":{\"colorbar\":{\"outlinewidth\":0,\"ticks\":\"\"}},\"colorscale\":{\"sequential\":[[0.0,\"#0d0887\"],[0.1111111111111111,\"#46039f\"],[0.2222222222222222,\"#7201a8\"],[0.3333333333333333,\"#9c179e\"],[0.4444444444444444,\"#bd3786\"],[0.5555555555555556,\"#d8576b\"],[0.6666666666666666,\"#ed7953\"],[0.7777777777777778,\"#fb9f3a\"],[0.8888888888888888,\"#fdca26\"],[1.0,\"#f0f921\"]],\"sequentialminus\":[[0.0,\"#0d0887\"],[0.1111111111111111,\"#46039f\"],[0.2222222222222222,\"#7201a8\"],[0.3333333333333333,\"#9c179e\"],[0.4444444444444444,\"#bd3786\"],[0.5555555555555556,\"#d8576b\"],[0.6666666666666666,\"#ed7953\"],[0.7777777777777778,\"#fb9f3a\"],[0.8888888888888888,\"#fdca26\"],[1.0,\"#f0f921\"]],\"diverging\":[[0,\"#8e0152\"],[0.1,\"#c51b7d\"],[0.2,\"#de77ae\"],[0.3,\"#f1b6da\"],[0.4,\"#fde0ef\"],[0.5,\"#f7f7f7\"],[0.6,\"#e6f5d0\"],[0.7,\"#b8e186\"],[0.8,\"#7fbc41\"],[0.9,\"#4d9221\"],[1,\"#276419\"]]},\"xaxis\":{\"gridcolor\":\"white\",\"linecolor\":\"white\",\"ticks\":\"\",\"title\":{\"standoff\":15},\"zerolinecolor\":\"white\",\"automargin\":true,\"zerolinewidth\":2},\"yaxis\":{\"gridcolor\":\"white\",\"linecolor\":\"white\",\"ticks\":\"\",\"title\":{\"standoff\":15},\"zerolinecolor\":\"white\",\"automargin\":true,\"zerolinewidth\":2},\"scene\":{\"xaxis\":{\"backgroundcolor\":\"#E5ECF6\",\"gridcolor\":\"white\",\"linecolor\":\"white\",\"showbackground\":true,\"ticks\":\"\",\"zerolinecolor\":\"white\",\"gridwidth\":2},\"yaxis\":{\"backgroundcolor\":\"#E5ECF6\",\"gridcolor\":\"white\",\"linecolor\":\"white\",\"showbackground\":true,\"ticks\":\"\",\"zerolinecolor\":\"white\",\"gridwidth\":2},\"zaxis\":{\"backgroundcolor\":\"#E5ECF6\",\"gridcolor\":\"white\",\"linecolor\":\"white\",\"showbackground\":true,\"ticks\":\"\",\"zerolinecolor\":\"white\",\"gridwidth\":2}},\"shapedefaults\":{\"line\":{\"color\":\"#2a3f5f\"}},\"annotationdefaults\":{\"arrowcolor\":\"#2a3f5f\",\"arrowhead\":0,\"arrowwidth\":1},\"geo\":{\"bgcolor\":\"white\",\"landcolor\":\"#E5ECF6\",\"subunitcolor\":\"white\",\"showland\":true,\"showlakes\":true,\"lakecolor\":\"white\"},\"title\":{\"x\":0.05},\"mapbox\":{\"style\":\"light\"}}},\"xaxis\":{\"anchor\":\"y\",\"domain\":[0.0,1.0],\"title\":{\"text\":\"Subtopic-wise analysis\"},\"tickangle\":-45},\"yaxis\":{\"anchor\":\"x\",\"domain\":[0.0,1.0],\"title\":{\"text\":\"Number of Questions\"}},\"legend\":{\"title\":{\"text\":\"Answer Type\"},\"tracegroupgap\":0},\"title\":{\"text\":\"Topic-wise Breakdown of Questions\"},\"barmode\":\"group\",\"height\":600},                        {\"responsive\": true}                    ).then(function(){\n",
       "                            \n",
       "var gd = document.getElementById('fe7ad1cf-7c58-4496-b360-6ce4182257df');\n",
       "var x = new MutationObserver(function (mutations, observer) {{\n",
       "        var display = window.getComputedStyle(gd).display;\n",
       "        if (!display || display === 'none') {{\n",
       "            console.log([gd, 'removed!']);\n",
       "            Plotly.purge(gd);\n",
       "            observer.disconnect();\n",
       "        }}\n",
       "}});\n",
       "\n",
       "// Listen for the removal of the full notebook cells\n",
       "var notebookContainer = gd.closest('#notebook-container');\n",
       "if (notebookContainer) {{\n",
       "    x.observe(notebookContainer, {childList: true});\n",
       "}}\n",
       "\n",
       "// Listen for the clearing of the current output cell\n",
       "var outputEl = gd.closest('.output');\n",
       "if (outputEl) {{\n",
       "    x.observe(outputEl, {childList: true});\n",
       "}}\n",
       "\n",
       "                        })                };                });            </script>        </div>"
      ]
     },
     "metadata": {},
     "output_type": "display_data"
    }
   ],
   "source": [
    "# Reshape the DataFrame for plotting\n",
    "df_long = topic_df.melt(id_vars=[\"Chapter\", \"Subtopic\"], \n",
    "                  value_vars=[\"Questions Attempted\", \"Correct Answers\", \"Incorrect Answers\"],\n",
    "                  var_name=\"Answer Type\", value_name=\"Count\")\n",
    "\n",
    "# Create a grouped bar plot\n",
    "fig = px.bar(df_long, x=\"Subtopic\", y=\"Count\", color=\"Answer Type\", \n",
    "             barmode=\"group\", \n",
    "             title=\"Topic-wise Breakdown of Questions\",\n",
    "             labels={\"Count\": \"Number of Questions\"},\n",
    "             height=600)\n",
    "\n",
    "# Update layout for better visualization\n",
    "fig.update_layout(\n",
    "    xaxis_title=\"Subtopic-wise analysis\",\n",
    "    yaxis_title=\"Number of Questions\",\n",
    "    xaxis_tickangle=-45\n",
    ")\n",
    "\n",
    "# Display the plot\n",
    "fig.show()"
   ]
  },
  {
   "cell_type": "code",
   "execution_count": null,
   "metadata": {},
   "outputs": [],
   "source": []
  }
 ],
 "metadata": {
  "kernelspec": {
   "display_name": "Python 3 (ipykernel)",
   "language": "python",
   "name": "python3"
  },
  "language_info": {
   "codemirror_mode": {
    "name": "ipython",
    "version": 3
   },
   "file_extension": ".py",
   "mimetype": "text/x-python",
   "name": "python",
   "nbconvert_exporter": "python",
   "pygments_lexer": "ipython3",
   "version": "3.9.19"
  }
 },
 "nbformat": 4,
 "nbformat_minor": 4
}
