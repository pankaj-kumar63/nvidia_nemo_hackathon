{
 "cells": [
  {
   "cell_type": "markdown",
   "metadata": {},
   "source": [
    "# Importing the necessary Libraries"
   ]
  },
  {
   "cell_type": "code",
   "execution_count": 7,
   "metadata": {},
   "outputs": [],
   "source": [
    "# vector_script.py\n",
    "from llama_parse import LlamaParse  # pip install llama-parse\n",
    "from langchain.text_splitter import RecursiveCharacterTextSplitter\n",
    "from langchain_community.vectorstores import Chroma\n",
    "from langchain_community.document_loaders import DirectoryLoader\n",
    "from langchain_community.document_loaders import UnstructuredMarkdownLoader\n",
    "from langchain_nvidia_ai_endpoints import NVIDIAEmbeddings\n",
    "import os\n",
    "import chromadb\n",
    "from langchain.vectorstores import Chroma\n",
    "from prompt import prompt\n",
    "import nest_asyncio\n",
    "import os\n",
    "nest_asyncio.apply()\n",
    "import time\n",
    "\n"
   ]
  },
  {
   "cell_type": "markdown",
   "metadata": {},
   "source": [
    "# Configure the environment "
   ]
  },
  {
   "cell_type": "code",
   "execution_count": 8,
   "metadata": {},
   "outputs": [],
   "source": [
    "os.environ[\"NVIDIA_API_KEY\"] = \"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\"\n",
    "embedder = NVIDIAEmbeddings()"
   ]
  },
  {
   "cell_type": "markdown",
   "metadata": {},
   "source": [
    "# Initialize the LlamaParse"
   ]
  },
  {
   "cell_type": "code",
   "execution_count": 10,
   "metadata": {},
   "outputs": [
    {
     "name": "stdout",
     "output_type": "stream",
     "text": [
      "['lebo111.pdf', 'lebo113.pdf', 'kebo114.pdf', 'lebo110.pdf', 'kebo116.pdf', 'kebo107.pdf', 'kebo113.pdf', 'kebo118.pdf', 'kebo105.pdf', 'lebo103.pdf', 'lebo101.pdf', 'kebo115.pdf', 'kebo111.pdf', 'lebo109.pdf', 'lebo102.pdf', 'lebo108.pdf', 'kebo112.pdf', 'lebo104.pdf', 'lebo106.pdf', 'kebo108.pdf', 'kebo117.pdf', 'kebo110.pdf', 'lebo100.pdf', 'lebo107.pdf', 'lebo105.pdf', 'lebo112.pdf', 'kebo102.pdf', 'kebo104.pdf', 'kebo119.pdf', 'kebo101.pdf', 'kebo103.pdf', 'kebo106.pdf', 'kebo109.pdf']\n"
     ]
    }
   ],
   "source": [
    "# Set up LlamaParse with your API key\n",
    "parser = LlamaParse(\n",
    "    api_key=\"llx-KSJ1rkHjfN0Le7J8MmrObWtU6x4tkg6cIcrP56PnzO3XO33H\",\n",
    "    result_type=\"markdown\",\n",
    "    parsing_instruction=prompt\n",
    ")\n",
    "\n",
    "# Define directory for input PDFs and output files\n",
    "input_folder = 'Neet_Biology_data/Bio'\n",
    "output_folder = 'Clean_Data_Neet'\n",
    "\n",
    "# List all PDF files in the input folder\n",
    "pdf_files = [f for f in os.listdir(input_folder) if f.endswith('.pdf')]\n",
    "print(pdf_files)"
   ]
  },
  {
   "cell_type": "markdown",
   "metadata": {},
   "source": [
    "# Parsing the files"
   ]
  },
  {
   "cell_type": "code",
   "execution_count": null,
   "metadata": {},
   "outputs": [],
   "source": [
    "# Iterate through each PDF file\n",
    "for pdf_file in pdf_files:\n",
    "    pdf_path = os.path.join(input_folder, pdf_file)\n",
    "    \n",
    "    # Parse the PDF using LlamaParse\n",
    "    documents = parser.load_data(pdf_path)  # or await parser.aload_data() if using async\n",
    "    \n",
    "    # Extract file name without extension to use in output\n",
    "    file_name = os.path.splitext(pdf_file)[0]\n",
    "    \n",
    "    # Save parsed content into a markdown file\n",
    "    markdown_path = os.path.join(output_folder, f'{file_name}.md')\n",
    "    with open(markdown_path, 'a', encoding='utf-8') as f:\n",
    "        for doc in documents:\n",
    "            f.write(doc.text + '\\n')\n",
    "    time.sleep(1)\n",
    "    print(f\"first_{file_name} done\")"
   ]
  },
  {
   "cell_type": "code",
   "execution_count": 1,
   "metadata": {},
   "outputs": [],
   "source": [
    "with open(\"sample.json\", \"r\") as outfile:\n",
    "        data = outfile.read()"
   ]
  },
  {
   "cell_type": "code",
   "execution_count": 2,
   "metadata": {},
   "outputs": [
    {
     "data": {
      "text/plain": [
       "12041"
      ]
     },
     "execution_count": 2,
     "metadata": {},
     "output_type": "execute_result"
    }
   ],
   "source": [
    "len(data)"
   ]
  },
  {
   "cell_type": "code",
   "execution_count": 3,
   "metadata": {},
   "outputs": [
    {
     "data": {
      "text/plain": [
       "'[\\n    {\\n        \"question\": \"What is the powerhouse of the cell?\",\\n        \"options\": [\\n            \"Nucleus\",\\n            \"Mitochondria\",\\n            \"Ribosome\",\\n            \"Golgi Apparatus\"\\n        ],\\n        \"user_answer\": \"Mitochondria\",\\n        \"correct_answer\": \"Mitochondria\"\\n    },\\n    {\\n        \"question\": \"Which biomolecule is the primary source of energy for most living organisms?\",\\n        \"options\": [\\n            \"Proteins\",\\n            \"Carbohydrates\",\\n            \"Lipids\",\\n            \"Nucleic Acids\"\\n        ],\\n        \"user_answer\": \"Proteins\",\\n        \"correct_answer\": \"Carbohydrates\"\\n    },\\n    {\\n        \"question\": \"What is the genetic material in most organisms?\",\\n        \"options\": [\\n            \"RNA\",\\n            \"DNA\",\\n            \"Proteins\",\\n            \"Carbohydrates\"\\n        ],\\n        \"user_answer\": \"DNA\",\\n        \"correct_answer\": \"DNA\"\\n    },\\n    {\\n        \"question\": \"What is the process by which plants make their food?\",\\n        \"options\": [\\n            \"Respiration\",\\n            \"Photosynthesis\",\\n            \"Transpiration\",\\n            \"Digestion\"\\n        ],\\n        \"user_answer\": \"Respiration\",\\n        \"correct_answer\": \"Photosynthesis\"\\n    },\\n    {\\n        \"question\": \"Which blood cells are responsible for carrying oxygen?\",\\n        \"options\": [\\n            \"White Blood Cells\",\\n            \"Red Blood Cells\",\\n            \"Platelets\",\\n            \"Plasma\"\\n        ],\\n        \"user_answer\": \"Platelets\",\\n        \"correct_answer\": \"Red Blood Cells\"\\n    },\\n    {\\n        \"question\": \"Which organ is primarily responsible for filtering waste from the blood?\",\\n        \"options\": [\\n            \"Heart\",\\n            \"Kidney\",\\n            \"Liver\",\\n            \"Lungs\"\\n        ],\\n        \"user_answer\": \"Heart\",\\n        \"correct_answer\": \"Kidney\"\\n    },\\n    {\\n        \"question\": \"What is the role of the enzyme amylase?\",\\n        \"options\": [\\n            \"Break down proteins\",\\n            \"Break down starch\",\\n            \"Break down fats\",\\n            \"Break down nucleic acids\"\\n        ],\\n        \"user_answer\": \"Break down starch\",\\n        \"correct_answer\": \"Break down starch\"\\n    },\\n    {\\n        \"question\": \"Which vitamin is essential for blood clotting?\",\\n        \"options\": [\\n            \"Vitamin A\",\\n            \"Vitamin C\",\\n            \"Vitamin D\",\\n            \"Vitamin K\"\\n        ],\\n        \"user_answer\": \"Vitamin A\",\\n        \"correct_answer\": \"Vitamin K\"\\n    },\\n    {\\n        \"question\": \"What is the name of the structure that connects muscles to bones?\",\\n        \"options\": [\\n            \"Ligament\",\\n            \"Tendon\",\\n            \"Cartilage\",\\n            \"Nerve\"\\n        ],\\n        \"user_answer\": \"Tendon\",\\n        \"correct_answer\": \"Tendon\"\\n    },\\n    {\\n        \"question\": \"What is the basic unit of life?\",\\n        \"options\": [\\n            \"Atom\",\\n            \"Molecule\",\\n            \"Cell\",\\n            \"Tissue\"\\n        ],\\n        \"user_answer\": \"Molecule\",\\n        \"correct_answer\": \"Cell\"\\n    },\\n    {\\n        \"question\": \"Which part of the cell contains genetic information?\",\\n        \"options\": [\\n            \"Nucleus\",\\n            \"Cytoplasm\",\\n            \"Mitochondria\",\\n            \"Ribosome\"\\n        ],\\n        \"user_answer\": \"Cytoplasm\",\\n        \"correct_answer\": \"Nucleus\"\\n    },\\n    {\\n        \"question\": \"What process is responsible for cell division in somatic cells?\",\\n        \"options\": [\\n            \"Meiosis\",\\n            \"Mitosis\",\\n            \"Photosynthesis\",\\n            \"Apoptosis\"\\n        ],\\n        \"user_answer\": \"Mitosis\",\\n        \"correct_answer\": \"Mitosis\"\\n    },\\n    {\\n        \"question\": \"What is the function of the human liver?\",\\n        \"options\": [\\n            \"Secretes insulin\",\\n            \"Filters blood\",\\n            \"Produces bile\",\\n            \"Absorbs nutrients\"\\n        ],\\n        \"user_answer\": \"Absorbs nutrients\",\\n        \"correct_answer\": \"Produces bile\"\\n    },\\n    {\\n        \"question\": \"Which gas is absorbed by plants during photosynthesis?\",\\n        \"options\": [\\n            \"Oxygen\",\\n            \"Nitrogen\",\\n            \"Carbon dioxide\",\\n            \"Methane\"\\n        ],\\n        \"user_answer\": \"Oxygen\",\\n        \"correct_answer\": \"Carbon dioxide\"\\n    },\\n    {\\n        \"question\": \"What is the main component of the plant cell wall?\",\\n        \"options\": [\\n            \"Chitin\",\\n            \"Cellulose\",\\n            \"Keratin\",\\n            \"Collagen\"\\n        ],\\n        \"user_answer\": \"Cellulose\",\\n        \"correct_answer\": \"Cellulose\"\\n    },\\n    {\\n        \"question\": \"What type of blood can be given to any patient regardless of their blood type?\",\\n        \"options\": [\\n            \"Type A\",\\n            \"Type B\",\\n            \"Type O\",\\n            \"Type AB\"\\n        ],\\n        \"user_answer\": \"Type A\",\\n        \"correct_answer\": \"Type O\"\\n    },\\n    {\\n        \"question\": \"What is the smallest bone in the human body?\",\\n        \"options\": [\\n            \"Femur\",\\n            \"Humerus\",\\n            \"Stapes\",\\n            \"Tibia\"\\n        ],\\n        \"user_answer\": \"Stapes\",\\n        \"correct_answer\": \"Stapes\"\\n    },\\n    {\\n        \"question\": \"Which organ is responsible for producing insulin?\",\\n        \"options\": [\\n            \"Liver\",\\n            \"Pancreas\",\\n            \"Stomach\",\\n            \"Gallbladder\"\\n        ],\\n        \"user_answer\": \"Pancreas\",\\n        \"correct_answer\": \"Pancreas\"\\n    },\\n    {\\n        \"question\": \"Which part of the brain controls balance and coordination?\",\\n        \"options\": [\\n            \"Cerebellum\",\\n            \"Cerebrum\",\\n            \"Medulla\",\\n            \"Thalamus\"\\n        ],\\n        \"user_answer\": \"Medulla\",\\n        \"correct_answer\": \"Cerebellum\"\\n    },\\n    {\\n        \"question\": \"What process involves the movement of water through a semi-permeable membrane?\",\\n        \"options\": [\\n            \"Osmosis\",\\n            \"Diffusion\",\\n            \"Active transport\",\\n            \"Endocytosis\"\\n        ],\\n        \"user_answer\": \"Active transport\",\\n        \"correct_answer\": \"Osmosis\"\\n    },\\n    {\\n        \"question\": \"What type of joint is found in the human shoulder?\",\\n        \"options\": [\\n            \"Hinge joint\",\\n            \"Ball and socket joint\",\\n            \"Pivot joint\",\\n            \"Fixed joint\"\\n        ],\\n        \"user_answer\": \"Ball and socket joint\",\\n        \"correct_answer\": \"Ball and socket joint\"\\n    },\\n    {\\n        \"question\": \"Which hormone regulates the metabolism of carbohydrates, fats, and proteins?\",\\n        \"options\": [\\n            \"Insulin\",\\n            \"Cortisol\",\\n            \"Adrenaline\",\\n            \"Thyroxine\"\\n        ],\\n        \"user_answer\": \"Cortisol\",\\n        \"correct_answer\": \"Thyroxine\"\\n    },\\n    {\\n        \"question\": \"What is the term for a group of similar cells working together?\",\\n        \"options\": [\\n            \"Organ\",\\n            \"Tissue\",\\n            \"Organism\",\\n            \"System\"\\n        ],\\n        \"user_answer\": \"System\",\\n        \"correct_answer\": \"Tissue\"\\n    },\\n    {\\n        \"question\": \"Which blood vessels carry blood away from the heart?\",\\n        \"options\": [\\n            \"Veins\",\\n            \"Arteries\",\\n            \"Capillaries\",\\n            \"Lymph vessels\"\\n        ],\\n        \"user_answer\": \"Veins\",\\n        \"correct_answer\": \"Arteries\"\\n    },\\n    {\\n        \"question\": \"Which pigment is responsible for the green color of plants?\",\\n        \"options\": [\\n            \"Hemoglobin\",\\n            \"Melanin\",\\n            \"Chlorophyll\",\\n            \"Keratin\"\\n        ],\\n        \"user_answer\": \"Chlorophyll\",\\n        \"correct_answer\": \"Chlorophyll\"\\n    },\\n    {\\n        \"question\": \"Which human organ is involved in detoxifying harmful substances?\",\\n        \"options\": [\\n            \"Kidneys\",\\n            \"Liver\",\\n            \"Lungs\",\\n            \"Spleen\"\\n        ],\\n        \"user_answer\": \"Liver\",\\n        \"correct_answer\": \"Liver\"\\n    },\\n    {\\n        \"question\": \"Which structure in plant cells is responsible for photosynthesis?\",\\n        \"options\": [\\n            \"Mitochondria\",\\n            \"Chloroplast\",\\n            \"Ribosome\",\\n            \"Nucleus\"\\n        ],\\n        \"user_answer\": \"Ribosome\",\\n        \"correct_answer\": \"Chloroplast\"\\n    },\\n    {\\n        \"question\": \"Which system in the human body is responsible for transporting nutrients and gases?\",\\n        \"options\": [\\n            \"Nervous system\",\\n            \"Circulatory system\",\\n            \"Digestive system\",\\n            \"Skeletal system\"\\n        ],\\n        \"user_answer\": \"Nervous system\",\\n        \"correct_answer\": \"Circulatory system\"\\n    },\\n    {\\n        \"question\": \"What type of organism is yeast?\",\\n        \"options\": [\\n            \"Bacteria\",\\n            \"Fungus\",\\n            \"Virus\",\\n            \"Algae\"\\n        ],\\n        \"user_answer\": \"Virus\",\\n        \"correct_answer\": \"Fungus\"\\n    },\\n    {\\n        \"question\": \"Which vitamin is produced when the skin is exposed to sunlight?\",\\n        \"options\": [\\n            \"Vitamin A\",\\n            \"Vitamin B12\",\\n            \"Vitamin C\",\\n            \"Vitamin D\"\\n        ],\\n        \"user_answer\": \"Vitamin C\",\\n        \"correct_answer\": \"Vitamin D\"\\n    },\\n    {\\n        \"question\": \"What is the name of the process by which cells obtain energy from glucose?\",\\n        \"options\": [\\n            \"Fermentation\",\\n            \"Photosynthesis\",\\n            \"Cellular respiration\",\\n            \"Glycolysis\"\\n        ],\\n        \"user_answer\": \"Glycolysis\",\\n        \"correct_answer\": \"Cellular respiration\"\\n    },\\n    {\\n        \"question\": \"Which part of the neuron receives signals?\",\\n        \"options\": [\\n            \"Axon\",\\n            \"Dendrites\",\\n            \"Synapse\",\\n            \"Myelin sheath\"\\n        ],\\n        \"user_answer\": \"Synapse\",\\n        \"correct_answer\": \"Dendrites\"\\n    },\\n    {\\n        \"question\": \"What is the structural unit of the kidney?\",\\n        \"options\": [\\n            \"Alveolus\",\\n            \"Nephron\",\\n            \"Glomerulus\",\\n            \"Villi\"\\n        ],\\n        \"user_answer\": \"Glomerulus\",\\n        \"correct_answer\": \"Nephron\"\\n    },\\n    {\\n        \"question\": \"Which process results in the formation of gametes?\",\\n        \"options\": [\\n            \"Mitosis\",\\n            \"Meiosis\",\\n            \"Binary fission\",\\n            \"Budding\"\\n        ],\\n        \"user_answer\": \"Meiosis\",\\n        \"correct_answer\": \"Meiosis\"\\n    },\\n    {\\n        \"question\": \"Which type of muscle is responsible for voluntary movements?\",\\n        \"options\": [\\n            \"Smooth muscle\",\\n            \"Cardiac muscle\",\\n            \"Skeletal muscle\",\\n            \"Myocardial muscle\"\\n        ],\\n        \"user_answer\": \"Skeletal muscle\",\\n        \"correct_answer\": \"Skeletal muscle\"\\n    },\\n    {\\n        \"question\": \"Which component of the blood helps in clotting?\",\\n        \"options\": [\\n            \"Red blood cells\",\\n            \"White blood cells\",\\n            \"Platelets\",\\n            \"Plasma\"\\n        ],\\n        \"user_answer\": \"White blood cells\",\\n        \"correct_answer\": \"Platelets\"\\n    },\\n    {\\n        \"question\": \"Which biomolecule carries the genetic information?\",\\n        \"options\": [\\n            \"Carbohydrates\",\\n            \"Proteins\",\\n            \"Lipids\",\\n            \"Nucleic acids\"\\n        ],\\n        \"user_answer\": \"Proteins\",\\n        \"correct_answer\": \"Nucleic acids\"\\n    },\\n    {\\n        \"question\": \"What is the largest organ in the human body?\",\\n        \"options\": [\\n            \"Heart\",\\n            \"Brain\",\\n            \"Liver\",\\n            \"Skin\"\\n        ],\\n        \"user_answer\": \"Brain\",\\n        \"correct_answer\": \"Skin\"\\n    },\\n    {\\n        \"question\": \"What is the function of ribosomes in a cell?\",\\n        \"options\": [\\n            \"Energy production\",\\n            \"Protein synthesis\",\\n            \"DNA replication\",\\n            \"Lipid metabolism\"\\n        ],\\n        \"user_answer\": \"Protein synthesis\",\\n        \"correct_answer\": \"Protein synthesis\"\\n    },\\n    {\\n        \"question\": \"What is the primary function of white blood cells?\",\\n        \"options\": [\\n            \"Transport oxygen\",\\n            \"Clot blood\",\\n            \"Fight infections\",\\n            \"Store fat\"\\n        ],\\n        \"user_answer\": \"Clot blood\",\\n        \"correct_answer\": \"Fight infections\"\\n    }\\n]'"
      ]
     },
     "execution_count": 3,
     "metadata": {},
     "output_type": "execute_result"
    }
   ],
   "source": [
    "data"
   ]
  },
  {
   "cell_type": "code",
   "execution_count": 7,
   "metadata": {},
   "outputs": [],
   "source": [
    "import json\n",
    "questions = json.loads(data)"
   ]
  },
  {
   "cell_type": "code",
   "execution_count": 8,
   "metadata": {},
   "outputs": [
    {
     "data": {
      "text/plain": [
       "[{'question': 'What is the powerhouse of the cell?',\n",
       "  'options': ['Nucleus', 'Mitochondria', 'Ribosome', 'Golgi Apparatus'],\n",
       "  'user_answer': 'Mitochondria',\n",
       "  'correct_answer': 'Mitochondria'},\n",
       " {'question': 'Which biomolecule is the primary source of energy for most living organisms?',\n",
       "  'options': ['Proteins', 'Carbohydrates', 'Lipids', 'Nucleic Acids'],\n",
       "  'user_answer': 'Proteins',\n",
       "  'correct_answer': 'Carbohydrates'},\n",
       " {'question': 'What is the genetic material in most organisms?',\n",
       "  'options': ['RNA', 'DNA', 'Proteins', 'Carbohydrates'],\n",
       "  'user_answer': 'DNA',\n",
       "  'correct_answer': 'DNA'},\n",
       " {'question': 'What is the process by which plants make their food?',\n",
       "  'options': ['Respiration', 'Photosynthesis', 'Transpiration', 'Digestion'],\n",
       "  'user_answer': 'Respiration',\n",
       "  'correct_answer': 'Photosynthesis'},\n",
       " {'question': 'Which blood cells are responsible for carrying oxygen?',\n",
       "  'options': ['White Blood Cells', 'Red Blood Cells', 'Platelets', 'Plasma'],\n",
       "  'user_answer': 'Platelets',\n",
       "  'correct_answer': 'Red Blood Cells'},\n",
       " {'question': 'Which organ is primarily responsible for filtering waste from the blood?',\n",
       "  'options': ['Heart', 'Kidney', 'Liver', 'Lungs'],\n",
       "  'user_answer': 'Heart',\n",
       "  'correct_answer': 'Kidney'},\n",
       " {'question': 'What is the role of the enzyme amylase?',\n",
       "  'options': ['Break down proteins',\n",
       "   'Break down starch',\n",
       "   'Break down fats',\n",
       "   'Break down nucleic acids'],\n",
       "  'user_answer': 'Break down starch',\n",
       "  'correct_answer': 'Break down starch'},\n",
       " {'question': 'Which vitamin is essential for blood clotting?',\n",
       "  'options': ['Vitamin A', 'Vitamin C', 'Vitamin D', 'Vitamin K'],\n",
       "  'user_answer': 'Vitamin A',\n",
       "  'correct_answer': 'Vitamin K'},\n",
       " {'question': 'What is the name of the structure that connects muscles to bones?',\n",
       "  'options': ['Ligament', 'Tendon', 'Cartilage', 'Nerve'],\n",
       "  'user_answer': 'Tendon',\n",
       "  'correct_answer': 'Tendon'},\n",
       " {'question': 'What is the basic unit of life?',\n",
       "  'options': ['Atom', 'Molecule', 'Cell', 'Tissue'],\n",
       "  'user_answer': 'Molecule',\n",
       "  'correct_answer': 'Cell'},\n",
       " {'question': 'Which part of the cell contains genetic information?',\n",
       "  'options': ['Nucleus', 'Cytoplasm', 'Mitochondria', 'Ribosome'],\n",
       "  'user_answer': 'Cytoplasm',\n",
       "  'correct_answer': 'Nucleus'},\n",
       " {'question': 'What process is responsible for cell division in somatic cells?',\n",
       "  'options': ['Meiosis', 'Mitosis', 'Photosynthesis', 'Apoptosis'],\n",
       "  'user_answer': 'Mitosis',\n",
       "  'correct_answer': 'Mitosis'},\n",
       " {'question': 'What is the function of the human liver?',\n",
       "  'options': ['Secretes insulin',\n",
       "   'Filters blood',\n",
       "   'Produces bile',\n",
       "   'Absorbs nutrients'],\n",
       "  'user_answer': 'Absorbs nutrients',\n",
       "  'correct_answer': 'Produces bile'},\n",
       " {'question': 'Which gas is absorbed by plants during photosynthesis?',\n",
       "  'options': ['Oxygen', 'Nitrogen', 'Carbon dioxide', 'Methane'],\n",
       "  'user_answer': 'Oxygen',\n",
       "  'correct_answer': 'Carbon dioxide'},\n",
       " {'question': 'What is the main component of the plant cell wall?',\n",
       "  'options': ['Chitin', 'Cellulose', 'Keratin', 'Collagen'],\n",
       "  'user_answer': 'Cellulose',\n",
       "  'correct_answer': 'Cellulose'},\n",
       " {'question': 'What type of blood can be given to any patient regardless of their blood type?',\n",
       "  'options': ['Type A', 'Type B', 'Type O', 'Type AB'],\n",
       "  'user_answer': 'Type A',\n",
       "  'correct_answer': 'Type O'},\n",
       " {'question': 'What is the smallest bone in the human body?',\n",
       "  'options': ['Femur', 'Humerus', 'Stapes', 'Tibia'],\n",
       "  'user_answer': 'Stapes',\n",
       "  'correct_answer': 'Stapes'},\n",
       " {'question': 'Which organ is responsible for producing insulin?',\n",
       "  'options': ['Liver', 'Pancreas', 'Stomach', 'Gallbladder'],\n",
       "  'user_answer': 'Pancreas',\n",
       "  'correct_answer': 'Pancreas'},\n",
       " {'question': 'Which part of the brain controls balance and coordination?',\n",
       "  'options': ['Cerebellum', 'Cerebrum', 'Medulla', 'Thalamus'],\n",
       "  'user_answer': 'Medulla',\n",
       "  'correct_answer': 'Cerebellum'},\n",
       " {'question': 'What process involves the movement of water through a semi-permeable membrane?',\n",
       "  'options': ['Osmosis', 'Diffusion', 'Active transport', 'Endocytosis'],\n",
       "  'user_answer': 'Active transport',\n",
       "  'correct_answer': 'Osmosis'},\n",
       " {'question': 'What type of joint is found in the human shoulder?',\n",
       "  'options': ['Hinge joint',\n",
       "   'Ball and socket joint',\n",
       "   'Pivot joint',\n",
       "   'Fixed joint'],\n",
       "  'user_answer': 'Ball and socket joint',\n",
       "  'correct_answer': 'Ball and socket joint'},\n",
       " {'question': 'Which hormone regulates the metabolism of carbohydrates, fats, and proteins?',\n",
       "  'options': ['Insulin', 'Cortisol', 'Adrenaline', 'Thyroxine'],\n",
       "  'user_answer': 'Cortisol',\n",
       "  'correct_answer': 'Thyroxine'},\n",
       " {'question': 'What is the term for a group of similar cells working together?',\n",
       "  'options': ['Organ', 'Tissue', 'Organism', 'System'],\n",
       "  'user_answer': 'System',\n",
       "  'correct_answer': 'Tissue'},\n",
       " {'question': 'Which blood vessels carry blood away from the heart?',\n",
       "  'options': ['Veins', 'Arteries', 'Capillaries', 'Lymph vessels'],\n",
       "  'user_answer': 'Veins',\n",
       "  'correct_answer': 'Arteries'},\n",
       " {'question': 'Which pigment is responsible for the green color of plants?',\n",
       "  'options': ['Hemoglobin', 'Melanin', 'Chlorophyll', 'Keratin'],\n",
       "  'user_answer': 'Chlorophyll',\n",
       "  'correct_answer': 'Chlorophyll'},\n",
       " {'question': 'Which human organ is involved in detoxifying harmful substances?',\n",
       "  'options': ['Kidneys', 'Liver', 'Lungs', 'Spleen'],\n",
       "  'user_answer': 'Liver',\n",
       "  'correct_answer': 'Liver'},\n",
       " {'question': 'Which structure in plant cells is responsible for photosynthesis?',\n",
       "  'options': ['Mitochondria', 'Chloroplast', 'Ribosome', 'Nucleus'],\n",
       "  'user_answer': 'Ribosome',\n",
       "  'correct_answer': 'Chloroplast'},\n",
       " {'question': 'Which system in the human body is responsible for transporting nutrients and gases?',\n",
       "  'options': ['Nervous system',\n",
       "   'Circulatory system',\n",
       "   'Digestive system',\n",
       "   'Skeletal system'],\n",
       "  'user_answer': 'Nervous system',\n",
       "  'correct_answer': 'Circulatory system'},\n",
       " {'question': 'What type of organism is yeast?',\n",
       "  'options': ['Bacteria', 'Fungus', 'Virus', 'Algae'],\n",
       "  'user_answer': 'Virus',\n",
       "  'correct_answer': 'Fungus'},\n",
       " {'question': 'Which vitamin is produced when the skin is exposed to sunlight?',\n",
       "  'options': ['Vitamin A', 'Vitamin B12', 'Vitamin C', 'Vitamin D'],\n",
       "  'user_answer': 'Vitamin C',\n",
       "  'correct_answer': 'Vitamin D'},\n",
       " {'question': 'What is the name of the process by which cells obtain energy from glucose?',\n",
       "  'options': ['Fermentation',\n",
       "   'Photosynthesis',\n",
       "   'Cellular respiration',\n",
       "   'Glycolysis'],\n",
       "  'user_answer': 'Glycolysis',\n",
       "  'correct_answer': 'Cellular respiration'},\n",
       " {'question': 'Which part of the neuron receives signals?',\n",
       "  'options': ['Axon', 'Dendrites', 'Synapse', 'Myelin sheath'],\n",
       "  'user_answer': 'Synapse',\n",
       "  'correct_answer': 'Dendrites'},\n",
       " {'question': 'What is the structural unit of the kidney?',\n",
       "  'options': ['Alveolus', 'Nephron', 'Glomerulus', 'Villi'],\n",
       "  'user_answer': 'Glomerulus',\n",
       "  'correct_answer': 'Nephron'},\n",
       " {'question': 'Which process results in the formation of gametes?',\n",
       "  'options': ['Mitosis', 'Meiosis', 'Binary fission', 'Budding'],\n",
       "  'user_answer': 'Meiosis',\n",
       "  'correct_answer': 'Meiosis'},\n",
       " {'question': 'Which type of muscle is responsible for voluntary movements?',\n",
       "  'options': ['Smooth muscle',\n",
       "   'Cardiac muscle',\n",
       "   'Skeletal muscle',\n",
       "   'Myocardial muscle'],\n",
       "  'user_answer': 'Skeletal muscle',\n",
       "  'correct_answer': 'Skeletal muscle'},\n",
       " {'question': 'Which component of the blood helps in clotting?',\n",
       "  'options': ['Red blood cells', 'White blood cells', 'Platelets', 'Plasma'],\n",
       "  'user_answer': 'White blood cells',\n",
       "  'correct_answer': 'Platelets'},\n",
       " {'question': 'Which biomolecule carries the genetic information?',\n",
       "  'options': ['Carbohydrates', 'Proteins', 'Lipids', 'Nucleic acids'],\n",
       "  'user_answer': 'Proteins',\n",
       "  'correct_answer': 'Nucleic acids'},\n",
       " {'question': 'What is the largest organ in the human body?',\n",
       "  'options': ['Heart', 'Brain', 'Liver', 'Skin'],\n",
       "  'user_answer': 'Brain',\n",
       "  'correct_answer': 'Skin'},\n",
       " {'question': 'What is the function of ribosomes in a cell?',\n",
       "  'options': ['Energy production',\n",
       "   'Protein synthesis',\n",
       "   'DNA replication',\n",
       "   'Lipid metabolism'],\n",
       "  'user_answer': 'Protein synthesis',\n",
       "  'correct_answer': 'Protein synthesis'},\n",
       " {'question': 'What is the primary function of white blood cells?',\n",
       "  'options': ['Transport oxygen',\n",
       "   'Clot blood',\n",
       "   'Fight infections',\n",
       "   'Store fat'],\n",
       "  'user_answer': 'Clot blood',\n",
       "  'correct_answer': 'Fight infections'}]"
      ]
     },
     "execution_count": 8,
     "metadata": {},
     "output_type": "execute_result"
    }
   ],
   "source": [
    "questions"
   ]
  },
  {
   "cell_type": "code",
   "execution_count": 10,
   "metadata": {},
   "outputs": [
    {
     "data": {
      "text/plain": [
       "40"
      ]
     },
     "execution_count": 10,
     "metadata": {},
     "output_type": "execute_result"
    }
   ],
   "source": [
    "len(questions)"
   ]
  },
  {
   "cell_type": "code",
   "execution_count": null,
   "metadata": {},
   "outputs": [],
   "source": []
  }
 ],
 "metadata": {
  "kernelspec": {
   "display_name": "Python 3 (ipykernel)",
   "language": "python",
   "name": "python3"
  },
  "language_info": {
   "codemirror_mode": {
    "name": "ipython",
    "version": 3
   },
   "file_extension": ".py",
   "mimetype": "text/x-python",
   "name": "python",
   "nbconvert_exporter": "python",
   "pygments_lexer": "ipython3",
   "version": "3.9.19"
  }
 },
 "nbformat": 4,
 "nbformat_minor": 4
}
